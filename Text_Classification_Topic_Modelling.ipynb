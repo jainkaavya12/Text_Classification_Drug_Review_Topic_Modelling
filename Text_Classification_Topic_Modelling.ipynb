{
  "nbformat": 4,
  "nbformat_minor": 0,
  "metadata": {
    "colab": {
      "provenance": []
    },
    "kernelspec": {
      "name": "python3",
      "display_name": "Python 3"
    },
    "language_info": {
      "name": "python"
    }
  },
  "cells": [
    {
      "cell_type": "code",
      "execution_count": 2,
      "metadata": {
        "id": "gmaMpCyikiIc"
      },
      "outputs": [],
      "source": [
        "# Importing Libraries\n",
        "import pandas as pd\n",
        "import numpy as np\n",
        "\n",
        "from sklearn.decomposition import LatentDirichletAllocation, TruncatedSVD\n",
        "from sklearn.feature_extraction.text import CountVectorizer\n",
        "from sklearn.feature_extraction.text import TfidfVectorizer\n",
        "\n",
        "#nltk.download()\n",
        "import nltk\n",
        "\n",
        "import re\n",
        "from nltk.stem.wordnet import WordNetLemmatizer"
      ]
    },
    {
      "cell_type": "code",
      "source": [
        "from google.colab import drive\n",
        "drive.mount('/content/drive')"
      ],
      "metadata": {
        "colab": {
          "base_uri": "https://localhost:8080/"
        },
        "id": "2L_FMiu7o6p_",
        "outputId": "1cd0a8dc-7596-42be-ea76-6bbae8075a9f"
      },
      "execution_count": 3,
      "outputs": [
        {
          "output_type": "stream",
          "name": "stdout",
          "text": [
            "Mounted at /content/drive\n"
          ]
        }
      ]
    },
    {
      "cell_type": "code",
      "source": [
        "df = pd.read_csv('//content//drive//MyDrive//All CSV//drug.csv')"
      ],
      "metadata": {
        "id": "LaG7moOdo4R6"
      },
      "execution_count": 4,
      "outputs": []
    },
    {
      "cell_type": "code",
      "source": [
        "df.head()"
      ],
      "metadata": {
        "colab": {
          "base_uri": "https://localhost:8080/",
          "height": 206
        },
        "id": "sxxTU7NDpYo9",
        "outputId": "f3aadcb5-ac6f-4ace-acd8-44e32f13bb62"
      },
      "execution_count": 5,
      "outputs": [
        {
          "output_type": "execute_result",
          "data": {
            "text/plain": [
              "        urlDrugName  rating  \\\n",
              "0         enalapril       4   \n",
              "1  ortho-tri-cyclen       1   \n",
              "2           ponstel      10   \n",
              "3          prilosec       3   \n",
              "4            lyrica       2   \n",
              "\n",
              "                                              Review score  \n",
              "0  enalapril management of congestive heart failu...   Low  \n",
              "1  ortho-tri-cyclen birth prevention - Although t...   Low  \n",
              "2  ponstel menstrual cramps - I was used to havin...  high  \n",
              "3  prilosec acid reflux - The acid reflux went aw...   Low  \n",
              "4  lyrica fibromyalgia - I think that the Lyrica ...   Low  "
            ],
            "text/html": [
              "\n",
              "  <div id=\"df-bd858347-9aa7-4388-8312-a6f7373f7577\" class=\"colab-df-container\">\n",
              "    <div>\n",
              "<style scoped>\n",
              "    .dataframe tbody tr th:only-of-type {\n",
              "        vertical-align: middle;\n",
              "    }\n",
              "\n",
              "    .dataframe tbody tr th {\n",
              "        vertical-align: top;\n",
              "    }\n",
              "\n",
              "    .dataframe thead th {\n",
              "        text-align: right;\n",
              "    }\n",
              "</style>\n",
              "<table border=\"1\" class=\"dataframe\">\n",
              "  <thead>\n",
              "    <tr style=\"text-align: right;\">\n",
              "      <th></th>\n",
              "      <th>urlDrugName</th>\n",
              "      <th>rating</th>\n",
              "      <th>Review</th>\n",
              "      <th>score</th>\n",
              "    </tr>\n",
              "  </thead>\n",
              "  <tbody>\n",
              "    <tr>\n",
              "      <th>0</th>\n",
              "      <td>enalapril</td>\n",
              "      <td>4</td>\n",
              "      <td>enalapril management of congestive heart failu...</td>\n",
              "      <td>Low</td>\n",
              "    </tr>\n",
              "    <tr>\n",
              "      <th>1</th>\n",
              "      <td>ortho-tri-cyclen</td>\n",
              "      <td>1</td>\n",
              "      <td>ortho-tri-cyclen birth prevention - Although t...</td>\n",
              "      <td>Low</td>\n",
              "    </tr>\n",
              "    <tr>\n",
              "      <th>2</th>\n",
              "      <td>ponstel</td>\n",
              "      <td>10</td>\n",
              "      <td>ponstel menstrual cramps - I was used to havin...</td>\n",
              "      <td>high</td>\n",
              "    </tr>\n",
              "    <tr>\n",
              "      <th>3</th>\n",
              "      <td>prilosec</td>\n",
              "      <td>3</td>\n",
              "      <td>prilosec acid reflux - The acid reflux went aw...</td>\n",
              "      <td>Low</td>\n",
              "    </tr>\n",
              "    <tr>\n",
              "      <th>4</th>\n",
              "      <td>lyrica</td>\n",
              "      <td>2</td>\n",
              "      <td>lyrica fibromyalgia - I think that the Lyrica ...</td>\n",
              "      <td>Low</td>\n",
              "    </tr>\n",
              "  </tbody>\n",
              "</table>\n",
              "</div>\n",
              "    <div class=\"colab-df-buttons\">\n",
              "\n",
              "  <div class=\"colab-df-container\">\n",
              "    <button class=\"colab-df-convert\" onclick=\"convertToInteractive('df-bd858347-9aa7-4388-8312-a6f7373f7577')\"\n",
              "            title=\"Convert this dataframe to an interactive table.\"\n",
              "            style=\"display:none;\">\n",
              "\n",
              "  <svg xmlns=\"http://www.w3.org/2000/svg\" height=\"24px\" viewBox=\"0 -960 960 960\">\n",
              "    <path d=\"M120-120v-720h720v720H120Zm60-500h600v-160H180v160Zm220 220h160v-160H400v160Zm0 220h160v-160H400v160ZM180-400h160v-160H180v160Zm440 0h160v-160H620v160ZM180-180h160v-160H180v160Zm440 0h160v-160H620v160Z\"/>\n",
              "  </svg>\n",
              "    </button>\n",
              "\n",
              "  <style>\n",
              "    .colab-df-container {\n",
              "      display:flex;\n",
              "      gap: 12px;\n",
              "    }\n",
              "\n",
              "    .colab-df-convert {\n",
              "      background-color: #E8F0FE;\n",
              "      border: none;\n",
              "      border-radius: 50%;\n",
              "      cursor: pointer;\n",
              "      display: none;\n",
              "      fill: #1967D2;\n",
              "      height: 32px;\n",
              "      padding: 0 0 0 0;\n",
              "      width: 32px;\n",
              "    }\n",
              "\n",
              "    .colab-df-convert:hover {\n",
              "      background-color: #E2EBFA;\n",
              "      box-shadow: 0px 1px 2px rgba(60, 64, 67, 0.3), 0px 1px 3px 1px rgba(60, 64, 67, 0.15);\n",
              "      fill: #174EA6;\n",
              "    }\n",
              "\n",
              "    .colab-df-buttons div {\n",
              "      margin-bottom: 4px;\n",
              "    }\n",
              "\n",
              "    [theme=dark] .colab-df-convert {\n",
              "      background-color: #3B4455;\n",
              "      fill: #D2E3FC;\n",
              "    }\n",
              "\n",
              "    [theme=dark] .colab-df-convert:hover {\n",
              "      background-color: #434B5C;\n",
              "      box-shadow: 0px 1px 3px 1px rgba(0, 0, 0, 0.15);\n",
              "      filter: drop-shadow(0px 1px 2px rgba(0, 0, 0, 0.3));\n",
              "      fill: #FFFFFF;\n",
              "    }\n",
              "  </style>\n",
              "\n",
              "    <script>\n",
              "      const buttonEl =\n",
              "        document.querySelector('#df-bd858347-9aa7-4388-8312-a6f7373f7577 button.colab-df-convert');\n",
              "      buttonEl.style.display =\n",
              "        google.colab.kernel.accessAllowed ? 'block' : 'none';\n",
              "\n",
              "      async function convertToInteractive(key) {\n",
              "        const element = document.querySelector('#df-bd858347-9aa7-4388-8312-a6f7373f7577');\n",
              "        const dataTable =\n",
              "          await google.colab.kernel.invokeFunction('convertToInteractive',\n",
              "                                                    [key], {});\n",
              "        if (!dataTable) return;\n",
              "\n",
              "        const docLinkHtml = 'Like what you see? Visit the ' +\n",
              "          '<a target=\"_blank\" href=https://colab.research.google.com/notebooks/data_table.ipynb>data table notebook</a>'\n",
              "          + ' to learn more about interactive tables.';\n",
              "        element.innerHTML = '';\n",
              "        dataTable['output_type'] = 'display_data';\n",
              "        await google.colab.output.renderOutput(dataTable, element);\n",
              "        const docLink = document.createElement('div');\n",
              "        docLink.innerHTML = docLinkHtml;\n",
              "        element.appendChild(docLink);\n",
              "      }\n",
              "    </script>\n",
              "  </div>\n",
              "\n",
              "\n",
              "<div id=\"df-061d20de-b627-4b5a-a416-feda2585ee76\">\n",
              "  <button class=\"colab-df-quickchart\" onclick=\"quickchart('df-061d20de-b627-4b5a-a416-feda2585ee76')\"\n",
              "            title=\"Suggest charts\"\n",
              "            style=\"display:none;\">\n",
              "\n",
              "<svg xmlns=\"http://www.w3.org/2000/svg\" height=\"24px\"viewBox=\"0 0 24 24\"\n",
              "     width=\"24px\">\n",
              "    <g>\n",
              "        <path d=\"M19 3H5c-1.1 0-2 .9-2 2v14c0 1.1.9 2 2 2h14c1.1 0 2-.9 2-2V5c0-1.1-.9-2-2-2zM9 17H7v-7h2v7zm4 0h-2V7h2v10zm4 0h-2v-4h2v4z\"/>\n",
              "    </g>\n",
              "</svg>\n",
              "  </button>\n",
              "\n",
              "<style>\n",
              "  .colab-df-quickchart {\n",
              "      --bg-color: #E8F0FE;\n",
              "      --fill-color: #1967D2;\n",
              "      --hover-bg-color: #E2EBFA;\n",
              "      --hover-fill-color: #174EA6;\n",
              "      --disabled-fill-color: #AAA;\n",
              "      --disabled-bg-color: #DDD;\n",
              "  }\n",
              "\n",
              "  [theme=dark] .colab-df-quickchart {\n",
              "      --bg-color: #3B4455;\n",
              "      --fill-color: #D2E3FC;\n",
              "      --hover-bg-color: #434B5C;\n",
              "      --hover-fill-color: #FFFFFF;\n",
              "      --disabled-bg-color: #3B4455;\n",
              "      --disabled-fill-color: #666;\n",
              "  }\n",
              "\n",
              "  .colab-df-quickchart {\n",
              "    background-color: var(--bg-color);\n",
              "    border: none;\n",
              "    border-radius: 50%;\n",
              "    cursor: pointer;\n",
              "    display: none;\n",
              "    fill: var(--fill-color);\n",
              "    height: 32px;\n",
              "    padding: 0;\n",
              "    width: 32px;\n",
              "  }\n",
              "\n",
              "  .colab-df-quickchart:hover {\n",
              "    background-color: var(--hover-bg-color);\n",
              "    box-shadow: 0 1px 2px rgba(60, 64, 67, 0.3), 0 1px 3px 1px rgba(60, 64, 67, 0.15);\n",
              "    fill: var(--button-hover-fill-color);\n",
              "  }\n",
              "\n",
              "  .colab-df-quickchart-complete:disabled,\n",
              "  .colab-df-quickchart-complete:disabled:hover {\n",
              "    background-color: var(--disabled-bg-color);\n",
              "    fill: var(--disabled-fill-color);\n",
              "    box-shadow: none;\n",
              "  }\n",
              "\n",
              "  .colab-df-spinner {\n",
              "    border: 2px solid var(--fill-color);\n",
              "    border-color: transparent;\n",
              "    border-bottom-color: var(--fill-color);\n",
              "    animation:\n",
              "      spin 1s steps(1) infinite;\n",
              "  }\n",
              "\n",
              "  @keyframes spin {\n",
              "    0% {\n",
              "      border-color: transparent;\n",
              "      border-bottom-color: var(--fill-color);\n",
              "      border-left-color: var(--fill-color);\n",
              "    }\n",
              "    20% {\n",
              "      border-color: transparent;\n",
              "      border-left-color: var(--fill-color);\n",
              "      border-top-color: var(--fill-color);\n",
              "    }\n",
              "    30% {\n",
              "      border-color: transparent;\n",
              "      border-left-color: var(--fill-color);\n",
              "      border-top-color: var(--fill-color);\n",
              "      border-right-color: var(--fill-color);\n",
              "    }\n",
              "    40% {\n",
              "      border-color: transparent;\n",
              "      border-right-color: var(--fill-color);\n",
              "      border-top-color: var(--fill-color);\n",
              "    }\n",
              "    60% {\n",
              "      border-color: transparent;\n",
              "      border-right-color: var(--fill-color);\n",
              "    }\n",
              "    80% {\n",
              "      border-color: transparent;\n",
              "      border-right-color: var(--fill-color);\n",
              "      border-bottom-color: var(--fill-color);\n",
              "    }\n",
              "    90% {\n",
              "      border-color: transparent;\n",
              "      border-bottom-color: var(--fill-color);\n",
              "    }\n",
              "  }\n",
              "</style>\n",
              "\n",
              "  <script>\n",
              "    async function quickchart(key) {\n",
              "      const quickchartButtonEl =\n",
              "        document.querySelector('#' + key + ' button');\n",
              "      quickchartButtonEl.disabled = true;  // To prevent multiple clicks.\n",
              "      quickchartButtonEl.classList.add('colab-df-spinner');\n",
              "      try {\n",
              "        const charts = await google.colab.kernel.invokeFunction(\n",
              "            'suggestCharts', [key], {});\n",
              "      } catch (error) {\n",
              "        console.error('Error during call to suggestCharts:', error);\n",
              "      }\n",
              "      quickchartButtonEl.classList.remove('colab-df-spinner');\n",
              "      quickchartButtonEl.classList.add('colab-df-quickchart-complete');\n",
              "    }\n",
              "    (() => {\n",
              "      let quickchartButtonEl =\n",
              "        document.querySelector('#df-061d20de-b627-4b5a-a416-feda2585ee76 button');\n",
              "      quickchartButtonEl.style.display =\n",
              "        google.colab.kernel.accessAllowed ? 'block' : 'none';\n",
              "    })();\n",
              "  </script>\n",
              "</div>\n",
              "\n",
              "    </div>\n",
              "  </div>\n"
            ],
            "application/vnd.google.colaboratory.intrinsic+json": {
              "type": "dataframe",
              "variable_name": "df",
              "summary": "{\n  \"name\": \"df\",\n  \"rows\": 4143,\n  \"fields\": [\n    {\n      \"column\": \"urlDrugName\",\n      \"properties\": {\n        \"dtype\": \"category\",\n        \"num_unique_values\": 541,\n        \"samples\": [\n          \"remicade\",\n          \"lipitor\",\n          \"nasacort\"\n        ],\n        \"semantic_type\": \"\",\n        \"description\": \"\"\n      }\n    },\n    {\n      \"column\": \"rating\",\n      \"properties\": {\n        \"dtype\": \"number\",\n        \"std\": 2,\n        \"min\": 1,\n        \"max\": 10,\n        \"num_unique_values\": 10,\n        \"samples\": [\n          6,\n          1,\n          9\n        ],\n        \"semantic_type\": \"\",\n        \"description\": \"\"\n      }\n    },\n    {\n      \"column\": \"Review\",\n      \"properties\": {\n        \"dtype\": \"string\",\n        \"num_unique_values\": 4093,\n        \"samples\": [\n          \"retin-a-micro photoaging - I noticed significant smoothing and softening of lines on face, lightening of uneven coloring, reduction of frequency of blemishes, reduction in oiliness of skin and some tightening of the tissues of the facial skin.  I would hope that the effects are long-lasting, but I have only used it for 2 months now. I noticed dryness, photosensitivity, irritation of mucus membranes.  I had to use moisturizer more than usual and reapply it during the day due to dryness.  I used a broad spectrum UVA/UVB sunblock with it (Avene SPF 50 I applied nightly to dry clean skin. I did not apply any moisturizer afterwards in order to avoid diluting the product.  I used a mild cleanser for dry skin and exfoliated with a microfiber cloth once a week.  I did not have any peeling.  Some irritation in places.\",\n          \"elavil insomnia, migraines - Took 25mg for insomnia for about 3 weeks. Did not notice a difference. The Doctor Prescribed 50mg, and still no difference. Finally, I was prescribed 75mg and have been taking that dosage for about 2 months.I do sleep a little better than before, but I still do not sleep through the whole night. I would wake up and could not fall back to sleep. Also, I have had an appetite out of this world. I have noticed some weight gain, dry mouth, very vivid dreams, and even periods of hallucinations, and memory loss. I also have had the worst migraines that I have ever had in my life for weeks at a time. Take one 75mg pill at night.\",\n          \"oxycodone back pain - Drug did take away pain quickly; easy to take, not contraindicative with muscle relaxers or codeine allergy. No pain but very loopy.. Drug made patient incoherent and confused; bad memory and constipation patient had crazy ideas. Take for pain, 2 pills every 3-4 hours, no more than 8 in 24 hours.\"\n        ],\n        \"semantic_type\": \"\",\n        \"description\": \"\"\n      }\n    },\n    {\n      \"column\": \"score\",\n      \"properties\": {\n        \"dtype\": \"category\",\n        \"num_unique_values\": 2,\n        \"samples\": [\n          \"high\",\n          \"Low\"\n        ],\n        \"semantic_type\": \"\",\n        \"description\": \"\"\n      }\n    }\n  ]\n}"
            }
          },
          "metadata": {},
          "execution_count": 5
        }
      ]
    },
    {
      "cell_type": "code",
      "source": [
        "df.shape"
      ],
      "metadata": {
        "colab": {
          "base_uri": "https://localhost:8080/"
        },
        "id": "lGqYDIUCpexQ",
        "outputId": "d7b658b6-7e39-4966-9fda-069deed4bd3d"
      },
      "execution_count": 6,
      "outputs": [
        {
          "output_type": "execute_result",
          "data": {
            "text/plain": [
              "(4143, 4)"
            ]
          },
          "metadata": {},
          "execution_count": 6
        }
      ]
    },
    {
      "cell_type": "code",
      "source": [
        "df['score'] = df.score.apply(lambda x: 1 if x == \"high\" else 0)"
      ],
      "metadata": {
        "id": "P2AXDQ4Ephae"
      },
      "execution_count": 7,
      "outputs": []
    },
    {
      "cell_type": "code",
      "source": [
        "df['score'].value_counts()"
      ],
      "metadata": {
        "colab": {
          "base_uri": "https://localhost:8080/",
          "height": 178
        },
        "id": "9wplSgO9pi0w",
        "outputId": "a2d8fc77-7b31-454f-b2ff-1be380790731"
      },
      "execution_count": 8,
      "outputs": [
        {
          "output_type": "execute_result",
          "data": {
            "text/plain": [
              "score\n",
              "1    3241\n",
              "0     902\n",
              "Name: count, dtype: int64"
            ],
            "text/html": [
              "<div>\n",
              "<style scoped>\n",
              "    .dataframe tbody tr th:only-of-type {\n",
              "        vertical-align: middle;\n",
              "    }\n",
              "\n",
              "    .dataframe tbody tr th {\n",
              "        vertical-align: top;\n",
              "    }\n",
              "\n",
              "    .dataframe thead th {\n",
              "        text-align: right;\n",
              "    }\n",
              "</style>\n",
              "<table border=\"1\" class=\"dataframe\">\n",
              "  <thead>\n",
              "    <tr style=\"text-align: right;\">\n",
              "      <th></th>\n",
              "      <th>count</th>\n",
              "    </tr>\n",
              "    <tr>\n",
              "      <th>score</th>\n",
              "      <th></th>\n",
              "    </tr>\n",
              "  </thead>\n",
              "  <tbody>\n",
              "    <tr>\n",
              "      <th>1</th>\n",
              "      <td>3241</td>\n",
              "    </tr>\n",
              "    <tr>\n",
              "      <th>0</th>\n",
              "      <td>902</td>\n",
              "    </tr>\n",
              "  </tbody>\n",
              "</table>\n",
              "</div><br><label><b>dtype:</b> int64</label>"
            ]
          },
          "metadata": {},
          "execution_count": 8
        }
      ]
    },
    {
      "cell_type": "code",
      "source": [
        "nltk.download('stopwords')"
      ],
      "metadata": {
        "colab": {
          "base_uri": "https://localhost:8080/"
        },
        "id": "4E28xdBHprw9",
        "outputId": "53b64ca7-26c1-431b-c080-07c52a0f2742"
      },
      "execution_count": 10,
      "outputs": [
        {
          "output_type": "stream",
          "name": "stderr",
          "text": [
            "[nltk_data] Downloading package stopwords to /root/nltk_data...\n",
            "[nltk_data]   Unzipping corpora/stopwords.zip.\n"
          ]
        },
        {
          "output_type": "execute_result",
          "data": {
            "text/plain": [
              "True"
            ]
          },
          "metadata": {},
          "execution_count": 10
        }
      ]
    },
    {
      "cell_type": "code",
      "source": [
        "## Text pre-processing\n",
        "\n",
        "#remove stopwords\n",
        "from nltk.corpus import stopwords\n",
        "stop_words = set(stopwords.words(\"english\"))\n",
        "import gensim\n",
        "from gensim.utils import simple_preprocess\n",
        "from nltk.corpus import stopwords"
      ],
      "metadata": {
        "id": "fgSiw24tpnmc"
      },
      "execution_count": 11,
      "outputs": []
    },
    {
      "cell_type": "code",
      "source": [
        "#Adding custom stop words\n",
        "new_words = [\"some\",\"one\",\"like\",\"time\",\"br\",\"drug\",\"effect\",\"could\",\"good\",'even', 'get', 'would',\n",
        "             'make', 'really', 'see', 'well', 'much', 'great', 'first', 'people', 'also', 'bad',\n",
        "             'show', 'way', 'thing', 'made', 'go', 'think', 'know', 'watch','look','many','day']\n",
        "stop_words = stop_words.union(new_words)\n"
      ],
      "metadata": {
        "id": "jIeI2w57pyCO"
      },
      "execution_count": 12,
      "outputs": []
    },
    {
      "cell_type": "markdown",
      "source": [
        "## **Defining functions**"
      ],
      "metadata": {
        "id": "su0Qf4Gpp1k4"
      }
    },
    {
      "cell_type": "code",
      "source": [
        "def strip_newline(series):\n",
        "    return [review.replace('\\n','') for review in series]\n",
        "\n",
        "\n",
        "def sent_to_words(sentences):\n",
        "    for sentence in sentences:\n",
        "        yield(gensim.utils.simple_preprocess(str(sentence), deacc=True))\n",
        "\n",
        "def remove_stopwords(texts):\n",
        "    out = [[word for word in simple_preprocess(str(doc))\n",
        "            if word not in stop_words]\n",
        "            for doc in texts]\n",
        "    return out"
      ],
      "metadata": {
        "id": "QnCkVqm2p9qK"
      },
      "execution_count": 13,
      "outputs": []
    },
    {
      "cell_type": "code",
      "source": [
        "def bigrams(words, bi_min=15, tri_min=10):\n",
        "    bigram = gensim.models.Phrases(words, min_count = bi_min)\n",
        "    bigram_mod = gensim.models.phrases.Phraser(bigram)\n",
        "    return bigram_mod"
      ],
      "metadata": {
        "id": "BkhiM5dJqCun"
      },
      "execution_count": 14,
      "outputs": []
    },
    {
      "cell_type": "code",
      "source": [
        "def get_corpus(df):\n",
        "    df['Review'] = strip_newline(df.Review)\n",
        "    words = list(sent_to_words(df.Review))\n",
        "    words = remove_stopwords(words)\n",
        "    bigram_mod = bigrams(words)\n",
        "    bigram = [bigram_mod[review] for review in words]\n",
        "    id2word = gensim.corpora.Dictionary(bigram)\n",
        "    id2word.filter_extremes(no_below=10, no_above=0.35)\n",
        "    id2word.compactify()\n",
        "    corpus = [id2word.doc2bow(text) for text in bigram]\n",
        "\n",
        "    return corpus, id2word, bigram"
      ],
      "metadata": {
        "id": "2saq3MJlqIIo"
      },
      "execution_count": 15,
      "outputs": []
    },
    {
      "cell_type": "markdown",
      "source": [
        "## **Apply function to corpus to pre-process and extract bi-grams**"
      ],
      "metadata": {
        "id": "4PZaKKVgqNla"
      }
    },
    {
      "cell_type": "code",
      "source": [
        "train_corpus, train_id2word, bigram_train = get_corpus(df)"
      ],
      "metadata": {
        "id": "Sro_grNbqLSn"
      },
      "execution_count": 16,
      "outputs": []
    },
    {
      "cell_type": "markdown",
      "source": [
        "## **Build the Topic Model**"
      ],
      "metadata": {
        "id": "wP49Hu5YqfOh"
      }
    },
    {
      "cell_type": "code",
      "source": [
        "lda_train = gensim.models.ldamulticore.LdaMulticore(\n",
        "                        corpus=train_corpus,\n",
        "                        num_topics=10,\n",
        "                        id2word=train_id2word,\n",
        "                        chunksize=100,\n",
        "                        workers=7, # Num. Processing Cores - 1\n",
        "                        passes=50,\n",
        "                        eval_every = 1,\n",
        "                        per_word_topics=True)"
      ],
      "metadata": {
        "id": "zw9ThCIwqaaL"
      },
      "execution_count": 17,
      "outputs": []
    },
    {
      "cell_type": "code",
      "source": [
        "lda_train.print_topics(20,num_words=15)[:10]"
      ],
      "metadata": {
        "colab": {
          "base_uri": "https://localhost:8080/"
        },
        "id": "K_iKyyyCqoF_",
        "outputId": "a7ad988f-f57b-4f02-964c-fa71b03e0aec"
      },
      "execution_count": 18,
      "outputs": [
        {
          "output_type": "execute_result",
          "data": {
            "text/plain": [
              "[(0,\n",
              "  '0.026*\"days\" + 0.014*\"took\" + 0.011*\"taking\" + 0.011*\"infection\" + 0.010*\"take\" + 0.008*\"treatment\" + 0.008*\"doctor\" + 0.007*\"prescribed\" + 0.007*\"symptoms\" + 0.007*\"went\" + 0.007*\"felt\" + 0.007*\"two\" + 0.007*\"rash\" + 0.006*\"week\" + 0.006*\"started\"'),\n",
              " (1,\n",
              "  '0.066*\"mg\" + 0.020*\"dose\" + 0.017*\"increased\" + 0.016*\"dosage\" + 0.013*\"anxiety\" + 0.012*\"medication\" + 0.012*\"daily\" + 0.011*\"patient\" + 0.009*\"reduced\" + 0.009*\"symptoms\" + 0.009*\"months\" + 0.009*\"treatment\" + 0.009*\"started\" + 0.008*\"severe\" + 0.008*\"experienced\"'),\n",
              " (2,\n",
              "  '0.020*\"depression\" + 0.012*\"feel\" + 0.011*\"anxiety\" + 0.011*\"felt\" + 0.009*\"life\" + 0.009*\"taking\" + 0.008*\"medication\" + 0.008*\"better\" + 0.007*\"years\" + 0.006*\"mg\" + 0.006*\"take\" + 0.006*\"feeling\" + 0.006*\"work\" + 0.006*\"mood\" + 0.005*\"started\"'),\n",
              " (3,\n",
              "  '0.021*\"blood_pressure\" + 0.020*\"pressure\" + 0.016*\"allergies\" + 0.015*\"symptoms\" + 0.015*\"cholesterol\" + 0.013*\"asthma\" + 0.011*\"medication\" + 0.010*\"take\" + 0.010*\"high_blood\" + 0.010*\"none\" + 0.010*\"daily\" + 0.009*\"taking\" + 0.008*\"low\" + 0.008*\"zyrtec\" + 0.007*\"high\"'),\n",
              " (4,\n",
              "  '0.061*\"pain\" + 0.011*\"severe\" + 0.011*\"medication\" + 0.010*\"take\" + 0.009*\"back\" + 0.008*\"took\" + 0.007*\"surgery\" + 0.006*\"taking\" + 0.005*\"swelling\" + 0.005*\"stomach\" + 0.005*\"without\" + 0.005*\"prescribed\" + 0.005*\"body\" + 0.005*\"arthritis\" + 0.005*\"started\"'),\n",
              " (5,\n",
              "  '0.037*\"sleep\" + 0.035*\"take\" + 0.026*\"night\" + 0.015*\"hours\" + 0.011*\"morning\" + 0.011*\"taking\" + 0.011*\"headache\" + 0.010*\"feel\" + 0.010*\"migraine\" + 0.009*\"mg\" + 0.008*\"bed\" + 0.008*\"pill\" + 0.008*\"took\" + 0.008*\"sometimes\" + 0.008*\"insomnia\"'),\n",
              " (6,\n",
              "  '0.066*\"acne\" + 0.028*\"treatment\" + 0.017*\"skin\" + 0.011*\"cleared\" + 0.010*\"face\" + 0.010*\"medication\" + 0.009*\"months\" + 0.008*\"days\" + 0.008*\"severe\" + 0.008*\"clear\" + 0.008*\"month\" + 0.008*\"took\" + 0.008*\"dermatologist\" + 0.007*\"lips\" + 0.007*\"effective\"'),\n",
              " (7,\n",
              "  '0.011*\"period\" + 0.009*\"birth_control\" + 0.009*\"periods\" + 0.009*\"years\" + 0.009*\"hot_flashes\" + 0.009*\"pill\" + 0.008*\"use\" + 0.007*\"month\" + 0.007*\"every\" + 0.007*\"patch\" + 0.007*\"none\" + 0.007*\"pregnancy\" + 0.006*\"menopause\" + 0.006*\"week\" + 0.006*\"days\"'),\n",
              " (8,\n",
              "  '0.021*\"take\" + 0.019*\"hair\" + 0.014*\"eat\" + 0.014*\"taking\" + 0.012*\"stomach\" + 0.011*\"acid_reflux\" + 0.010*\"food\" + 0.010*\"took\" + 0.010*\"pill\" + 0.009*\"hair_loss\" + 0.008*\"months\" + 0.008*\"water\" + 0.008*\"eating\" + 0.008*\"nexium\" + 0.007*\"week\"'),\n",
              " (9,\n",
              "  '0.070*\"skin\" + 0.021*\"use\" + 0.020*\"face\" + 0.018*\"cream\" + 0.016*\"used\" + 0.014*\"using\" + 0.013*\"dry\" + 0.013*\"applied\" + 0.013*\"acne\" + 0.013*\"redness\" + 0.012*\"retin\" + 0.012*\"apply\" + 0.011*\"product\" + 0.010*\"eye\" + 0.009*\"wrinkles\"')]"
            ]
          },
          "metadata": {},
          "execution_count": 18
        }
      ]
    },
    {
      "cell_type": "markdown",
      "source": [
        "## **Topic Visualisation**"
      ],
      "metadata": {
        "id": "_9UlnardzzLB"
      }
    },
    {
      "cell_type": "code",
      "source": [
        "pip install pyLDAvis"
      ],
      "metadata": {
        "colab": {
          "base_uri": "https://localhost:8080/"
        },
        "id": "DpePuscIz8un",
        "outputId": "f44d2260-3561-435a-d395-7cdb4c9de78c"
      },
      "execution_count": 34,
      "outputs": [
        {
          "output_type": "stream",
          "name": "stdout",
          "text": [
            "Collecting pyLDAvis\n",
            "  Downloading pyLDAvis-3.4.1-py3-none-any.whl.metadata (4.2 kB)\n",
            "Requirement already satisfied: numpy>=1.24.2 in /usr/local/lib/python3.11/dist-packages (from pyLDAvis) (1.26.4)\n",
            "Requirement already satisfied: scipy in /usr/local/lib/python3.11/dist-packages (from pyLDAvis) (1.13.1)\n",
            "Requirement already satisfied: pandas>=2.0.0 in /usr/local/lib/python3.11/dist-packages (from pyLDAvis) (2.2.2)\n",
            "Requirement already satisfied: joblib>=1.2.0 in /usr/local/lib/python3.11/dist-packages (from pyLDAvis) (1.4.2)\n",
            "Requirement already satisfied: jinja2 in /usr/local/lib/python3.11/dist-packages (from pyLDAvis) (3.1.5)\n",
            "Requirement already satisfied: numexpr in /usr/local/lib/python3.11/dist-packages (from pyLDAvis) (2.10.2)\n",
            "Collecting funcy (from pyLDAvis)\n",
            "  Downloading funcy-2.0-py2.py3-none-any.whl.metadata (5.9 kB)\n",
            "Requirement already satisfied: scikit-learn>=1.0.0 in /usr/local/lib/python3.11/dist-packages (from pyLDAvis) (1.6.1)\n",
            "Requirement already satisfied: gensim in /usr/local/lib/python3.11/dist-packages (from pyLDAvis) (4.3.3)\n",
            "Requirement already satisfied: setuptools in /usr/local/lib/python3.11/dist-packages (from pyLDAvis) (75.1.0)\n",
            "Requirement already satisfied: python-dateutil>=2.8.2 in /usr/local/lib/python3.11/dist-packages (from pandas>=2.0.0->pyLDAvis) (2.8.2)\n",
            "Requirement already satisfied: pytz>=2020.1 in /usr/local/lib/python3.11/dist-packages (from pandas>=2.0.0->pyLDAvis) (2024.2)\n",
            "Requirement already satisfied: tzdata>=2022.7 in /usr/local/lib/python3.11/dist-packages (from pandas>=2.0.0->pyLDAvis) (2025.1)\n",
            "Requirement already satisfied: threadpoolctl>=3.1.0 in /usr/local/lib/python3.11/dist-packages (from scikit-learn>=1.0.0->pyLDAvis) (3.5.0)\n",
            "Requirement already satisfied: smart-open>=1.8.1 in /usr/local/lib/python3.11/dist-packages (from gensim->pyLDAvis) (7.1.0)\n",
            "Requirement already satisfied: MarkupSafe>=2.0 in /usr/local/lib/python3.11/dist-packages (from jinja2->pyLDAvis) (3.0.2)\n",
            "Requirement already satisfied: six>=1.5 in /usr/local/lib/python3.11/dist-packages (from python-dateutil>=2.8.2->pandas>=2.0.0->pyLDAvis) (1.17.0)\n",
            "Requirement already satisfied: wrapt in /usr/local/lib/python3.11/dist-packages (from smart-open>=1.8.1->gensim->pyLDAvis) (1.17.2)\n",
            "Downloading pyLDAvis-3.4.1-py3-none-any.whl (2.6 MB)\n",
            "\u001b[2K   \u001b[90m━━━━━━━━━━━━━━━━━━━━━━━━━━━━━━━━━━━━━━━━\u001b[0m \u001b[32m2.6/2.6 MB\u001b[0m \u001b[31m23.6 MB/s\u001b[0m eta \u001b[36m0:00:00\u001b[0m\n",
            "\u001b[?25hDownloading funcy-2.0-py2.py3-none-any.whl (30 kB)\n",
            "Installing collected packages: funcy, pyLDAvis\n",
            "Successfully installed funcy-2.0 pyLDAvis-3.4.1\n"
          ]
        }
      ]
    },
    {
      "cell_type": "code",
      "source": [
        "import pyLDAvis\n",
        "import pyLDAvis.gensim_models as gensimvis\n",
        "\n",
        "# Prepare the visualization\n",
        "lda_display = gensimvis.prepare(lda_train, train_corpus, train_id2word)\n",
        "\n",
        "# Display the interactive visualization\n",
        "pyLDAvis.display(lda_display)"
      ],
      "metadata": {
        "colab": {
          "base_uri": "https://localhost:8080/",
          "height": 861
        },
        "id": "JAiU-h-TzyLP",
        "outputId": "7f3a3714-e4a3-46ad-994f-7d6c92c3911d"
      },
      "execution_count": 35,
      "outputs": [
        {
          "output_type": "execute_result",
          "data": {
            "text/plain": [
              "<IPython.core.display.HTML object>"
            ],
            "text/html": [
              "\n",
              "<link rel=\"stylesheet\" type=\"text/css\" href=\"https://cdn.jsdelivr.net/gh/bmabey/pyLDAvis@3.4.0/pyLDAvis/js/ldavis.v1.0.0.css\">\n",
              "\n",
              "\n",
              "<div id=\"ldavis_el2131346601346340966039338321\" style=\"background-color:white;\"></div>\n",
              "<script type=\"text/javascript\">\n",
              "\n",
              "var ldavis_el2131346601346340966039338321_data = {\"mdsDat\": {\"x\": [0.09490315090230338, 0.08989918899814775, 0.11072728287925462, 0.058476521300973264, 0.05858537910974312, -0.012791414453137428, -0.3134860376761792, 0.0379370143191834, 0.012851405066566334, -0.13710249044685513], \"y\": [-0.015730013817576927, -0.03979189121547138, -0.0749071253009773, 0.11497869475966933, -0.07428431809601797, 0.016367343773478694, -0.0295789997925562, -0.13450694037990174, 0.26399948792501193, -0.0265462378556587], \"topics\": [1, 2, 3, 4, 5, 6, 7, 8, 9, 10], \"cluster\": [1, 1, 1, 1, 1, 1, 1, 1, 1, 1], \"Freq\": [22.123323300302054, 13.421191201594942, 11.40964834723258, 10.655660629107652, 9.976195592356175, 8.542405252175909, 6.83162177565572, 6.281328119094547, 6.042795284722315, 4.715830497758108]}, \"tinfo\": {\"Term\": [\"pain\", \"mg\", \"skin\", \"acne\", \"sleep\", \"depression\", \"night\", \"take\", \"anxiety\", \"treatment\", \"face\", \"days\", \"use\", \"blood_pressure\", \"pressure\", \"increased\", \"hair\", \"symptoms\", \"cream\", \"dose\", \"hours\", \"dosage\", \"eat\", \"allergies\", \"infection\", \"stomach\", \"used\", \"pill\", \"cholesterol\", \"migraine\", \"wellbutrin\", \"prozac\", \"synthroid\", \"seroquel\", \"adderall\", \"adhd\", \"vyvanse\", \"provigil\", \"ritalin\", \"emotions\", \"crying\", \"bipolar\", \"alprazolam\", \"hungry\", \"hypothyroidism\", \"mcg\", \"manic\", \"bipolar_disorder\", \"ativan\", \"thyroid\", \"anti_depressants\", \"zoloft\", \"personality\", \"klonopin\", \"motivation\", \"lifted\", \"adipex\", \"cope\", \"anger\", \"sexual_side\", \"focus\", \"energy\", \"depression\", \"effexor\", \"add\", \"mood\", \"depressed\", \"cymbalta\", \"lexapro\", \"life\", \"anxiety\", \"sexual\", \"social\", \"things\", \"feel\", \"felt\", \"thoughts\", \"appetite\", \"better\", \"disorder\", \"weight_gain\", \"feeling\", \"years\", \"work\", \"medication\", \"taking\", \"able\", \"helped\", \"tried\", \"doctor\", \"started\", \"less\", \"mg\", \"take\", \"still\", \"took\", \"help\", \"treatment\", \"sleep\", \"months\", \"arthritis\", \"leg\", \"tramadol\", \"vicodin\", \"lyrica\", \"nerve\", \"hospital\", \"knee\", \"pain\", \"pain_relief\", \"ibuprofen\", \"injury\", \"mobic\", \"celebrex\", \"lower_back\", \"naproxen\", \"methadone\", \"knees\", \"iv\", \"oxycodone\", \"spasms\", \"accident\", \"physical_therapy\", \"stiffness\", \"nerve_pain\", \"ultram\", \"ulcer\", \"oxycontin\", \"cervical\", \"spinal\", \"shoulder\", \"surgery\", \"muscles\", \"joint\", \"swelling\", \"legs\", \"walk\", \"neck\", \"joint_pain\", \"muscle\", \"son\", \"shot\", \"severe\", \"back\", \"stomach\", \"arms\", \"joints\", \"medication\", \"body\", \"took\", \"take\", \"medicine\", \"without\", \"caused\", \"nausea\", \"due\", \"prescribed\", \"taking\", \"started\", \"still\", \"doctor\", \"never\", \"helped\", \"felt\", \"work\", \"migraine\", \"imitrex\", \"ambien\", \"zomig\", \"lunesta\", \"middle_night\", \"daytime\", \"fall_asleep\", \"maxalt\", \"outbreaks\", \"migraine_headaches\", \"ambien_cr\", \"ointment\", \"requip\", \"dull\", \"waking\", \"half_hour\", \"rested\", \"hangover\", \"trazadone\", \"nights_sleep\", \"remeron\", \"stay_asleep\", \"finacea\", \"imitrex_migraine\", \"ambien_insomnia\", \"aching\", \"narcolepsy\", \"progression\", \"standing\", \"wake\", \"asleep\", \"sleep\", \"falling_asleep\", \"night\", \"woke\", \"headache\", \"sleepy\", \"trazodone\", \"groggy\", \"hours\", \"within_minutes\", \"nights\", \"bed\", \"migraines\", \"able_sleep\", \"take\", \"insomnia\", \"hour\", \"sometimes\", \"morning\", \"drowsiness\", \"usually\", \"sleeping\", \"awake\", \"bedtime\", \"pill\", \"tired\", \"works\", \"feel\", \"needed\", \"headaches\", \"taking\", \"work\", \"without\", \"took\", \"mg\", \"taken\", \"times\", \"feeling\", \"days\", \"still\", \"able\", \"topamax\", \"clarity\", \"anxiety_attacks\", \"panic_attack\", \"atenolol\", \"norvasc\", \"upped\", \"edema\", \"actonel\", \"panic_disorder\", \"hands_feet\", \"epilepsy\", \"tachycardia\", \"sweats\", \"built\", \"intolerable\", \"missing\", \"ideation\", \"smoked\", \"salt\", \"suppression\", \"situational\", \"event\", \"potassium\", \"overweight\", \"evaluated\", \"hs\", \"tapered\", \"seizure\", \"clenching\", \"xanax\", \"seizures\", \"mg_per\", \"tab\", \"mg\", \"tabs\", \"vertigo\", \"yrs\", \"increased\", \"lipitor\", \"dosage\", \"increasing\", \"heart_rate\", \"patient\", \"dose\", \"dizziness\", \"initial\", \"initially\", \"increase\", \"doses\", \"decreased\", \"reduced\", \"gradually\", \"anxiety\", \"daily\", \"addition\", \"experienced\", \"decrease\", \"symptoms\", \"months\", \"began\", \"medication\", \"weeks\", \"started\", \"treatment\", \"severe\", \"prescribed\", \"week\", \"nausea\", \"period\", \"mild\", \"taking\", \"taken\", \"able\", \"sinus_infection\", \"smoking\", \"smoke\", \"flu\", \"valtrex\", \"chantix\", \"niaspan\", \"amoxicillin\", \"cold_sore\", \"cold_sores\", \"herpes\", \"zyban\", \"quit_smoking\", \"ldl\", \"blisters\", \"urge\", \"biaxin\", \"acyclovir\", \"bacterial\", \"nicotine\", \"hdl\", \"stop_smoking\", \"levaquin\", \"pneumonia\", \"amoxil\", \"sore_throat\", \"dental\", \"chantix_smoking\", \"zithromax\", \"strep_throat\", \"rash\", \"allergic_reaction\", \"hives\", \"infection\", \"yeast_infection\", \"taste\", \"outbreak\", \"days\", \"prednisone\", \"fever\", \"antibiotics\", \"took\", \"antibiotic\", \"went\", \"two\", \"told\", \"taking\", \"pills\", \"prescribed\", \"doctor\", \"course\", \"symptoms\", \"treatment\", \"take\", \"got\", \"week\", \"felt\", \"weeks\", \"started\", \"none\", \"still\", \"pill\", \"nausea\", \"medication\", \"never\", \"severe\", \"dose\", \"better\", \"birth_control\", \"hot_flashes\", \"patch\", \"pregnancy\", \"menopause\", \"rosacea\", \"estrogen\", \"premarin\", \"metrogel\", \"eczema\", \"ring\", \"ortho_tri\", \"cyclen\", \"breast_cancer\", \"younger\", \"hysterectomy\", \"hrt\", \"vaginal_dryness\", \"melasma\", \"prempro\", \"dermatitis\", \"depo\", \"spray\", \"provera\", \"washing_face\", \"yasmin\", \"nuvaring\", \"spotting\", \"stroke\", \"tretinoin\", \"periods\", \"bleeding\", \"prevention\", \"pregnant\", \"bladder\", \"period\", \"night_sweats\", \"injection\", \"menstrual\", \"pill\", \"month\", \"use\", \"years\", \"every\", \"new\", \"none\", \"benefits\", \"week\", \"months\", \"symptoms\", \"severe\", \"using\", \"days\", \"control\", \"stopped\", \"year\", \"weight_gain\", \"since\", \"used\", \"side\", \"never\", \"daily\", \"treatment\", \"skin\", \"redness\", \"retin\", \"apply\", \"wrinkles\", \"peeling\", \"sun\", \"spots\", \"application\", \"moisturizer\", \"sunscreen\", \"forehead\", \"renova\", \"smoother\", \"fine_lines\", \"tazorac\", \"pores\", \"applied\", \"lines\", \"cleansing\", \"flaking\", \"drops\", \"around_eyes\", \"peeling_skin\", \"differin_acne\", \"peel\", \"aging\", \"pea_size\", \"lashes\", \"spf\", \"washing\", \"cream\", \"facial\", \"skin\", \"eye\", \"irritation\", \"dryness\", \"applying\", \"face\", \"areas\", \"product\", \"dry\", \"sensitive\", \"use\", \"red\", \"using\", \"area\", \"used\", \"acne\", \"dry_skin\", \"eyes\", \"night\", \"noticed\", \"less\", \"treatment\", \"hair\", \"acid_reflux\", \"nexium\", \"reflux\", \"seasonique\", \"gerd\", \"propecia\", \"metformin\", \"bone_density\", \"osteoporosis\", \"fosamax\", \"bronchitis\", \"calcium\", \"protonix\", \"glass_water\", \"meridia\", \"ear_infection\", \"osteopenia\", \"propecia_hair\", \"flagyl\", \"baldness\", \"hairloss\", \"resistance\", \"ranitidine\", \"breakfast\", \"cycles\", \"crown\", \"follicles\", \"ulcerative\", \"obesity\", \"prilosec\", \"meals\", \"meal\", \"hair_loss\", \"diabetes\", \"acid\", \"scalp\", \"supplements\", \"eat\", \"baby\", \"empty_stomach\", \"eating\", \"food\", \"bone\", \"stomach\", \"water\", \"drink\", \"take\", \"diet\", \"loss\", \"pill\", \"taking\", \"blood\", \"took\", \"months\", \"weight\", \"week\", \"none\", \"doctor\", \"every\", \"taken\", \"since\", \"morning\", \"month\", \"blood_pressure\", \"allergies\", \"cholesterol\", \"asthma\", \"high_blood\", \"zyrtec\", \"allergy\", \"pressure\", \"hypertension\", \"prevacid\", \"singulair\", \"claritin\", \"flonase\", \"sneezing\", \"inhaler\", \"advair\", \"crestor\", \"allegra\", \"albuterol\", \"cholesterol_levels\", \"allergy_symptoms\", \"normal_range\", \"enbrel\", \"lisinopril\", \"lipitor_high\", \"nasonex\", \"sinuses\", \"runny_nose\", \"ra\", \"sodium\", \"lowering\", \"nasal\", \"fat\", \"infections\", \"sinus\", \"congestion\", \"breathing\", \"rheumatoid_arthritis\", \"lowered\", \"high_cholesterol\", \"nose\", \"heart\", \"heartburn\", \"symptoms\", \"low\", \"throat\", \"high\", \"none\", \"daily\", \"medication\", \"take\", \"taking\", \"reduced\", \"effective\", \"use\", \"levels\", \"medicine\", \"taken\", \"less\", \"lower\", \"retin_micro\", \"uti\", \"cystic_acne\", \"differin\", \"keflex\", \"minocycline\", \"accutane_acne\", \"tetracycline\", \"acne_cleared\", \"breakout\", \"peroxide\", \"liver_function\", \"doryx\", \"adult_acne\", \"cyst\", \"scars\", \"metronidazole\", \"stomache\", \"pore_size\", \"benzoyl\", \"finger\", \"bay\", \"toenail\", \"protect\", \"sotret\", \"evident\", \"hence\", \"wound\", \"spironolactone\", \"doxycycline\", \"accutane\", \"dermatologist\", \"acne\", \"lips\", \"cysts\", \"clearing\", \"cleared\", \"breakouts\", \"treatment\", \"clear\", \"topical\", \"antibiotic\", \"face\", \"skin\", \"months\", \"month\", \"infection\", \"effective\", \"medication\", \"severe\", \"mild\", \"days\", \"taken\", \"took\", \"still\", \"prescribed\", \"daily\", \"started\", \"taking\"], \"Freq\": [1637.0, 1966.0, 1172.0, 779.0, 1008.0, 961.0, 761.0, 2076.0, 764.0, 1117.0, 389.0, 1080.0, 690.0, 247.0, 237.0, 529.0, 234.0, 734.0, 256.0, 813.0, 512.0, 533.0, 264.0, 193.0, 277.0, 326.0, 609.0, 612.0, 177.0, 223.0, 141.475820434773, 131.8858351764596, 108.54853445302739, 93.48046127873624, 82.34321824171901, 81.14071274597312, 74.50747903895352, 73.36591747156285, 62.54870738555153, 57.12041814836374, 54.52250509626645, 52.9627583504656, 47.07497349437257, 46.537106184256885, 46.38139721080383, 45.63380855309084, 45.60403380084008, 45.23459260972324, 43.6063213404352, 169.9765256401431, 41.95944338630654, 116.89422713567348, 41.22123793347093, 40.896121673689244, 40.71427866190166, 40.437247207227934, 40.13760833891149, 39.90839548115547, 40.911807674385386, 38.11141667278176, 151.64096750299845, 214.43843503341884, 887.6912393953749, 110.07964226818922, 120.35392962378616, 245.69983579625173, 150.00038473874022, 95.86149832120867, 152.05297665139477, 391.386441042433, 496.25315903466503, 76.16669637652943, 58.801388498057456, 162.21074087914386, 504.0698833666982, 469.69468850285114, 83.15595945250932, 126.25572970726697, 346.00614888721014, 106.46403812260007, 151.3696379742283, 257.8586033247005, 298.26766795818696, 250.50466545186728, 357.5530736524461, 377.71374500070004, 218.9587819403497, 204.40752788193157, 174.07526976256415, 215.77501311504048, 220.4287379312363, 189.7257760333354, 272.41322428289624, 272.0952753617226, 201.69995226734667, 215.78487042402813, 173.83009455465734, 171.3099092234817, 168.86091556832795, 154.50167620988117, 125.66502714342143, 102.98884229414799, 89.28124793867275, 74.81479405064968, 63.55602852340545, 63.24575908883913, 103.09730616889823, 62.871328012198475, 1613.818427258403, 58.92169260847408, 49.70583462618895, 47.13549918841073, 45.35903871954683, 45.17285368032014, 42.702901158728096, 41.83796481798719, 41.479834083726054, 41.26053772436857, 35.801980949303044, 35.00738001684814, 34.87661121992506, 33.737343715993525, 32.158782138740015, 31.2894838645222, 27.346492872864182, 25.83316035017899, 25.05256959122238, 23.90782659956948, 23.812259344073073, 23.425906777171658, 44.42630476679528, 193.44307505187246, 73.73346520471364, 63.24099110795816, 144.49810866243473, 119.90246390738548, 77.08093230822223, 123.70175103140787, 48.34789213847281, 100.15068783222753, 54.349248161494344, 59.239326266413975, 301.1155264982107, 250.8604666162849, 141.14095794356274, 60.402559795534934, 62.32830113160685, 279.3718848824536, 126.76270862572083, 217.6023049788285, 263.12696182136324, 123.89884398044353, 140.0827737996579, 107.15695581018836, 116.4988269129824, 121.32488487719577, 138.56088352032054, 166.87741133700894, 125.08674181324423, 120.86953347471338, 118.97099116247986, 102.16085626717623, 104.05493821019853, 107.24163515063432, 102.19760970947674, 222.99870931036477, 60.2512188491821, 53.318516138813536, 48.99262391582237, 39.98569148353356, 35.9856427262422, 32.607293845398054, 98.7720294921663, 29.591451769438574, 29.531770547835382, 29.247062198068367, 28.530646952010862, 26.20967714149513, 25.926744427056683, 25.864340913292903, 95.09431477110356, 24.79608836476687, 23.503386619457885, 23.400572365292994, 22.99666109184101, 22.75451307340306, 21.729307259992712, 21.702488367338624, 20.418428134464474, 19.621726190262617, 19.12546226666921, 18.054006252344212, 17.371139792192736, 17.115317551172932, 16.365362671968825, 138.15206457898867, 45.14811976728388, 838.4356924422723, 29.168719807533424, 573.6248349693273, 64.0149538184008, 243.1803032570064, 86.58319516212218, 35.935137799731706, 54.4821665912956, 344.7316021447215, 46.77437683187728, 63.64988424087697, 190.28114040433292, 132.21427727847993, 49.810760315061934, 791.8885446309692, 177.06016246923383, 128.03140345919917, 180.23829343010578, 257.8624172465127, 109.15382145344246, 127.70211332580709, 94.31501222256978, 61.90142476258113, 90.30341529795743, 190.03908914363745, 123.30236617947364, 105.21228759469605, 225.0938439348131, 137.98818311393615, 124.3623289430342, 252.46559463909497, 168.7690385858063, 147.50283741708216, 188.89960720618723, 212.88061096321445, 149.8516865328083, 129.51589735566054, 129.8135764730707, 143.87341788489715, 128.08826563089926, 117.6229900433651, 107.49367814285941, 30.720623364068793, 30.663838347082386, 29.280688094616625, 26.78617463606299, 24.40816192501637, 23.669951819670526, 22.96282681587744, 22.512615487276168, 21.35312263817289, 19.255007723210053, 19.15643927914043, 18.90062950604649, 16.789935724368735, 16.62288505291933, 15.670412923349394, 14.724208857350728, 14.443175409772442, 14.039382920160984, 14.017234052626266, 13.979720919388503, 13.710918316292945, 13.11214911864307, 27.256747096943116, 12.256286739597403, 12.138138686858042, 11.306521856654685, 17.13786515062642, 40.24511264494669, 10.644191588101204, 98.76620861891364, 64.20476305521161, 95.5334459788337, 32.9258045712198, 1386.614981082073, 32.87783611744878, 23.776712829198882, 34.23642454823666, 357.7384853804723, 65.20524515699431, 342.90907489741954, 58.991018793346996, 60.51007111691617, 230.5492497714193, 424.6638688856624, 117.51309411408663, 82.81176559339724, 111.80347800675789, 135.56073089808967, 87.49976426983913, 132.0069574355637, 198.2327014677793, 59.70875542239517, 267.6122840245988, 242.3728423014355, 59.359355754847826, 161.08600511224353, 84.28428307056588, 197.53882573142207, 196.5384559736582, 111.01603435629876, 251.87894379714757, 157.26619124412795, 182.3220921476894, 192.73016957877712, 162.44241748823225, 129.53871049706032, 129.14913074695912, 106.36109412852264, 101.64714886825796, 109.10905813577519, 121.25565437344068, 102.49679202895791, 100.53405409892362, 87.79942711497539, 84.88610573989895, 75.11073272332476, 61.00316024802827, 55.93968310975755, 49.78234882786065, 46.68441768075188, 43.765361691141294, 43.48964288771854, 42.754551277929714, 40.92809026798086, 40.14525136126149, 40.05194726210679, 38.08853688895717, 37.6191650916191, 36.965446473074635, 35.94600441318587, 34.10364745417749, 33.90097410366841, 32.41818753667762, 31.81825493794435, 31.135131557474445, 30.469893406225435, 28.515988133800853, 27.889339731153367, 26.738628045903855, 24.60343990102715, 24.36047105134141, 22.793629394681805, 22.690616693728096, 131.23554693370866, 37.11754409037774, 67.32811539207368, 217.9036818535615, 50.81020302765017, 53.697293342943674, 49.55599618384459, 513.5462373454259, 72.91606738815221, 57.75858028203538, 66.87077302338956, 284.65757666461974, 70.51801987850506, 132.08242236939256, 131.85489444951105, 97.82838076195817, 222.72694083643856, 107.47999311414853, 145.3349244893519, 147.69892101030592, 72.54002484178697, 139.03791530178026, 158.6710221066669, 201.09359682359894, 98.27687883677547, 126.15105659465297, 131.86604356453037, 115.94651581876053, 120.93271285255568, 113.21977520364642, 103.54974257446763, 96.15537328096266, 84.58089071339391, 90.04998436309546, 81.50217098228028, 81.28045999197406, 78.9104270346683, 76.04573098362812, 157.10060397508383, 145.73741676360572, 116.31377307018823, 112.29180269493347, 105.5129748776994, 82.70025678485938, 61.1992537121559, 55.41308441263376, 49.90586194612039, 46.928935830786415, 45.499511481093954, 43.51473874363448, 41.95685224273075, 41.554424172256375, 37.60738287288492, 36.022160083570355, 35.620754040208894, 34.161150522090374, 33.700141893726574, 33.53091221656699, 33.38471143385578, 30.285570846462445, 30.021427743340094, 28.65506951497706, 27.82965731529566, 27.087638220633792, 26.47748999213258, 26.477069042268063, 26.312430655491188, 24.56147500975201, 153.94433363840386, 79.46350083408456, 53.38170567250048, 63.279548784451926, 59.86375404572119, 186.31765722243642, 55.70167980811844, 51.94660731021566, 37.139713447130084, 143.38479649756502, 123.37259715823284, 138.0497366519184, 146.19229322929203, 123.33058831966079, 71.72468020862478, 116.07207344751663, 82.50450530832913, 101.7729351847256, 94.87604561479327, 91.78439401917556, 94.39814417047124, 79.80698026027633, 99.25668093786382, 73.47141460828075, 72.36966154893786, 69.35890281193512, 64.71418508083896, 69.76147968329184, 70.46256678787228, 68.39302845304431, 68.12780262771231, 68.59217885499221, 68.80687503333189, 68.63298945488016, 168.84293616500233, 168.0528348147819, 158.70310801163373, 119.5484910035873, 111.36816430428101, 97.04658618180407, 92.41936686244264, 82.52878233358473, 79.15980019734799, 69.03898708717614, 58.801653600313834, 58.31533572841082, 56.31262453027265, 52.933834239343525, 51.013631167540105, 46.51256501025667, 174.14316024446353, 41.28024016771771, 39.778659284552475, 39.77843694132669, 35.906658481720996, 30.53684097258898, 29.411962751014563, 29.162734784477536, 29.155121877690434, 27.958846427881078, 27.10515804668077, 26.75372109136652, 25.529168906948303, 25.40587489085822, 241.2839875551363, 69.71317559008361, 947.1175057304768, 139.05744932104724, 117.38303082736368, 100.93387229850961, 49.23380496107548, 275.71942909618804, 70.70622933152512, 147.56896095255294, 180.2217735098573, 93.44120622263655, 282.26516355779376, 97.97976383202001, 186.1971193074553, 111.13409638782888, 210.88905479770878, 169.77013873247463, 72.03229685648802, 87.45896465344447, 106.51605890421395, 85.53673543985114, 84.7954431250827, 80.36415516155913, 233.17220735838822, 136.12088283914963, 93.36210451295445, 66.52253314458208, 60.48573395364115, 58.76554606766979, 52.659769364951075, 50.8887265443905, 50.00957711747823, 48.72000055398937, 44.60250437140956, 41.71120756031071, 40.520815683255705, 38.25517392774653, 35.72840178650357, 34.45281018605966, 24.777896426159, 24.581870837503487, 20.991681472867747, 20.190164859135997, 19.51492753802565, 19.231083464628675, 17.362124307690106, 16.79011714822014, 60.664857806024514, 16.6922641573614, 15.95076598344648, 15.072480359069415, 15.059625537674695, 15.017784382540329, 64.66686646898941, 46.42193740999223, 64.40628603753636, 111.80670728664748, 54.9194767970434, 77.76984681470614, 46.708693937603734, 34.6990572541119, 174.93521630332586, 32.27969607877969, 50.6681344116338, 95.70457574528639, 125.40756613760479, 54.65154252667398, 143.48735630726355, 96.71991227989885, 63.18983899667783, 254.94535226913294, 64.4249729657146, 81.31273291284325, 121.41668325129332, 169.77055246271135, 75.59909376768907, 124.66630838872884, 96.78110405149266, 69.8325265618612, 91.96226067650508, 88.30946434378868, 87.15687534501596, 76.64943158102797, 76.80022846894023, 72.13452576607709, 64.96270156124591, 63.88776841038798, 246.76049063750617, 192.39750853906497, 176.3436466145487, 154.05261105734257, 123.64523450837333, 90.28093382792093, 79.7594414364818, 234.82387774872157, 55.419459738108834, 52.70620688351681, 50.63015907159354, 50.60885223886065, 49.61015677948528, 49.21540975412148, 45.53373752982783, 41.26276185652765, 40.864350122413775, 36.42766479563212, 35.171871873944866, 34.32305829344935, 30.914826525893485, 30.889453334547508, 30.210939295968, 28.102402165125845, 26.92424954695785, 26.490703144827332, 25.49396884478307, 24.61321163518255, 24.302038251314322, 21.228455609619825, 39.27122117578158, 76.49828276876377, 50.75843218784348, 56.814891082169666, 61.01037043121934, 45.56049018070332, 63.672483563253564, 37.71289449727938, 58.91145350709603, 34.37139200696419, 71.96407131524532, 81.22496483663637, 67.20473649850959, 179.00526114675299, 91.7693041802831, 63.67380208280386, 88.16854916839107, 114.62500958489755, 113.39593884409618, 126.56732867173594, 124.6824772746014, 104.54788598189774, 77.16748130052052, 74.07288267599394, 78.59512219359566, 64.20330402220686, 69.59127904453256, 72.35055266342829, 69.25475185931172, 62.11425937471642, 54.18551791205679, 49.406965659389265, 47.84666900693968, 47.436196831108084, 43.517409141253744, 42.584024959834686, 36.97718714617858, 29.83795835474353, 29.037420662689204, 27.321508098665124, 26.280904647125297, 25.04274354569199, 23.299526265828973, 23.171844131316522, 21.933069100717017, 21.248017105302978, 20.880109243846228, 19.92023315421672, 17.59906317346633, 16.954357565228126, 16.092483161336734, 13.98861816475175, 13.786848398730319, 12.616013061088141, 12.251863354051942, 11.071966076041083, 10.438685170772455, 23.009459866856922, 36.33407905080594, 59.81737117751308, 62.448204651799514, 70.07533203084695, 608.7034011361801, 68.06075805952403, 27.53446585905156, 28.023866843743203, 102.78950313306143, 46.88662214123929, 264.6009803274873, 74.04419818219482, 42.645845897492975, 52.20176577894395, 94.07594594897328, 155.97614099793333, 86.61344670225346, 73.8718397305069, 58.5970486094582, 66.34963803409666, 89.88048373051521, 75.11824564123557, 63.73958303567466, 75.68112357085361, 65.72591626535244, 71.12612800357913, 60.84838306669226, 52.20228026887901, 50.09339034853758, 49.298468811320525, 50.5095392074341], \"Total\": [1637.0, 1966.0, 1172.0, 779.0, 1008.0, 961.0, 761.0, 2076.0, 764.0, 1117.0, 389.0, 1080.0, 690.0, 247.0, 237.0, 529.0, 234.0, 734.0, 256.0, 813.0, 512.0, 533.0, 264.0, 193.0, 277.0, 326.0, 609.0, 612.0, 177.0, 223.0, 142.36174975084305, 132.7717439489179, 109.43452964727969, 94.36692123220885, 83.22914460076427, 82.02664401941028, 75.39339034835048, 74.25192627882251, 63.434640338001266, 58.006342846118855, 55.40848214365954, 53.84869113367186, 47.96095966421947, 47.42310950088063, 47.26736102096945, 46.51979126975485, 46.49431662846945, 46.12053081876236, 44.49229654667425, 173.45778063103046, 42.84538171768171, 119.4012134594319, 42.107199071268866, 41.78209947580325, 41.600296845631114, 41.323185103479716, 41.02360166078073, 40.794336408841595, 41.82923042642345, 38.998750993356104, 155.23042517527935, 221.82339088900346, 961.2124859797618, 114.73516236936942, 127.40771130183172, 273.29915482729643, 171.72560047153777, 107.16200384110776, 180.65249800060954, 531.3702672452707, 764.6539024332673, 85.62757452568889, 63.31720054274485, 220.78680764290075, 914.0637791862982, 849.3255162338295, 97.72053451205576, 166.09131231044609, 656.4931320195786, 136.88890900111005, 239.80390679268714, 607.2149820072719, 783.9598089528432, 681.6933657244809, 1345.3303766130975, 1527.5137200483935, 560.7296427760474, 562.565089905613, 403.3593999160539, 751.032566536883, 825.6470931280796, 589.156366859875, 1966.7443140031237, 2076.655418963752, 796.0770806927061, 1252.0984038738875, 500.9299757202069, 1117.0917884271516, 1008.0848157284079, 732.4269785982967, 126.55807622740123, 103.87537046764187, 90.16765453239667, 75.7012016372668, 64.44243658893323, 64.13222106868938, 104.54915708397925, 63.75775149406721, 1637.0397525600097, 59.808126426335754, 50.592288842499784, 48.02192587487862, 46.245438824025946, 46.05925369241461, 43.589338023295575, 42.72439210130357, 42.366237795860684, 42.14699811616632, 36.68932362505965, 35.89377769488766, 35.76308333365993, 34.6238016438426, 33.04517743108602, 32.17590841017271, 28.232938691646368, 26.719565298093887, 25.939123281113815, 24.794222887606296, 24.698854923733858, 24.31232497587075, 46.265709448686984, 208.27541035539016, 80.40507430212672, 69.57014092679913, 174.86878206172133, 143.45301199400058, 88.96760590459786, 166.20257361632162, 54.24085414591438, 138.16137011409737, 63.43532199496889, 71.80612041491845, 832.7238949152649, 656.383149956647, 326.84422954927345, 79.00238078611001, 84.257258749748, 1345.3303766130975, 367.7946331249334, 1252.0984038738875, 2076.655418963752, 412.1326730301853, 547.4913086474446, 305.4367455984724, 402.2978317023943, 463.540027596957, 687.3575633800419, 1527.5137200483935, 825.6470931280796, 796.0770806927061, 751.032566536883, 498.4784640185476, 562.565089905613, 849.3255162338295, 681.6933657244809, 223.88539354881803, 61.137868551153474, 54.20519130322063, 49.87926441174367, 40.87233655186962, 36.87235997833466, 33.494264815129355, 101.66394073324467, 30.478092046189605, 30.41863470642816, 30.133828669343323, 29.417295631092777, 27.09672163574892, 26.813399077252864, 26.751451162458014, 98.4062480283043, 25.682864157474324, 24.390088359021906, 24.287237346152953, 23.883352475353703, 23.641207794497095, 22.61598157194872, 22.589147809825974, 21.30549471280221, 20.50837558509831, 20.012123314747367, 18.941135951564352, 18.25780921910561, 18.00236380232179, 17.25237853222022, 145.87015339799078, 48.916823676321975, 1008.0848157284079, 31.26844308901641, 761.1823987870121, 73.05963138588785, 316.5354363833865, 104.04164192699055, 39.44045644099125, 62.679355106196276, 512.2369721322544, 53.50953541771469, 76.96386132411165, 283.31102747350104, 191.6098924645617, 61.228300366414985, 2076.655418963752, 309.1565528828814, 205.3279771957061, 334.32445806425386, 550.8521203277971, 177.18092633008254, 224.63999843246765, 151.7899565462726, 83.18290068972105, 151.61713425637362, 612.5847216048265, 288.93437809447454, 221.8666375313628, 914.0637791862982, 372.912268222505, 320.2713455978598, 1527.5137200483935, 681.6933657244809, 547.4913086474446, 1252.0984038738875, 1966.7443140031237, 760.4693809277708, 501.62403103192844, 607.2149820072719, 1080.0197229708278, 796.0770806927061, 560.7296427760474, 108.38057830043965, 31.607833170097187, 31.550770663048688, 30.167686116630772, 27.673149226572754, 25.295266751061607, 24.556938488578442, 23.849742150174816, 23.39960546576583, 22.240032739209646, 20.14206644813081, 20.043354314709223, 19.787545607425752, 17.677140245445955, 17.50985046978852, 16.557433782364573, 15.611356206903318, 15.330156373120007, 14.92652111175867, 14.904273374728882, 14.866791622990993, 14.597856523161221, 13.999097915362196, 29.219429693184804, 13.143331384766821, 13.025056378128095, 12.193520010440706, 18.52917104755346, 43.548944166890664, 11.531295347045074, 108.95053938196955, 71.5431933206362, 113.11759212349165, 37.02777961093027, 1966.7443140031237, 37.53343944951769, 26.416317849135897, 39.482944469295255, 529.3251128191362, 81.49742464343316, 533.1319056781482, 74.38428841349338, 76.99426684081813, 380.50353252240063, 813.3225677029435, 190.37670972044054, 123.96000066310998, 188.088839025038, 246.98517710968207, 145.77110002006168, 259.1384909512607, 458.7042211626302, 89.5132359994274, 764.6539024332673, 729.9443783933542, 96.50993288578076, 484.4037123139463, 176.027752875058, 734.5692052986708, 732.4269785982967, 303.5692556456887, 1345.3303766130975, 597.3363458030466, 825.6470931280796, 1117.0917884271516, 832.7238949152649, 687.3575633800419, 737.9203831543734, 402.2978317023943, 359.5062573877178, 485.9119967442875, 1527.5137200483935, 760.4693809277708, 560.7296427760474, 88.68496179853572, 85.77165735941995, 75.99631637526295, 61.88875844248122, 56.82521427851052, 50.667874356187745, 47.570020075337695, 44.65091281227695, 44.37516789514893, 43.640095483994564, 41.81363267880998, 41.03079265782074, 40.93750147370652, 38.97423895351285, 38.50473420693531, 37.85108182496965, 36.831539087149075, 34.98920973294353, 34.786526319721325, 33.30371544781475, 32.70393752287065, 32.02067163448962, 31.355426179337517, 29.401606366622662, 28.77487606473759, 27.624220130284737, 25.48902581403932, 25.24600977562713, 23.679166485971354, 23.576150073885444, 145.2850702059771, 39.33893650192307, 75.72810924620018, 277.28647000512683, 56.800300581357114, 61.60915370845657, 57.24095363717983, 1080.0197229708278, 94.77260349661073, 72.68723571336247, 93.96887316873145, 1252.0984038738875, 123.50550366757534, 428.2938118492343, 504.4482365990382, 274.81523265942667, 1527.5137200483935, 338.6422677425462, 687.3575633800419, 751.032566536883, 157.09320504031137, 734.5692052986708, 1117.0917884271516, 2076.655418963752, 343.87528595078703, 737.9203831543734, 849.3255162338295, 597.3363458030466, 825.6470931280796, 715.0728385044965, 796.0770806927061, 612.5847216048265, 402.2978317023943, 1345.3303766130975, 498.4784640185476, 832.7238949152649, 813.3225677029435, 656.4931320195786, 157.98703866643203, 146.62384886758835, 117.20019945629976, 113.17823928008647, 106.39941562168723, 83.58673603390685, 62.085660872885946, 56.29947959847718, 50.792296134674885, 47.815459136745694, 46.385936608423194, 44.40113321489594, 42.84325115388035, 42.44083444551718, 38.49402151964143, 36.9085660561712, 36.50714688190688, 35.047545145268174, 34.5866046551685, 34.41731017457793, 34.27118869579465, 31.171970533546762, 30.907994061237204, 29.541466915039635, 28.71646516254928, 27.97405437776964, 27.363878444487643, 27.36369357922906, 27.19900218483563, 25.447998370783935, 163.35604646405244, 89.74441688650104, 58.45136557814844, 73.95384339812536, 74.66353478803703, 359.5062573877178, 74.76124422402066, 76.10700099078795, 43.812997962040406, 612.5847216048265, 509.25880283746534, 690.8727445650369, 783.9598089528432, 594.2309208656045, 205.00102888448225, 715.0728385044965, 356.39004571236717, 737.9203831543734, 732.4269785982967, 734.5692052986708, 832.7238949152649, 434.1317317391023, 1080.0197229708278, 368.7141268999252, 411.70237513963986, 419.7211111846935, 239.80390679268714, 516.1342587271407, 609.1535319674557, 478.2169327362978, 498.4784640185476, 729.9443783933542, 1117.0917884271516, 1172.414288812764, 169.72853543961392, 168.93838740644125, 159.5886783975864, 120.4340540616294, 112.25372044918805, 97.93224906280432, 93.30496413361823, 83.4143678004848, 80.0453604397489, 69.92454972452163, 59.687269932298385, 59.20088958138623, 57.198176794049296, 53.81937151841105, 51.89918129460348, 47.39814840883543, 177.86786361252118, 42.1658296815307, 40.664210345638416, 40.66399571658022, 36.79228320660641, 31.422400390744606, 30.297508408521892, 30.048291886067705, 30.040690011527055, 28.844431013403618, 27.990698762602943, 27.639300367504426, 26.414732954711344, 26.29147328911865, 256.26520491043834, 73.9152139781305, 1172.414288812764, 156.67581188307534, 133.32301230585145, 115.65386438233121, 53.329762341630214, 389.70350872769785, 83.56968441637164, 201.10743796000048, 262.64805528509874, 117.67228873726651, 690.8727445650369, 152.68571377845583, 434.1317317391023, 190.98855201627575, 609.1535319674557, 779.2592817216473, 102.83252183192897, 177.2141508371007, 761.1823987870121, 439.34974373190397, 589.156366859875, 1117.0917884271516, 234.05823758287445, 137.00685935572616, 94.24807148993834, 67.40851806168, 61.37176355282848, 59.65152603187694, 53.54573260554552, 51.7747258518716, 50.89554202490891, 49.60598263237739, 45.48846103075998, 42.59731179135279, 41.40682863849555, 39.141153427086664, 36.61443007810664, 35.33876595084935, 25.664026277447554, 25.46784716205513, 21.877647297081506, 21.076298268974547, 20.400899108133046, 20.117087418930012, 18.249170008529987, 17.67622063384681, 63.87144535749449, 17.578369277802828, 16.836716851970113, 15.958474602873993, 15.945600130067827, 15.903753624192484, 68.70316278130498, 49.48837379420597, 69.86824855833773, 124.49764061750412, 60.06085097348143, 91.08625668058761, 53.8679211575222, 39.50725684021257, 264.3476338856689, 36.64019743250422, 65.87957426001796, 166.22705654893096, 250.65465811482233, 78.30228064844124, 326.84422954927345, 190.8171496997782, 105.24012888613382, 2076.655418963752, 120.08366787153045, 214.89547240963535, 612.5847216048265, 1527.5137200483935, 189.4332887995296, 1252.0984038738875, 732.4269785982967, 208.58146675038248, 737.9203831543734, 715.0728385044965, 751.032566536883, 594.2309208656045, 760.4693809277708, 516.1342587271407, 550.8521203277971, 509.25880283746534, 247.64725659116388, 193.28423882985481, 177.230378377922, 154.93932108673596, 124.53196967807806, 91.16765755440109, 80.64620433627147, 237.61671921855992, 56.30616909313646, 53.59300846736574, 51.51686355074469, 51.49558196980676, 50.496863234386, 50.102111467003915, 46.42046513656475, 42.14946403743406, 41.75105828533342, 37.31437231949875, 36.05857296337902, 35.209791268732396, 31.801528575432588, 31.77741868925729, 31.097709875818072, 28.989112426894483, 27.81097615098208, 27.377405557791747, 26.380796975183532, 25.499960770866956, 25.188803286201725, 22.115211953030567, 41.13158915436221, 83.36644810524481, 54.74796890795896, 64.75376021898327, 72.12295488175815, 52.55744003163756, 79.57819295540185, 43.31901311643731, 87.75229079718171, 37.790163027174664, 127.97221684671813, 156.89085970762048, 119.54713417673881, 734.5692052986708, 240.634390179698, 122.1257303952618, 297.9654093972311, 715.0728385044965, 729.9443783933542, 1345.3303766130975, 2076.655418963752, 1527.5137200483935, 458.7042211626302, 482.5445180084398, 690.8727445650369, 215.69839846768087, 412.1326730301853, 760.4693809277708, 589.156366859875, 185.57258209454636, 55.070273327377386, 50.29184084118119, 48.731361537191404, 48.320918792647696, 44.40212020093168, 43.46870952509733, 37.86186804293932, 30.722684587076973, 29.922135251467665, 28.206277929970653, 27.165605811413368, 25.92761258902819, 24.184201160604406, 24.056592938213278, 22.81782201538107, 22.13271786687307, 21.7648394441409, 20.805067074414602, 18.483961863556864, 17.839059532275964, 16.97738108445591, 14.873425831320647, 14.671590009221136, 13.50090165710601, 13.136539219084257, 11.956808089737681, 11.323716083083713, 25.05192846737105, 39.92804181492935, 65.9441153180635, 70.4980006084809, 80.75535552036288, 779.2592817216473, 88.85404331274738, 33.63115278028305, 35.40972433453026, 190.70541277766728, 80.31656497902509, 1117.0917884271516, 168.2733853102268, 72.8794783156412, 123.50550366757534, 389.70350872769785, 1172.414288812764, 732.4269785982967, 509.25880283746534, 277.28647000512683, 482.5445180084398, 1345.3303766130975, 832.7238949152649, 485.9119967442875, 1080.0197229708278, 760.4693809277708, 1252.0984038738875, 796.0770806927061, 687.3575633800419, 729.9443783933542, 825.6470931280796, 1527.5137200483935], \"Category\": [\"Default\", \"Default\", \"Default\", \"Default\", \"Default\", \"Default\", \"Default\", \"Default\", \"Default\", \"Default\", \"Default\", \"Default\", \"Default\", \"Default\", \"Default\", \"Default\", \"Default\", \"Default\", \"Default\", \"Default\", \"Default\", \"Default\", \"Default\", \"Default\", \"Default\", \"Default\", \"Default\", \"Default\", \"Default\", \"Default\", \"Topic1\", \"Topic1\", \"Topic1\", \"Topic1\", \"Topic1\", \"Topic1\", \"Topic1\", \"Topic1\", \"Topic1\", \"Topic1\", \"Topic1\", \"Topic1\", \"Topic1\", \"Topic1\", \"Topic1\", \"Topic1\", \"Topic1\", \"Topic1\", \"Topic1\", \"Topic1\", \"Topic1\", \"Topic1\", \"Topic1\", \"Topic1\", \"Topic1\", \"Topic1\", \"Topic1\", \"Topic1\", \"Topic1\", \"Topic1\", \"Topic1\", \"Topic1\", \"Topic1\", \"Topic1\", \"Topic1\", \"Topic1\", \"Topic1\", \"Topic1\", \"Topic1\", \"Topic1\", \"Topic1\", \"Topic1\", \"Topic1\", \"Topic1\", \"Topic1\", \"Topic1\", \"Topic1\", \"Topic1\", \"Topic1\", \"Topic1\", \"Topic1\", \"Topic1\", \"Topic1\", \"Topic1\", \"Topic1\", \"Topic1\", \"Topic1\", \"Topic1\", \"Topic1\", \"Topic1\", \"Topic1\", \"Topic1\", \"Topic1\", \"Topic1\", \"Topic1\", \"Topic1\", \"Topic1\", \"Topic1\", \"Topic1\", \"Topic1\", \"Topic2\", \"Topic2\", \"Topic2\", \"Topic2\", \"Topic2\", \"Topic2\", \"Topic2\", \"Topic2\", \"Topic2\", \"Topic2\", \"Topic2\", \"Topic2\", \"Topic2\", \"Topic2\", \"Topic2\", \"Topic2\", \"Topic2\", \"Topic2\", \"Topic2\", \"Topic2\", \"Topic2\", \"Topic2\", \"Topic2\", \"Topic2\", \"Topic2\", \"Topic2\", \"Topic2\", \"Topic2\", \"Topic2\", \"Topic2\", \"Topic2\", \"Topic2\", \"Topic2\", \"Topic2\", \"Topic2\", \"Topic2\", \"Topic2\", \"Topic2\", \"Topic2\", \"Topic2\", \"Topic2\", \"Topic2\", \"Topic2\", \"Topic2\", \"Topic2\", \"Topic2\", \"Topic2\", \"Topic2\", \"Topic2\", \"Topic2\", \"Topic2\", \"Topic2\", \"Topic2\", \"Topic2\", \"Topic2\", \"Topic2\", \"Topic2\", \"Topic2\", \"Topic2\", \"Topic2\", \"Topic2\", \"Topic2\", \"Topic2\", \"Topic2\", \"Topic2\", \"Topic3\", \"Topic3\", \"Topic3\", \"Topic3\", \"Topic3\", \"Topic3\", \"Topic3\", \"Topic3\", \"Topic3\", \"Topic3\", \"Topic3\", \"Topic3\", \"Topic3\", \"Topic3\", \"Topic3\", \"Topic3\", \"Topic3\", \"Topic3\", \"Topic3\", \"Topic3\", \"Topic3\", \"Topic3\", \"Topic3\", \"Topic3\", \"Topic3\", \"Topic3\", \"Topic3\", \"Topic3\", \"Topic3\", \"Topic3\", \"Topic3\", \"Topic3\", \"Topic3\", \"Topic3\", \"Topic3\", \"Topic3\", \"Topic3\", \"Topic3\", \"Topic3\", \"Topic3\", \"Topic3\", \"Topic3\", \"Topic3\", \"Topic3\", \"Topic3\", \"Topic3\", \"Topic3\", \"Topic3\", \"Topic3\", \"Topic3\", \"Topic3\", \"Topic3\", \"Topic3\", \"Topic3\", \"Topic3\", \"Topic3\", \"Topic3\", \"Topic3\", \"Topic3\", \"Topic3\", \"Topic3\", \"Topic3\", \"Topic3\", \"Topic3\", \"Topic3\", \"Topic3\", \"Topic3\", \"Topic3\", \"Topic3\", \"Topic3\", \"Topic3\", \"Topic3\", \"Topic3\", \"Topic4\", \"Topic4\", \"Topic4\", \"Topic4\", \"Topic4\", \"Topic4\", \"Topic4\", \"Topic4\", \"Topic4\", \"Topic4\", \"Topic4\", \"Topic4\", \"Topic4\", \"Topic4\", \"Topic4\", \"Topic4\", \"Topic4\", \"Topic4\", \"Topic4\", \"Topic4\", \"Topic4\", \"Topic4\", \"Topic4\", \"Topic4\", \"Topic4\", \"Topic4\", \"Topic4\", \"Topic4\", \"Topic4\", \"Topic4\", \"Topic4\", \"Topic4\", \"Topic4\", \"Topic4\", \"Topic4\", \"Topic4\", \"Topic4\", \"Topic4\", \"Topic4\", \"Topic4\", \"Topic4\", \"Topic4\", \"Topic4\", \"Topic4\", \"Topic4\", \"Topic4\", \"Topic4\", \"Topic4\", \"Topic4\", \"Topic4\", \"Topic4\", \"Topic4\", \"Topic4\", \"Topic4\", \"Topic4\", \"Topic4\", \"Topic4\", \"Topic4\", \"Topic4\", \"Topic4\", \"Topic4\", \"Topic4\", \"Topic4\", \"Topic4\", \"Topic4\", \"Topic4\", \"Topic4\", \"Topic4\", \"Topic4\", \"Topic4\", \"Topic4\", \"Topic4\", \"Topic4\", \"Topic4\", \"Topic5\", \"Topic5\", \"Topic5\", \"Topic5\", \"Topic5\", \"Topic5\", \"Topic5\", \"Topic5\", \"Topic5\", \"Topic5\", \"Topic5\", \"Topic5\", \"Topic5\", \"Topic5\", \"Topic5\", \"Topic5\", \"Topic5\", \"Topic5\", \"Topic5\", \"Topic5\", \"Topic5\", \"Topic5\", \"Topic5\", \"Topic5\", \"Topic5\", \"Topic5\", \"Topic5\", \"Topic5\", \"Topic5\", \"Topic5\", \"Topic5\", \"Topic5\", \"Topic5\", \"Topic5\", \"Topic5\", \"Topic5\", \"Topic5\", \"Topic5\", \"Topic5\", \"Topic5\", \"Topic5\", \"Topic5\", \"Topic5\", \"Topic5\", \"Topic5\", \"Topic5\", \"Topic5\", \"Topic5\", \"Topic5\", \"Topic5\", \"Topic5\", \"Topic5\", \"Topic5\", \"Topic5\", \"Topic5\", \"Topic5\", \"Topic5\", \"Topic5\", \"Topic5\", \"Topic5\", \"Topic5\", \"Topic5\", \"Topic5\", \"Topic5\", \"Topic5\", \"Topic5\", \"Topic5\", \"Topic5\", \"Topic6\", \"Topic6\", \"Topic6\", \"Topic6\", \"Topic6\", \"Topic6\", \"Topic6\", \"Topic6\", \"Topic6\", \"Topic6\", \"Topic6\", \"Topic6\", \"Topic6\", \"Topic6\", \"Topic6\", \"Topic6\", \"Topic6\", \"Topic6\", \"Topic6\", \"Topic6\", \"Topic6\", \"Topic6\", \"Topic6\", \"Topic6\", \"Topic6\", \"Topic6\", \"Topic6\", \"Topic6\", \"Topic6\", \"Topic6\", \"Topic6\", \"Topic6\", \"Topic6\", \"Topic6\", \"Topic6\", \"Topic6\", \"Topic6\", \"Topic6\", \"Topic6\", \"Topic6\", \"Topic6\", \"Topic6\", \"Topic6\", \"Topic6\", \"Topic6\", \"Topic6\", \"Topic6\", \"Topic6\", \"Topic6\", \"Topic6\", \"Topic6\", \"Topic6\", \"Topic6\", \"Topic6\", \"Topic6\", \"Topic6\", \"Topic6\", \"Topic6\", \"Topic6\", \"Topic6\", \"Topic6\", \"Topic6\", \"Topic6\", \"Topic6\", \"Topic7\", \"Topic7\", \"Topic7\", \"Topic7\", \"Topic7\", \"Topic7\", \"Topic7\", \"Topic7\", \"Topic7\", \"Topic7\", \"Topic7\", \"Topic7\", \"Topic7\", \"Topic7\", \"Topic7\", \"Topic7\", \"Topic7\", \"Topic7\", \"Topic7\", \"Topic7\", \"Topic7\", \"Topic7\", \"Topic7\", \"Topic7\", \"Topic7\", \"Topic7\", \"Topic7\", \"Topic7\", \"Topic7\", \"Topic7\", \"Topic7\", \"Topic7\", \"Topic7\", \"Topic7\", \"Topic7\", \"Topic7\", \"Topic7\", \"Topic7\", \"Topic7\", \"Topic7\", \"Topic7\", \"Topic7\", \"Topic7\", \"Topic7\", \"Topic7\", \"Topic7\", \"Topic7\", \"Topic7\", \"Topic7\", \"Topic7\", \"Topic7\", \"Topic7\", \"Topic7\", \"Topic7\", \"Topic8\", \"Topic8\", \"Topic8\", \"Topic8\", \"Topic8\", \"Topic8\", \"Topic8\", \"Topic8\", \"Topic8\", \"Topic8\", \"Topic8\", \"Topic8\", \"Topic8\", \"Topic8\", \"Topic8\", \"Topic8\", \"Topic8\", \"Topic8\", \"Topic8\", \"Topic8\", \"Topic8\", \"Topic8\", \"Topic8\", \"Topic8\", \"Topic8\", \"Topic8\", \"Topic8\", \"Topic8\", \"Topic8\", \"Topic8\", \"Topic8\", \"Topic8\", \"Topic8\", \"Topic8\", \"Topic8\", \"Topic8\", \"Topic8\", \"Topic8\", \"Topic8\", \"Topic8\", \"Topic8\", \"Topic8\", \"Topic8\", \"Topic8\", \"Topic8\", \"Topic8\", \"Topic8\", \"Topic8\", \"Topic8\", \"Topic8\", \"Topic8\", \"Topic8\", \"Topic8\", \"Topic8\", \"Topic8\", \"Topic8\", \"Topic8\", \"Topic8\", \"Topic8\", \"Topic8\", \"Topic8\", \"Topic8\", \"Topic8\", \"Topic8\", \"Topic9\", \"Topic9\", \"Topic9\", \"Topic9\", \"Topic9\", \"Topic9\", \"Topic9\", \"Topic9\", \"Topic9\", \"Topic9\", \"Topic9\", \"Topic9\", \"Topic9\", \"Topic9\", \"Topic9\", \"Topic9\", \"Topic9\", \"Topic9\", \"Topic9\", \"Topic9\", \"Topic9\", \"Topic9\", \"Topic9\", \"Topic9\", \"Topic9\", \"Topic9\", \"Topic9\", \"Topic9\", \"Topic9\", \"Topic9\", \"Topic9\", \"Topic9\", \"Topic9\", \"Topic9\", \"Topic9\", \"Topic9\", \"Topic9\", \"Topic9\", \"Topic9\", \"Topic9\", \"Topic9\", \"Topic9\", \"Topic9\", \"Topic9\", \"Topic9\", \"Topic9\", \"Topic9\", \"Topic9\", \"Topic9\", \"Topic9\", \"Topic9\", \"Topic9\", \"Topic9\", \"Topic9\", \"Topic9\", \"Topic9\", \"Topic9\", \"Topic9\", \"Topic9\", \"Topic9\", \"Topic10\", \"Topic10\", \"Topic10\", \"Topic10\", \"Topic10\", \"Topic10\", \"Topic10\", \"Topic10\", \"Topic10\", \"Topic10\", \"Topic10\", \"Topic10\", \"Topic10\", \"Topic10\", \"Topic10\", \"Topic10\", \"Topic10\", \"Topic10\", \"Topic10\", \"Topic10\", \"Topic10\", \"Topic10\", \"Topic10\", \"Topic10\", \"Topic10\", \"Topic10\", \"Topic10\", \"Topic10\", \"Topic10\", \"Topic10\", \"Topic10\", \"Topic10\", \"Topic10\", \"Topic10\", \"Topic10\", \"Topic10\", \"Topic10\", \"Topic10\", \"Topic10\", \"Topic10\", \"Topic10\", \"Topic10\", \"Topic10\", \"Topic10\", \"Topic10\", \"Topic10\", \"Topic10\", \"Topic10\", \"Topic10\", \"Topic10\", \"Topic10\", \"Topic10\", \"Topic10\", \"Topic10\", \"Topic10\", \"Topic10\", \"Topic10\", \"Topic10\", \"Topic10\"], \"logprob\": [30.0, 29.0, 28.0, 27.0, 26.0, 25.0, 24.0, 23.0, 22.0, 21.0, 20.0, 19.0, 18.0, 17.0, 16.0, 15.0, 14.0, 13.0, 12.0, 11.0, 10.0, 9.0, 8.0, 7.0, 6.0, 5.0, 4.0, 3.0, 2.0, 1.0, -5.7297, -5.7999, -5.9946, -6.1441, -6.2709, -6.2856, -6.3709, -6.3864, -6.5459, -6.6367, -6.6832, -6.7122, -6.8301, -6.8416, -6.8449, -6.8612, -6.8618, -6.8699, -6.9066, -5.5462, -6.9451, -5.9205, -6.9629, -6.9708, -6.9752, -6.9821, -6.9895, -6.9952, -6.9704, -7.0413, -5.6603, -5.3138, -3.8932, -5.9806, -5.8914, -5.1777, -5.6712, -6.1189, -5.6576, -4.7121, -4.4747, -6.3489, -6.6076, -5.5929, -4.4591, -4.5297, -6.2611, -5.8435, -4.8354, -6.014, -5.6621, -5.1294, -4.9838, -5.1583, -4.8025, -4.7477, -5.2929, -5.3617, -5.5223, -5.3076, -5.2862, -5.4362, -5.0745, -5.0757, -5.375, -5.3075, -5.5237, -5.5383, -5.5527, -5.6416, -5.3484, -5.5474, -5.6902, -5.867, -6.0301, -6.035, -5.5463, -6.0409, -2.7957, -6.1058, -6.2759, -6.329, -6.3674, -6.3715, -6.4277, -6.4482, -6.4568, -6.4621, -6.604, -6.6265, -6.6302, -6.6634, -6.7113, -6.7387, -6.8734, -6.9304, -6.961, -7.0078, -7.0118, -7.0282, -6.3882, -4.917, -5.8816, -6.0351, -5.2087, -5.3953, -5.8372, -5.3641, -6.3036, -5.5753, -6.1866, -6.1004, -4.4745, -4.6571, -5.2323, -6.081, -6.0496, -4.5495, -5.3397, -4.7993, -4.6094, -5.3625, -5.2398, -5.5077, -5.4241, -5.3835, -5.2507, -5.0648, -5.353, -5.3873, -5.4031, -5.5555, -5.5371, -5.5069, -5.5551, -4.6125, -5.9211, -6.0434, -6.128, -6.3311, -6.4365, -6.5351, -5.4268, -6.6322, -6.6342, -6.6439, -6.6687, -6.7535, -6.7644, -6.7668, -5.4648, -6.809, -6.8625, -6.8669, -6.8843, -6.8949, -6.941, -6.9422, -7.0032, -7.043, -7.0686, -7.1263, -7.1648, -7.1797, -7.2245, -5.0913, -6.2097, -3.2881, -6.6465, -3.6677, -5.8605, -4.5258, -5.5585, -6.4379, -6.0218, -4.1769, -6.1743, -5.8662, -4.7711, -5.1352, -6.1114, -3.3452, -4.8431, -5.1674, -4.8254, -4.4672, -5.3269, -5.1699, -5.473, -5.8941, -5.5165, -4.7724, -5.205, -5.3637, -4.6031, -5.0925, -5.1964, -4.4884, -4.8911, -5.0258, -4.7784, -4.6589, -5.01, -5.1558, -5.1535, -5.0507, -5.1669, -5.2522, -5.2738, -6.5263, -6.5282, -6.5743, -6.6634, -6.7564, -6.7871, -6.8174, -6.8372, -6.8901, -6.9935, -6.9986, -7.0121, -7.1305, -7.1405, -7.1995, -7.2618, -7.281, -7.3094, -7.311, -7.3137, -7.3331, -7.3777, -6.646, -7.4452, -7.4549, -7.5259, -7.11, -6.2563, -7.5863, -5.3585, -5.7892, -5.3918, -6.457, -2.7166, -6.4585, -6.7826, -6.418, -4.0715, -5.7737, -4.1138, -5.8739, -5.8485, -4.5108, -3.9, -5.1847, -5.5347, -5.2345, -5.0419, -5.4796, -5.0684, -4.6618, -5.8618, -4.3617, -4.4608, -5.8677, -4.8693, -5.5171, -4.6653, -4.6704, -5.2416, -4.4223, -4.8933, -4.7455, -4.69, -4.8609, -5.0873, -5.0903, -5.2844, -5.3298, -5.2589, -5.1534, -5.3214, -5.3408, -5.4103, -5.4441, -5.5664, -5.7745, -5.8611, -5.9777, -6.042, -6.1065, -6.1129, -6.1299, -6.1736, -6.1929, -6.1952, -6.2455, -6.2579, -6.2754, -6.3034, -6.356, -6.3619, -6.4067, -6.4253, -6.447, -6.4686, -6.5349, -6.5571, -6.5993, -6.6825, -6.6924, -6.7589, -6.7634, -5.0084, -6.2713, -5.6758, -4.5013, -5.9573, -5.902, -5.9823, -3.644, -5.5961, -5.8291, -5.6826, -4.2341, -5.6295, -5.002, -5.0037, -5.3022, -4.4794, -5.2081, -4.9063, -4.8902, -5.6012, -4.9506, -4.8185, -4.5816, -5.2976, -5.0479, -5.0036, -5.1323, -5.0901, -5.1561, -5.2453, -5.3194, -5.4477, -5.385, -5.4848, -5.4875, -5.5171, -5.554, -4.6733, -4.7484, -4.9739, -5.0091, -5.0714, -5.315, -5.6161, -5.7154, -5.8201, -5.8816, -5.9125, -5.9571, -5.9936, -6.0032, -6.103, -6.1461, -6.1573, -6.1991, -6.2127, -6.2178, -6.2221, -6.3196, -6.3283, -6.3749, -6.4041, -6.4311, -6.4539, -6.4539, -6.4602, -6.529, -4.6936, -5.3549, -5.7528, -5.5827, -5.6382, -4.5028, -5.7102, -5.78, -6.1155, -4.7647, -4.915, -4.8026, -4.7453, -4.9154, -5.4574, -4.976, -5.3174, -5.1075, -5.1777, -5.2108, -5.1827, -5.3506, -5.1325, -5.4333, -5.4484, -5.4909, -5.5602, -5.4851, -5.4751, -5.505, -5.5088, -5.502, -5.4989, -5.5014, -4.3778, -4.3825, -4.4397, -4.723, -4.7939, -4.9316, -4.9804, -5.0936, -5.1353, -5.2721, -5.4326, -5.4409, -5.4758, -5.5377, -5.5746, -5.667, -4.3469, -5.7864, -5.8234, -5.8234, -5.9258, -6.0878, -6.1253, -6.1338, -6.1341, -6.176, -6.207, -6.2201, -6.2669, -6.2718, -4.0208, -5.2624, -2.6533, -4.5719, -4.7413, -4.8923, -5.6102, -3.8874, -5.2482, -4.5124, -4.3126, -4.9694, -3.8639, -4.922, -4.2799, -4.796, -4.1554, -4.3723, -5.2296, -5.0356, -4.8384, -5.0578, -5.0665, -5.1202, -3.971, -4.5092, -4.8863, -5.2252, -5.3204, -5.3492, -5.4589, -5.4931, -5.5105, -5.5367, -5.625, -5.692, -5.7209, -5.7785, -5.8468, -5.8832, -6.2128, -6.2208, -6.3786, -6.4176, -6.4516, -6.4662, -6.5685, -6.602, -5.3174, -6.6078, -6.6533, -6.7099, -6.7107, -6.7135, -5.2535, -5.585, -5.2575, -4.706, -5.4169, -5.069, -5.5788, -5.876, -4.2583, -5.9483, -5.4975, -4.8615, -4.5912, -5.4218, -4.4565, -4.8509, -5.2766, -3.8817, -5.2573, -5.0245, -4.6235, -4.2883, -5.0973, -4.5971, -4.8503, -5.1767, -4.9014, -4.9419, -4.9551, -5.0835, -5.0816, -5.1442, -5.2489, -5.2656, -3.8756, -4.1245, -4.2116, -4.3468, -4.5666, -4.8811, -5.005, -3.9252, -5.3691, -5.4193, -5.4595, -5.4599, -5.4799, -5.4878, -5.5656, -5.6641, -5.6738, -5.7887, -5.8238, -5.8482, -5.9528, -5.9536, -5.9758, -6.0482, -6.091, -6.1073, -6.1456, -6.1808, -6.1935, -6.3287, -5.7136, -5.0468, -5.457, -5.3442, -5.273, -5.565, -5.2303, -5.754, -5.308, -5.8468, -5.1079, -4.9868, -5.1763, -4.1966, -4.8648, -5.2303, -4.9048, -4.6424, -4.6532, -4.5433, -4.5583, -4.7344, -5.0381, -5.079, -5.0197, -5.222, -5.1414, -5.1025, -5.1463, -5.2551, -5.1437, -5.236, -5.2681, -5.2767, -5.3629, -5.3846, -5.5258, -5.7403, -5.7675, -5.8284, -5.8673, -5.9155, -5.9877, -5.9932, -6.0481, -6.0798, -6.0973, -6.1444, -6.2683, -6.3056, -6.3578, -6.4979, -6.5124, -6.6011, -6.6304, -6.7317, -6.7906, -6.0002, -5.5433, -5.0448, -5.0018, -4.8865, -2.7248, -4.9157, -5.8207, -5.803, -4.5034, -5.2884, -3.5579, -4.8314, -5.3832, -5.181, -4.592, -4.0864, -4.6746, -4.8338, -5.0654, -4.9412, -4.6376, -4.817, -4.9813, -4.8096, -4.9506, -4.8716, -5.0277, -5.181, -5.2222, -5.2382, -5.2139], \"loglift\": [30.0, 29.0, 28.0, 27.0, 26.0, 25.0, 24.0, 23.0, 22.0, 21.0, 20.0, 19.0, 18.0, 17.0, 16.0, 15.0, 14.0, 13.0, 12.0, 11.0, 10.0, 9.0, 8.0, 7.0, 6.0, 5.0, 4.0, 3.0, 2.0, 1.0, 1.5023, 1.5018, 1.5004, 1.4991, 1.4978, 1.4977, 1.4967, 1.4965, 1.4945, 1.4931, 1.4924, 1.4919, 1.4899, 1.4897, 1.4896, 1.4893, 1.4892, 1.4891, 1.4884, 1.4883, 1.4876, 1.4873, 1.4873, 1.4871, 1.487, 1.4869, 1.4867, 1.4866, 1.4864, 1.4855, 1.4851, 1.4747, 1.429, 1.4671, 1.4516, 1.4021, 1.3733, 1.3971, 1.3362, 1.2028, 1.0762, 1.3915, 1.4345, 1.2002, 0.9134, 0.9162, 1.3471, 1.2343, 0.8681, 1.2572, 1.0484, 0.6521, 0.5422, 0.5074, 0.1834, 0.1113, 0.5682, 0.4961, 0.6682, 0.2613, 0.1879, 0.3754, -0.4683, -0.5238, 0.1356, -0.2498, 0.4501, -0.3665, -0.2782, -0.0476, 2.0013, 1.9998, 1.9985, 1.9966, 1.9945, 1.9944, 1.9944, 1.9943, 1.994, 1.9934, 1.9907, 1.9897, 1.989, 1.9889, 1.9878, 1.9874, 1.9872, 1.9871, 1.9839, 1.9833, 1.9832, 1.9824, 1.9811, 1.9804, 1.9764, 1.9746, 1.9736, 1.9719, 1.9718, 1.9712, 1.9678, 1.9345, 1.9217, 1.913, 1.8176, 1.829, 1.8649, 1.713, 1.8933, 1.6866, 1.8537, 1.816, 0.9911, 1.0465, 1.1686, 1.7399, 1.7069, 0.4365, 0.9431, 0.2584, -0.0575, 0.8065, 0.6452, 0.9609, 0.769, 0.6679, 0.4068, -0.2058, 0.1212, 0.1234, 0.1658, 0.4233, 0.3207, -0.061, 0.1107, 2.1667, 2.1561, 2.1542, 2.1528, 2.1488, 2.1464, 2.1439, 2.1419, 2.1412, 2.1411, 2.1408, 2.1401, 2.1374, 2.1371, 2.137, 2.1365, 2.1356, 2.1337, 2.1335, 2.1329, 2.1325, 2.1307, 2.1307, 2.1282, 2.1265, 2.1254, 2.1227, 2.1209, 2.1202, 2.1179, 2.1163, 2.0905, 1.9864, 2.1012, 1.8878, 2.0386, 1.9071, 1.987, 2.0776, 2.0306, 1.7747, 2.0362, 1.9808, 1.7727, 1.7997, 1.9643, 1.2066, 1.6134, 1.6984, 1.5529, 1.4117, 1.6863, 1.6059, 1.6949, 1.8752, 1.6525, 1.0003, 1.3192, 1.4246, 0.7693, 1.1765, 1.2247, 0.3706, 0.7747, 0.8592, 0.2794, -0.0527, 0.5464, 0.8167, 0.6279, 0.1549, 0.3437, 0.609, 2.2309, 2.2106, 2.2106, 2.2092, 2.2065, 2.2034, 2.2023, 2.2012, 2.2004, 2.1984, 2.194, 2.1938, 2.1932, 2.1876, 2.1871, 2.184, 2.1806, 2.1795, 2.1778, 2.1777, 2.1776, 2.1764, 2.1736, 2.1695, 2.1692, 2.1686, 2.1636, 2.161, 2.1602, 2.159, 2.1409, 2.1309, 2.0701, 2.1217, 1.8896, 2.1066, 2.1338, 2.0965, 1.8473, 2.016, 1.7978, 2.0072, 1.9982, 1.738, 1.5892, 1.7566, 1.8357, 1.7189, 1.6392, 1.7287, 1.5646, 1.4001, 1.8342, 1.1892, 1.1366, 1.753, 1.1381, 1.5026, 0.9257, 0.9236, 1.2331, 0.5636, 0.9045, 0.7287, 0.4819, 0.6047, 0.5702, 0.4962, 0.9087, 0.9759, 0.7454, -0.2944, 0.235, 0.5203, 2.2949, 2.2946, 2.2932, 2.2906, 2.2893, 2.2873, 2.2862, 2.2849, 2.2848, 2.2845, 2.2836, 2.2831, 2.2831, 2.282, 2.2817, 2.2813, 2.2806, 2.2793, 2.2792, 2.278, 2.2775, 2.2769, 2.2763, 2.2744, 2.2737, 2.2724, 2.2696, 2.2693, 2.2669, 2.2667, 2.2033, 2.2468, 2.1874, 2.064, 2.1935, 2.1675, 2.1608, 1.5616, 2.0428, 2.0751, 1.9648, 0.8237, 1.7446, 1.1286, 0.9632, 1.2721, 0.3795, 1.1573, 0.7512, 0.6787, 1.5323, 0.6404, 0.3533, -0.0298, 1.0525, 0.5386, 0.4423, 0.6656, 0.384, 0.4619, 0.2653, 0.4532, 0.7455, -0.3991, 0.494, -0.0218, -0.0278, 0.1494, 2.4545, 2.4541, 2.4525, 2.4523, 2.4518, 2.4495, 2.4457, 2.4443, 2.4425, 2.4414, 2.4408, 2.44, 2.4392, 2.439, 2.4368, 2.4358, 2.4355, 2.4345, 2.4342, 2.434, 2.4339, 2.4313, 2.431, 2.4297, 2.4288, 2.4279, 2.4272, 2.4272, 2.427, 2.4247, 2.4008, 2.3385, 2.3694, 2.3042, 2.2392, 1.8028, 2.1658, 2.0782, 2.2949, 1.008, 1.0424, 0.8498, 0.7807, 0.8877, 1.4099, 0.642, 0.997, 0.479, 0.4163, 0.3803, 0.2829, 0.7664, 0.0731, 0.847, 0.7216, 0.6598, 1.1503, 0.4588, 0.3031, 0.5153, 0.47, 0.0953, -0.3271, -0.3779, 2.6784, 2.6784, 2.678, 2.6762, 2.6757, 2.6745, 2.6741, 2.6729, 2.6725, 2.6709, 2.6687, 2.6685, 2.668, 2.667, 2.6664, 2.6647, 2.6624, 2.6624, 2.6616, 2.6616, 2.6592, 2.655, 2.6539, 2.6537, 2.6537, 2.6524, 2.6515, 2.651, 2.6495, 2.6493, 2.6234, 2.6251, 2.4702, 2.5643, 2.5563, 2.5475, 2.6037, 2.3376, 2.5165, 2.3741, 2.307, 2.453, 1.7885, 2.24, 1.8371, 2.1421, 1.6229, 1.1597, 2.3276, 1.9774, 0.717, 1.0473, 0.7452, 0.0517, 2.7638, 2.7611, 2.7581, 2.7544, 2.753, 2.7526, 2.7509, 2.7503, 2.75, 2.7496, 2.7479, 2.7466, 2.746, 2.7447, 2.7431, 2.7422, 2.7325, 2.7322, 2.7262, 2.7246, 2.7232, 2.7225, 2.7178, 2.7162, 2.7161, 2.7159, 2.7135, 2.7105, 2.7104, 2.7103, 2.707, 2.7036, 2.6862, 2.6601, 2.6781, 2.6095, 2.625, 2.6378, 2.3547, 2.6409, 2.5051, 2.2155, 2.0751, 2.408, 1.9444, 2.0881, 2.2575, 0.6701, 2.1449, 1.7957, 1.1491, 0.5706, 1.849, 0.4607, 0.7437, 1.6734, 0.6851, 0.6761, 0.6138, 0.7196, 0.4749, 0.7998, 0.6299, 0.6918, 2.8027, 2.8017, 2.8013, 2.8006, 2.7992, 2.7965, 2.7952, 2.7945, 2.7904, 2.7896, 2.7889, 2.7889, 2.7886, 2.7884, 2.787, 2.785, 2.7848, 2.7823, 2.7814, 2.7808, 2.778, 2.778, 2.7774, 2.7752, 2.7739, 2.7734, 2.7721, 2.7709, 2.7705, 2.7654, 2.76, 2.7203, 2.7306, 2.6755, 2.639, 2.6634, 2.5833, 2.6677, 2.4078, 2.7115, 2.2307, 2.148, 2.2303, 1.3944, 1.8423, 2.155, 1.5886, 0.9756, 0.9442, 0.4427, -0.0064, 0.1246, 1.0239, 0.9323, 0.6327, 1.5945, 1.0276, 0.4539, 0.6654, 1.7118, 3.038, 3.0365, 3.0359, 3.0358, 3.0341, 3.0337, 3.0306, 3.025, 3.0242, 3.0224, 3.0211, 3.0195, 3.017, 3.0168, 3.0147, 3.0135, 3.0127, 3.0108, 3.0052, 3.0034, 3.0007, 2.9929, 2.992, 2.9865, 2.9845, 2.9774, 2.9729, 2.9692, 2.9599, 2.9567, 2.933, 2.9124, 2.8072, 2.7877, 2.8542, 2.8203, 2.4362, 2.516, 1.614, 2.2333, 2.5184, 2.1931, 1.633, 1.0371, 0.9193, 1.1236, 1.4999, 1.0701, 0.3483, 0.6486, 1.023, 0.396, 0.6058, 0.1861, 0.4829, 0.4765, 0.3752, 0.236, -0.355]}, \"token.table\": {\"Topic\": [1, 2, 3, 4, 5, 7, 1, 2, 3, 2, 7, 10, 10, 3, 7, 8, 9, 8, 7, 10, 10, 4, 5, 1, 7, 1, 3, 4, 6, 7, 8, 10, 1, 1, 10, 9, 7, 9, 9, 5, 9, 9, 9, 9, 1, 3, 3, 3, 5, 5, 1, 1, 5, 10, 5, 10, 1, 4, 4, 1, 2, 3, 4, 7, 7, 10, 7, 6, 7, 2, 5, 6, 7, 8, 10, 6, 7, 2, 4, 5, 10, 7, 2, 1, 3, 9, 4, 1, 1, 2, 3, 2, 8, 1, 2, 3, 4, 5, 6, 7, 8, 10, 5, 8, 10, 1, 2, 3, 5, 7, 10, 3, 4, 7, 9, 1, 2, 4, 5, 6, 7, 10, 1, 2, 4, 6, 7, 8, 9, 10, 10, 1, 2, 3, 4, 5, 6, 7, 9, 10, 5, 1, 1, 6, 2, 6, 10, 6, 8, 5, 1, 2, 6, 8, 9, 10, 9, 1, 2, 3, 4, 5, 6, 8, 10, 2, 5, 8, 8, 1, 8, 10, 6, 7, 10, 6, 2, 9, 8, 4, 8, 1, 2, 4, 5, 6, 7, 9, 10, 2, 2, 5, 5, 9, 9, 9, 4, 7, 1, 3, 5, 6, 7, 9, 10, 3, 5, 6, 9, 10, 5, 10, 4, 5, 5, 5, 9, 1, 2, 4, 5, 6, 8, 9, 1, 1, 2, 5, 6, 8, 9, 10, 6, 7, 9, 8, 1, 6, 8, 1, 2, 10, 10, 7, 8, 10, 1, 2, 3, 4, 5, 6, 7, 8, 9, 10, 1, 2, 3, 4, 5, 6, 7, 8, 10, 3, 1, 2, 4, 5, 6, 7, 9, 10, 1, 2, 4, 6, 9, 10, 5, 6, 1, 3, 4, 1, 4, 6, 6, 10, 1, 8, 1, 8, 9, 10, 7, 1, 4, 2, 3, 4, 5, 1, 2, 3, 4, 5, 6, 7, 8, 9, 10, 1, 3, 4, 5, 6, 9, 1, 2, 3, 4, 5, 6, 9, 10, 1, 2, 4, 5, 9, 5, 10, 1, 5, 8, 7, 2, 3, 4, 9, 5, 7, 9, 10, 6, 7, 9, 10, 6, 7, 10, 1, 2, 3, 4, 5, 6, 7, 9, 10, 3, 8, 1, 2, 5, 8, 1, 3, 5, 8, 9, 6, 4, 1, 2, 3, 4, 5, 6, 8, 9, 10, 1, 4, 1, 1, 3, 5, 8, 9, 1, 2, 4, 6, 4, 4, 1, 2, 3, 4, 5, 6, 7, 8, 9, 10, 10, 1, 2, 3, 4, 5, 6, 7, 8, 9, 10, 4, 7, 2, 4, 7, 9, 2, 5, 7, 10, 7, 8, 2, 3, 1, 3, 6, 9, 1, 2, 3, 5, 6, 7, 8, 1, 2, 3, 4, 5, 7, 8, 1, 2, 3, 4, 5, 6, 7, 2, 5, 9, 3, 7, 10, 8, 7, 9, 5, 1, 7, 8, 1, 2, 4, 5, 8, 10, 7, 8, 8, 8, 1, 2, 3, 4, 5, 6, 7, 8, 10, 1, 4, 5, 6, 10, 1, 2, 3, 8, 6, 8, 10, 8, 3, 4, 3, 5, 2, 3, 4, 5, 1, 2, 3, 4, 6, 9, 10, 1, 2, 3, 4, 5, 9, 1, 4, 5, 9, 10, 1, 2, 3, 5, 6, 7, 8, 10, 1, 2, 3, 4, 6, 7, 9, 10, 10, 5, 1, 2, 3, 4, 5, 7, 9, 9, 5, 9, 5, 9, 2, 5, 6, 1, 2, 3, 5, 7, 8, 1, 2, 3, 5, 9, 6, 4, 1, 9, 1, 6, 2, 4, 3, 3, 1, 4, 6, 7, 8, 1, 4, 6, 7, 8, 9, 1, 2, 4, 6, 5, 10, 9, 10, 9, 3, 4, 7, 10, 1, 4, 7, 2, 5, 6, 2, 1, 3, 4, 4, 6, 7, 9, 2, 2, 5, 2, 6, 10, 2, 9, 10, 1, 2, 2, 7, 5, 2, 2, 3, 5, 10, 1, 2, 3, 4, 5, 6, 7, 8, 9, 10, 5, 1, 2, 4, 6, 9, 1, 4, 1, 2, 3, 4, 6, 7, 9, 1, 7, 4, 5, 9, 7, 10, 9, 10, 1, 2, 4, 8, 1, 2, 4, 6, 9, 1, 2, 4, 6, 7, 8, 9, 2, 1, 4, 8, 9, 4, 9, 3, 2, 1, 3, 1, 8, 10, 8, 10, 1, 2, 3, 4, 5, 6, 8, 9, 10, 1, 2, 3, 5, 6, 8, 9, 10, 6, 6, 6, 10, 8, 8, 2, 6, 10, 1, 2, 3, 4, 5, 9, 10, 1, 4, 3, 3, 3, 3, 4, 1, 2, 3, 4, 5, 6, 7, 8, 9, 10, 10, 4, 2, 7, 1, 2, 3, 4, 5, 6, 7, 8, 10, 1, 2, 4, 5, 6, 7, 8, 10, 1, 4, 6, 1, 3, 4, 7, 8, 9, 1, 2, 3, 9, 2, 9, 2, 3, 5, 9, 9, 1, 2, 3, 4, 5, 6, 8, 9, 10, 2, 3, 5, 7, 10, 1, 2, 3, 4, 7, 9, 2, 2, 1, 2, 3, 4, 5, 6, 8, 9, 10, 1, 2, 5, 6, 7, 8, 10, 8, 5, 5, 1, 3, 4, 7, 9, 1, 6, 3, 7, 3, 1, 2, 3, 4, 5, 6, 7, 8, 9, 10, 9, 4, 7, 9, 10, 1, 2, 3, 4, 5, 6, 7, 8, 9, 6, 8, 3, 6, 8, 8, 5, 10, 3, 4, 2, 2, 2, 3, 2, 4, 4, 6, 1, 2, 4, 6, 9, 10, 7, 7, 7, 7, 2, 3, 4, 5, 6, 8, 10, 6, 8, 10, 1, 2, 1, 2, 3, 4, 5, 6, 8, 9, 2, 3, 5, 6, 8, 10, 5, 10, 7, 4, 6, 4, 5, 9, 6, 1, 6, 8, 6, 6, 1, 2, 3, 4, 5, 6, 7, 9, 10, 9, 10, 9, 6, 9, 5, 8, 3, 5, 6, 7, 3, 8, 8, 10, 8, 6, 1, 1, 5, 9, 8, 5, 7, 5, 6, 7, 9, 10, 7, 1, 2, 4, 6, 7, 9, 10, 8, 3, 7, 3, 8, 3, 7, 10, 2, 9, 6, 1, 6, 9, 4, 5, 8, 10, 8, 4, 8, 4, 8, 1, 4, 7, 1, 1, 2, 3, 4, 5, 6, 9, 10, 1, 4, 6, 1, 2, 6, 2, 7, 1, 2, 3, 4, 5, 6, 8, 9, 10, 1, 2, 3, 4, 5, 6, 7, 8, 9, 10, 9, 5, 9, 5, 9, 4, 6, 7, 10, 1, 3, 1, 3, 5, 1, 3, 5, 4, 5, 7, 9, 1, 4, 9, 1, 2, 3, 4, 6, 7, 8, 2, 9, 10, 5, 10, 2, 7, 2, 8, 10, 7, 6, 6, 3, 1, 2, 4, 5, 6, 7, 8, 9, 10, 3, 2, 1, 2, 3, 4, 5, 6, 7, 8, 9, 10, 2, 5, 8, 10, 5, 1, 2, 4, 5, 6, 7, 8, 9, 10, 5, 6, 7, 7, 5, 6, 8, 4, 2, 4, 8, 10, 4, 2, 5, 7, 9, 1, 2, 3, 4, 5, 6, 9, 1, 4, 9, 4, 5, 4, 1, 2, 3, 4, 5, 6, 8, 9, 10, 1, 2, 3, 4, 5, 6, 8, 9, 10, 1, 2, 3, 4, 5, 6, 8, 9, 10, 4, 6, 4, 5, 6, 7, 10, 1, 2, 3, 5, 6, 1, 4, 2, 3, 5, 9, 1, 9, 1, 2, 3, 4, 5, 6, 7, 8, 9, 1, 2, 3, 4, 8, 10, 1, 2, 3, 5, 6, 7, 8, 1, 2, 3, 4, 5, 6, 8, 9, 10, 4, 6, 7, 10, 2, 3, 3, 4, 1, 2, 3, 4, 5, 6, 7, 8, 9, 10, 6, 1, 2, 3, 5, 6, 7, 8, 9, 10, 1, 2, 3, 4, 5, 6, 7, 8, 9, 10, 2, 8, 2, 4, 5, 1, 2, 3, 6, 7, 8, 9, 10, 1, 2, 3, 5, 6, 7, 9, 10, 1, 2, 3, 4, 5, 6, 7, 8, 9, 10, 1, 3, 5, 6, 7, 8, 10, 6, 5, 1, 4, 2, 1, 1, 3, 3, 4, 2, 5, 8, 7, 6, 1, 3, 5, 7, 8, 9, 10, 1, 2, 3, 4, 5, 6, 7, 8, 9, 10, 1, 2, 3, 4, 5, 6, 7, 8, 9, 10, 1, 4, 6, 8, 1, 2, 4, 6, 1, 1, 2, 3, 4, 5, 6, 7, 8, 9, 2, 3, 1, 2, 3, 4, 5, 7, 8, 9, 10, 2, 3, 5, 10, 1, 2, 3, 4, 5, 6, 8, 9, 10, 1, 2, 3, 5, 6, 8, 9, 10, 1, 10, 7, 3, 4, 6, 1, 2, 3, 4, 5, 6, 7, 8, 9, 10, 1, 2, 3, 4, 6, 8, 9, 10, 5, 10, 6, 4, 5, 5, 1, 4, 3, 5, 9], \"Freq\": [0.3905625515280053, 0.14445464234597455, 0.21044009625709872, 0.18012245527090653, 0.06776884455737078, 0.007133562584986397, 0.13065853456856968, 0.04899695046321363, 0.8166158410535606, 0.9819834445027347, 0.09929359612445379, 0.8794575656737337, 0.9772365155897255, 0.9503125919178769, 0.06587162782460382, 0.8563311617198496, 0.07685023246203779, 0.9926510295874169, 0.21815588724771107, 0.7815113843168002, 0.9691821708672199, 0.9829225554101558, 0.9717281487494657, 0.9418582185792296, 0.04709291092896148, 0.9852318006311339, 0.03108488328916871, 0.611336038020318, 0.16578604420889978, 0.041446511052224945, 0.051808138815281186, 0.08289302210444989, 0.9874840177641871, 0.9750484691898881, 0.9560788620014887, 0.9727288575623835, 0.9707246430684932, 0.9706429601511378, 0.9647757087203656, 0.9405439823771359, 0.025420107631814483, 0.9933556981281577, 0.991987169866334, 0.9747959104062757, 0.9799637106732795, 0.9777661276670188, 0.9858146161249536, 0.949424491403093, 0.9854221835281723, 0.9730710894116702, 0.9801758144252248, 0.9802690118796903, 0.5748731667141087, 0.4210338685793472, 0.7130020584549751, 0.2766873659676023, 0.6486594764267051, 0.35048536226281646, 0.9825433530948982, 0.7586188479532858, 0.00602078450756576, 0.042145491552960324, 0.18664431973453857, 0.9950324169395385, 0.9782542864463297, 0.016866453214591893, 0.9963112771939886, 0.05625376653250419, 0.9188115200309017, 0.08901057063646038, 0.11519015023541931, 0.18325705719271254, 0.5811866670968884, 0.020943663679167147, 0.010471831839583574, 0.14359274040347042, 0.8495903807205333, 0.7594707830697305, 0.050631385537982035, 0.1518941566139461, 0.03797353915348652, 0.9865573480863346, 0.9955903546890325, 0.06132859361128429, 0.9199289041692643, 0.9939374906244095, 0.9756750046385624, 0.9889352408195471, 0.1923472236160806, 0.06010850738002518, 0.7453454915123123, 0.10916971742219717, 0.8733577393775773, 0.214813558223292, 0.38239860364571837, 0.13863853757673456, 0.07312801982069515, 0.041134511149141025, 0.03047000825862298, 0.01371150371638034, 0.07008101899483285, 0.03808751032327873, 0.9773899149201505, 0.9803489490336618, 0.941276082509426, 0.12000944793149686, 0.10589068935132076, 0.6706410325583648, 0.0035296896450440255, 0.07412348254592453, 0.021178137870264152, 0.5936004557889645, 0.2308446216957084, 0.09893340929816075, 0.06595560619877383, 0.17458948498348273, 0.13505979027024137, 0.3656496760974827, 0.1712953437573793, 0.06258868329596551, 0.05929454206986206, 0.02964727103493103, 0.19921993011359862, 0.1402957254321117, 0.2328909042173054, 0.2328909042173054, 0.05611829017284468, 0.05611829017284468, 0.02805914508642234, 0.053312375664202445, 0.952965035474103, 0.5270428327796751, 0.041127619898991996, 0.15232451814441478, 0.010662716270109035, 0.11576663378975524, 0.04874384580621273, 0.07463901389076324, 0.015232451814441479, 0.013709206632997331, 0.9774231784020341, 0.9842393358909113, 0.9757042948363787, 0.9937524073192103, 0.12054077034458896, 0.8036051356305931, 0.06696709463588275, 0.8802776010000777, 0.10028478998735062, 0.9868916324880279, 0.11085696781743329, 0.1055780645880317, 0.03167341937640951, 0.4011966454345205, 0.2639451614700793, 0.08974135489982694, 0.9973863768972316, 0.220231598573886, 0.34530139529485826, 0.04894035523864133, 0.016313451746213778, 0.15497779158903088, 0.07069162423359303, 0.13050761396971022, 0.013594543121844814, 0.25542040199052796, 0.03831306029857919, 0.7024061054739519, 0.9824043130443404, 0.031312897160942765, 0.9550433634087543, 0.9572337075822075, 0.07470439007901941, 0.33616975535558735, 0.5851843889523187, 0.9896129647007036, 0.18849385042465688, 0.804240428478536, 0.9859777115917902, 0.970882077453019, 0.9901748418830288, 0.11786401118654419, 0.3503180332488952, 0.19644001864424032, 0.06548000621474677, 0.12441201180801886, 0.03601400341811072, 0.06548000621474677, 0.0425620040395854, 0.9770023696109289, 0.9717049666516197, 0.9868185834777143, 0.9506452787311346, 0.9930577455784788, 0.9656404873434528, 0.9903762235351116, 0.98076954004325, 0.9836659721166906, 0.09508336669225852, 0.0415989729278631, 0.13073962920185545, 0.13073962920185545, 0.10696878752879083, 0.04754168334612926, 0.43976057095169563, 0.041949517234346936, 0.30937768960330864, 0.0471932068886403, 0.052436896542933674, 0.5401000343922168, 0.19768580895654864, 0.7907432358261945, 0.9539257879487737, 0.9690104182051048, 0.9853323995537698, 0.1141608114167705, 0.8752328875285738, 0.2929098510763405, 0.07593959101979197, 0.15730343854099768, 0.02440915425636171, 0.19798536230160052, 0.1247578995325154, 0.12747002778322225, 0.9805282674320097, 0.09548471556201861, 0.05092518163307659, 0.4646922824018239, 0.03819388622480745, 0.03182823852067287, 0.08275342015374947, 0.24189461275711382, 0.054630904749214136, 0.9404320031829005, 0.9820110359790027, 0.9503040373413296, 0.9926278048440227, 0.9803177599465633, 0.9670976716518769, 0.8958399111530427, 0.10264832315295282, 0.9641586293893524, 0.9849919740774483, 0.0892030082822142, 0.05946867218814279, 0.8325614106339991, 0.16576605503329903, 0.009589771778785894, 0.00821980438181648, 0.33153211006659805, 0.01643960876363296, 0.09452775039088952, 0.0712383046424095, 0.07808814162725657, 0.1548063158575437, 0.06849836984847067, 0.07129499430639548, 0.045369541831342584, 0.13333089844312923, 0.08703544759482046, 0.47591723472061404, 0.09166499267965134, 0.0111109082035941, 0.012962726237526452, 0.07036908528942931, 0.9852433000736862, 0.1022566027572717, 0.0340855342524239, 0.47719747953393465, 0.011361844750807967, 0.19883228313913942, 0.06249014612944382, 0.07953291325565577, 0.028404611877019918, 0.22381854500691972, 0.0038589404311537884, 0.5093801369123001, 0.1312039746592288, 0.07717880862307577, 0.05402516603615304, 0.9808142603170826, 0.9624030655269128, 0.8734865365916212, 0.0465859486182198, 0.07570216650460716, 0.9238331929228567, 0.07594574671550511, 0.962907948508053, 0.12383079655291032, 0.8668155758703723, 0.06659912297556546, 0.915737940914025, 0.0832752711276136, 0.532961735216727, 0.3747387200742612, 0.9726636242511042, 0.965113095611476, 0.7743505355802086, 0.2191558119566628, 0.26788991192720557, 0.005252743371121678, 0.619823717792358, 0.11030761079355524, 0.28760403959046205, 0.15844852181141195, 0.03728200513209693, 0.0612490084313021, 0.19706202712679805, 0.06524350898116962, 0.010652001466313408, 0.11584051594615831, 0.0665750091644588, 0.9510341006204726, 0.17444088228353774, 0.03563845982136793, 0.6433679851962736, 0.054395543937877364, 0.04876841870292453, 0.039389876644669815, 0.12910006947987457, 0.056558125676897435, 0.12787054500863768, 0.5225479002756828, 0.09713243322771516, 0.01598381812607971, 0.047951454378239125, 0.003688573413710702, 0.10976112547547495, 0.12348126615990933, 0.5968261197728951, 0.11662119581769215, 0.048020492395520295, 0.07582177690736862, 0.9098613228884235, 0.22804989174773027, 0.1710374188107977, 0.598630965837792, 0.9784660494659339, 0.06772738041590534, 0.6151903721111402, 0.15803055430377913, 0.152386605935787, 0.06472539833408197, 0.6853277470667504, 0.12183604392297784, 0.12564342029557088, 0.038898199992971685, 0.7001675998734903, 0.029173649994728764, 0.22366464995958718, 0.01729298031398548, 0.8732955058562667, 0.10375788188391288, 0.11649479394463948, 0.2610346308759514, 0.06903395196719377, 0.18552874591183324, 0.05824739697231974, 0.14022521493336235, 0.03883159798154649, 0.1272813489395135, 0.002157310998974805, 0.971909891620662, 0.9741261846341284, 0.2610199266237529, 0.0113486924619023, 0.06430925728411303, 0.6620070602776342, 0.2105553736355629, 0.07820628163606622, 0.10226975290870198, 0.5775233105432582, 0.030079339090794698, 0.9829457010040709, 0.9643710131193772, 0.13884729283947259, 0.10154503506170384, 0.13470259753083164, 0.153353726419716, 0.05388103901233265, 0.10983442567898578, 0.01865112888888438, 0.153353726419716, 0.1367749451851521, 0.958729632036207, 0.03486289571040752, 0.9826511585329812, 0.015179211633231453, 0.16697132796554598, 0.04553763489969436, 0.7741397932948041, 0.964701263205505, 0.9647314430743773, 0.03155663598841421, 0.9479451244374033, 0.982513500579325, 0.921301194530767, 0.9286312645712824, 0.07909383094965174, 0.14809057709722026, 0.04375403414236054, 0.1060193904218736, 0.07909383094965174, 0.20699023844270562, 0.10433654295485974, 0.12957925496006772, 0.0706795936145824, 0.031974101873263466, 0.9199779671500379, 0.15689392559969428, 0.09083332534719142, 0.04954545018937714, 0.33236739502040497, 0.041287875157814284, 0.10528408165242642, 0.03922348139992357, 0.07431817528406572, 0.101155294136645, 0.012386362547344284, 0.1085043044977921, 0.8871822544231236, 0.0790004631902625, 0.0790004631902625, 0.49093144982520265, 0.34421630390042945, 0.01539632019118527, 0.033358693747568086, 0.7082307287945224, 0.24120901632856925, 0.9470310134082964, 0.04058704343178413, 0.01967265861991113, 0.9737966016856009, 0.03198112541622731, 0.927452637070592, 0.054796553367003106, 0.9315414072390528, 0.5513838437495707, 0.09080329172859994, 0.2461535016739155, 0.05907684040173972, 0.044854638082802385, 0.0032820466889855403, 0.0032820466889855403, 0.4248907020494271, 0.12186787578161862, 0.21409221421095162, 0.11198669666419007, 0.09716492798804728, 0.0032937263724761787, 0.02634981097980943, 0.5533802894373462, 0.125982321212332, 0.09536979456260647, 0.041209170490015136, 0.15541744299091423, 0.012951453582576187, 0.015306263324862766, 0.041272721001941945, 0.797939272704211, 0.16509088400776778, 0.9387249753924861, 0.9847755279317828, 0.9424303972683526, 0.9489332398299318, 0.9836711640142761, 0.9901605128999843, 0.9856394203915526, 0.979189484460719, 0.019326108245935242, 0.9399394599593259, 0.09574926785923063, 0.139634348961378, 0.027926869792275603, 0.1476134546163139, 0.49869410343349285, 0.08777016220429475, 0.9884854855469527, 0.9892618695007142, 0.9890777977494025, 0.9832189091351161, 0.18029792350030352, 0.09596502379854865, 0.17448186145190664, 0.04943652741137355, 0.2849870403714475, 0.08142486867755643, 0.055252589459770435, 0.026172279217785997, 0.04943652741137355, 0.12288685440966926, 0.6702919331436505, 0.04468612887624337, 0.05585766109530421, 0.10054378997154759, 0.07977108238475983, 0.031908432953903935, 0.8615276897554062, 0.9954787424112781, 0.08032280732711347, 0.899615442063671, 0.016064561465422695, 0.9444707180683203, 0.9734116820738004, 0.9432994399521111, 0.9469994331670313, 0.9784754504750881, 0.018955223682231973, 0.7676865591303949, 0.0916169144641212, 0.12004974998746916, 0.08118116202829524, 0.12177174304244287, 0.38717169582725425, 0.16548467644229414, 0.09054821918540623, 0.14675056212807217, 0.006244704771407326, 0.18484187067394478, 0.050990860875570976, 0.05736471848501735, 0.17209415545505205, 0.012747715218892744, 0.5162824663651562, 0.20780768044819772, 0.7922667817087539, 0.42660997564861286, 0.560448399381511, 0.008364901483306136, 0.347353938541676, 0.18166211728329032, 0.21160642232998653, 0.05789232309027933, 0.0698700451089578, 0.05190346208094009, 0.04791088807471393, 0.031940592049809285, 0.36262470540827024, 0.18486749687480444, 0.19375535730147775, 0.049772018389370426, 0.014220576682677266, 0.06577016715738235, 0.07999074384005962, 0.04799444630403577, 0.8831023249460318, 0.980541449601859, 0.3154728603905978, 0.10068282778423333, 0.03691703685421889, 0.14766814741687556, 0.060409696670540004, 0.04362922537316778, 0.2953362948337511, 0.9957282481000402, 0.07938573850138511, 0.8997050363490313, 0.884744128262543, 0.10564108994179618, 0.9851825004888859, 0.009564878645523163, 0.9957452428618776, 0.014610770733598486, 0.034091798378396466, 0.6233928846335354, 0.048702569111994956, 0.03896205528959596, 0.24351284555997477, 0.05856664323764256, 0.11908550791653988, 0.6735163972328895, 0.11127662215152087, 0.03904442882509504, 0.986108284946304, 0.9021185015140211, 0.9910779890788737, 0.9768023803754804, 0.9731873962583355, 0.9753833282282369, 0.988292902810868, 0.9132326937347938, 0.9813884818342754, 0.9752113187615062, 0.22268542850883477, 0.5506403323127551, 0.05668356362043067, 0.07692769348487019, 0.09312299737642181, 0.21159018774586086, 0.6763329215448053, 0.03589476399260139, 0.03589476399260139, 0.003778396209747515, 0.03589476399260139, 0.06721849609161544, 0.09410589452826161, 0.7931782538810621, 0.026887398436646174, 0.7861905414857397, 0.21277633920944333, 0.8802577612055003, 0.10810183032348249, 0.9909422463706948, 0.05646982867501043, 0.6695708257179809, 0.1532752492607426, 0.11293965735002086, 0.28709837478879663, 0.5954632958582449, 0.11696600454358382, 0.2890667049495604, 0.013139395679525472, 0.6832485753353246, 0.9787195982614014, 0.24906475144057555, 0.5725254675971672, 0.1779033938861254, 0.9663333225612354, 0.07500580602738982, 0.8775679305204609, 0.03750290301369491, 0.981211874274269, 0.9055609081816846, 0.07186991334775275, 0.8849418165664253, 0.03687257569026772, 0.07374515138053545, 0.7358416464051583, 0.24923668668561813, 0.9909436711780435, 0.9812814701602973, 0.9881151471576328, 0.9727857696293115, 0.9768698787956278, 0.9750030025044263, 0.9915728775387178, 0.8365108430418915, 0.08365108430418916, 0.04879646584411034, 0.03485461846007881, 0.3224950296517624, 0.011881395829275457, 0.10693256246347911, 0.14936611899660576, 0.03564418748782637, 0.03564418748782637, 0.14427409221263054, 0.03564418748782637, 0.1171166160314295, 0.039038872010476504, 0.9567721972080637, 0.5192435400338936, 0.009272206072033815, 0.06954154554025362, 0.10199426679237197, 0.29671059430508206, 0.8413943990937072, 0.15499370509620922, 0.7358334180552139, 0.07339514911548169, 0.08468671051786349, 0.06774936841429079, 0.016937342103572697, 0.0037638538007939326, 0.01505541520317573, 0.967979595470043, 0.9723513164489834, 0.7975712150952922, 0.1963252221773027, 0.9708397092364037, 0.22508823745481388, 0.7653000073463672, 0.9658798650911147, 0.9642229848258097, 0.3536603128386448, 0.06980137753394305, 0.19544385709504056, 0.3769274386832925, 0.4779034281597145, 0.041556819839975175, 0.04571250182397269, 0.04986818380797021, 0.3823227425277716, 0.09160836050305515, 0.1832167210061103, 0.23171526480184537, 0.09160836050305515, 0.04849854379573508, 0.016166181265245026, 0.33410107948173057, 0.9864797666121791, 0.13674856680078143, 0.11395713900065119, 0.07976999730045582, 0.672347120103842, 0.02431221405638165, 0.9481763481988844, 0.9786570422573573, 0.993134390746963, 0.9893682354249989, 0.9843135834925278, 0.9888264487959387, 0.91600979444278, 0.07156326519084219, 0.9295112462431654, 0.04041353244535502, 0.26610563934583403, 0.20738400384773098, 0.07358787233306584, 0.1873145841205312, 0.06689806575733258, 0.02601591446118489, 0.011892989467970235, 0.09440060390201374, 0.06689806575733258, 0.08735051199729389, 0.30087398576845675, 0.21837627999323472, 0.09462972133040172, 0.03882244977657506, 0.041248852887611, 0.1698482177725159, 0.05095446533175477, 0.9830395420129556, 0.9962460731635276, 0.8444982475761373, 0.13694566176910336, 0.9621162223742797, 0.9850366015633167, 0.9677517318756548, 0.9844012538323897, 0.9648589438895772, 0.13829962444196395, 0.004576090514623807, 0.10830080884609676, 0.7052263937536911, 0.02135508906824443, 0.006101454019498409, 0.01576208955037089, 0.15028608442655783, 0.8486743591146796, 0.9763410864168381, 0.9960453268755786, 0.9623735608977951, 0.6888997133820396, 0.3079172961328814, 0.1728708090411796, 0.07202950376715817, 0.0864354045205898, 0.2243204545891497, 0.05556561719180773, 0.07820346123291458, 0.0884933903425086, 0.06997151794523936, 0.020579858219188046, 0.1317110926028035, 0.9892173121719494, 0.9608390072713235, 0.9730689370520385, 0.9869403993684835, 0.1492364973890419, 0.0314182099766404, 0.04516367684142057, 0.1806547073656823, 0.05105459121204065, 0.24152748919542308, 0.029454571853100374, 0.1256728399065616, 0.14530922114196185, 0.21162519203844146, 0.035498419309674054, 0.2689687924617611, 0.06553554334093671, 0.12970576286227056, 0.038229066948879745, 0.13243641050147628, 0.11878317230544778, 0.9001125530572996, 0.07317988236238208, 0.021953964708714625, 0.20332135589012862, 0.46836526624690344, 0.07261476996076023, 0.06353792371566519, 0.11799900118623537, 0.07261476996076023, 0.9855698903337475, 0.7237913167582032, 0.19542365552471488, 0.07237913167582033, 0.9203399243428433, 0.0746221560277981, 0.9830449992223185, 0.9311084257694294, 0.07197140020197794, 0.9116377358917206, 0.949688236349345, 0.022371485230022022, 0.28834358740917276, 0.08700022033897453, 0.26348638159803717, 0.21128624939465243, 0.02734292639224914, 0.06214301452783895, 0.004971441162227116, 0.03231436755447625, 0.7460774962862717, 0.04813403201846914, 0.060167540023086434, 0.14440209605540744, 0.006016754002308643, 0.18771171121201408, 0.2118460740821302, 0.3700602306751135, 0.1153086226016658, 0.04826872574023219, 0.06435830098697626, 0.9823455191505577, 0.9563297783092211, 0.29088518454952705, 0.20462268154518456, 0.11836017854084205, 0.006018314163093663, 0.16450058712456014, 0.13641512103012304, 0.03209767553649954, 0.006018314163093663, 0.04012209442062442, 0.21463306910910154, 0.053658267277275386, 0.19024294761943092, 0.35121774945125706, 0.029268145787604755, 0.03902419438347301, 0.11707258315041902, 0.9867575912142501, 0.9880172412280899, 0.9608537536943105, 0.0013137455642610201, 0.7540899538858256, 0.07094226047009508, 0.14057077537592916, 0.032843639106525505, 0.24076645843484545, 0.7490512040195192, 0.831559109677229, 0.16891044415318715, 0.9728775365425134, 0.13285359880076417, 0.10208750223637666, 0.05453989845505055, 0.05873527525928521, 0.1580258596261721, 0.16222123643040676, 0.01678150721693863, 0.12306438625754995, 0.16082277749566187, 0.03216455549913237, 0.9755354990643056, 0.9487941058772489, 0.39852400197994936, 0.5626221204422814, 0.031256784469015635, 0.2981679217273827, 0.1251850053053897, 0.029589183072183018, 0.10014800424431175, 0.07966318519433889, 0.07511100318323381, 0.19574382647751842, 0.06373054815547112, 0.03186527407773556, 0.9501577070935135, 0.9431735648358063, 0.9595256706515372, 0.9909656987141633, 0.9816298896770442, 0.9877840816728047, 0.8735004716539768, 0.12229006603155676, 0.9862375576527866, 0.913010533532469, 0.9750993695206688, 0.9679674216366225, 0.9859259663523869, 0.013438891734666985, 0.9864880163512377, 0.9612934809744307, 0.9442432143086084, 0.989759407732516, 0.16557007915896582, 0.06044621937549546, 0.6070902902495413, 0.018396675462107315, 0.1287767282347512, 0.018396675462107315, 0.9646061439549852, 0.9653573199840707, 0.988831368402123, 0.9571744187334911, 0.019471149266953338, 0.02503433477179715, 0.28372246074703433, 0.022252742019375243, 0.5173762519504744, 0.027815927524219054, 0.10570052459203241, 0.9427260473880819, 0.05509437939280998, 0.9570925890810191, 0.9737052310367434, 0.9683712567963758, 0.02938369072092473, 0.001632427262273596, 0.31016117983198327, 0.03591339977001912, 0.15671301717826522, 0.23343709850512423, 0.1975236987351051, 0.03264854524547192, 0.09744796542966795, 0.2598612411457812, 0.31596764548407485, 0.14469546381981, 0.09744796542966795, 0.08563609083213244, 0.986340665825709, 0.9738172007100356, 0.9915999164059917, 0.9240426758328392, 0.03422380280862367, 0.2110314506735614, 0.7702647949584991, 0.01055157253367807, 0.9895895245624855, 0.06760973832127762, 0.851882702848098, 0.06760973832127762, 0.9769184438693759, 0.9878749916114545, 0.14984922766180578, 0.20222371499991265, 0.05964872169062172, 0.18913009316538593, 0.21095279622293048, 0.05237448733810687, 0.007274234352514844, 0.05237448733810687, 0.07565203726615437, 0.988987646882907, 0.008416916143684314, 0.9889349658784906, 0.9067367284882325, 0.06843296064062132, 0.04366611198889869, 0.946099093092805, 0.0149173995274938, 0.0546971316008106, 0.1939261938574194, 0.7359250433563608, 0.944320434064747, 0.9898081027377894, 0.9598838355347933, 0.962898651525073, 0.9708451763126388, 0.981670953693773, 0.9831394774309098, 0.9941874383361657, 0.9770992014666879, 0.9528042967069839, 0.9617440488069057, 0.9016755803901632, 0.08947925606925283, 0.20958083901963095, 0.032747006096817334, 0.6418413194976198, 0.08514221585172507, 0.02619760487745387, 0.995707643162495, 0.026160648728247672, 0.12426308145917644, 0.4316507040160866, 0.041421027153058815, 0.15914394643017335, 0.16786416267292256, 0.04796118933512073, 0.9939396670713604, 0.9727634385450358, 0.979715007833872, 0.9696644548902824, 0.9315492152275362, 0.9840062752836395, 0.9944453867421877, 0.9805653165907692, 0.11542275874476836, 0.8772129664602395, 0.9701216206945895, 0.9931482178241201, 0.9929805126776473, 0.9803936650977852, 0.9393279127406416, 0.11138354462305347, 0.8725044328805855, 0.9488215648124962, 0.9776482950233673, 0.9185067689978842, 0.06888800767484132, 0.8945644865636656, 0.09784299071790092, 0.0934799528252596, 0.10197813035482865, 0.7903305102499221, 0.9855148264417224, 0.08406147635180201, 0.36146434831274865, 0.03962898170870666, 0.1945422738427418, 0.0972711369213709, 0.11288255395813412, 0.018013173503957574, 0.09006586751978787, 0.8875645540701315, 0.04671392389842797, 0.05839240487303496, 0.9743901799950913, 0.8216569793644241, 0.1671166737690354, 0.9510283215001843, 0.021614280034095098, 0.19656351242550885, 0.17983470285738043, 0.08991735142869021, 0.17565250046534833, 0.09619065501673837, 0.1421948813290915, 0.02718431554820867, 0.056459732292433396, 0.033457619136256826, 0.28093465517594257, 0.15499843044189934, 0.09881149940671083, 0.03681212722995109, 0.03681212722995109, 0.13562362663666191, 0.03487464684942735, 0.1394985873977094, 0.0464995291325698, 0.03293716646890361, 0.9899670997976114, 0.13865211174992043, 0.8457778816745146, 0.992276460578607, 0.9476590121032943, 0.959044910311822, 0.05885291629281685, 0.8077349525985154, 0.13305876727071636, 0.1676446241062428, 0.8312792603611331, 0.36234281405327007, 0.6192768094728616, 0.013176102329209821, 0.1633961141436951, 0.8362036429706748, 0.986889938581454, 0.9379278597590444, 0.9910033525855007, 0.9790521855554327, 0.9780026942032225, 0.9318163073266269, 0.06317398693739844, 0.9495726310288541, 0.2243329741241538, 0.08973318964966151, 0.5383991378979691, 0.002991106321655384, 0.03888438218151999, 0.03290216953820922, 0.06879544539807383, 0.8512607535007514, 0.06305635211116677, 0.07882044013895846, 0.9774031582668863, 0.9134825999352145, 0.978662820357502, 0.9842991804830126, 0.9460222345179576, 0.07513516475226392, 0.9016219770271672, 0.9860139902979927, 0.9501641262251161, 0.9706226790571326, 0.9274083553243803, 0.2664576691798177, 0.15139640294307824, 0.22043316268512195, 0.14655171804889974, 0.0557138762830528, 0.07993730075394531, 0.016956397129624764, 0.001211171223544626, 0.05934738995368668, 0.9739189891187616, 0.9634537618897208, 0.25374427288401497, 0.15199533177705846, 0.1607884501443263, 0.07034494693814276, 0.13064061574226513, 0.03517247346907138, 0.03140399416881373, 0.07034494693814276, 0.018842396501288237, 0.0766257457719055, 0.4313981623430911, 0.12850158027241013, 0.4375172852132059, 0.9613042788309658, 0.9681246025648554, 0.18217043313039363, 0.08987074701099419, 0.18945725045560938, 0.12387589452866768, 0.1748836158051779, 0.03643408662607873, 0.08258392968577845, 0.09715756433620994, 0.021860451975647236, 0.9755621646418162, 0.955917420180064, 0.9904806734071178, 0.986777895200412, 0.050623610950489846, 0.050623610950489846, 0.8859131916335723, 0.9416961207924291, 0.9266576388958975, 0.03360934441591338, 0.03360934441591338, 0.004801334916559054, 0.9616940163372635, 0.8234745979369493, 0.05718573596784371, 0.028592867983921855, 0.08006003035498119, 0.12796615937878889, 0.010890736968407564, 0.03403355302627364, 0.26954573996808723, 0.18922655482608144, 0.125243475136687, 0.24368023966811925, 0.9960293186375431, 0.8912227615792198, 0.08102025105265634, 0.8792159867039325, 0.10657163475199183, 0.9601999346937597, 0.13097984264319, 0.1266459507910256, 0.38138248299046495, 0.029374155886891875, 0.09679025136500437, 0.03178187358253875, 0.12279360247799062, 0.06019294239117187, 0.019743285104304373, 0.1722620309054131, 0.10125325480699852, 0.19724660027337376, 0.13412768818589416, 0.08941845879059611, 0.021039637362493202, 0.10125325480699852, 0.0946783681312194, 0.08678850412028445, 0.24746095242144503, 0.1093279869163527, 0.16497396828096336, 0.079213691119034, 0.14598886875656678, 0.0405888334659513, 0.11129196272922132, 0.0687391534504014, 0.03338758881876639, 0.9174722364195904, 0.05396895508350532, 0.0973881256086209, 0.876493130477588, 0.03246270853620697, 0.9826744609033558, 0.9764771667323318, 0.7337394916367368, 0.022646280606072124, 0.1675824764849337, 0.0543510734545731, 0.018117024484857698, 0.8493608883172892, 0.14326569200532588, 0.04094141327808172, 0.09007110921177978, 0.3439078715358865, 0.524050089959446, 0.9800655778112044, 0.017295274902550666, 0.1216050193498751, 0.19735896583012513, 0.2591582379587502, 0.09369567064662507, 0.1415402684236251, 0.05781222231387504, 0.019935249073750015, 0.05183164759175004, 0.05581869740650004, 0.3634043158604946, 0.058836889234556274, 0.42570219857943653, 0.044992915297013616, 0.10729079801595555, 0.9542251379162695, 0.22924493446138305, 0.23288374294489705, 0.047304510285682215, 0.3566032313843736, 0.018194042417570083, 0.07277616967028033, 0.0436657018021682, 0.17251040280197955, 0.1741077213464423, 0.1509466024517321, 0.05750346760065985, 0.22761789258594523, 0.039134304339337955, 0.09983240902892335, 0.02236245962247883, 0.05670480832842846, 0.987261755546159, 0.06860641864565753, 0.32931080949915614, 0.5900152003526548, 0.9870501840327106, 0.9630138827342068, 0.9127683411539955, 0.07606402842949962, 0.1530760513787013, 0.028645810784318375, 0.027750629197308425, 0.1727700462929202, 0.14233387233458192, 0.0617675295036865, 0.07161452696079594, 0.0546060768076069, 0.050130168872557154, 0.23722312055763653, 0.9823955360159773, 0.43137707968678163, 0.07685453718557603, 0.126438109563367, 0.09420878751780289, 0.07685453718557603, 0.027270964807785045, 0.06197946547223874, 0.06445864409112828, 0.03966685790223279, 0.05550619066244425, 0.1645362080351026, 0.19228930336632472, 0.13678311270388047, 0.26167204169438, 0.013876547665611062, 0.02180600347453167, 0.06740037437582516, 0.04757673485352364, 0.03964727904460304, 0.9637951032139321, 0.9406983667999578, 0.9730697228766211, 0.9773205243464091, 0.977514993391597, 0.044870781549671834, 0.06513500547533008, 0.11434812072335726, 0.19974735012434558, 0.40817936764540186, 0.04197589241743494, 0.11434812072335726, 0.011579556528947571, 0.11983842523940264, 0.059098401487924584, 0.19042818257220143, 0.02626595621685537, 0.11491355844874225, 0.3463822976097802, 0.0705897573327988, 0.0705897573327988, 0.05528275923037836, 0.04837241432658106, 0.0460689660253153, 0.020731034711391885, 0.04376551772404954, 0.1842758641012612, 0.4284413840354323, 0.057586207531644125, 0.08983448374936484, 0.025337931313923416, 0.09348290663522739, 0.5698005737766241, 0.19586894723571452, 0.08457977266996763, 0.04006410284366888, 0.017806267930519502, 0.9743131128315475, 0.9701107412537393, 0.9854780261018287, 0.0757107788989381, 0.9085293467872572, 0.9907372456169624, 0.9947821639730904, 0.047987883997772075, 0.9460468559560781, 0.9653858561163253, 0.030485869140515535, 0.8654835568191975, 0.022480092384914222, 0.101160415732114, 0.9508786261265489, 0.9750503706325365, 0.005240619103541522, 0.120534239381455, 0.1467373348991626, 0.04716557193187369, 0.5083400530435276, 0.06812804834603978, 0.10481238207083043, 0.11789889801946227, 0.1219643772615127, 0.05420638989400564, 0.1748156074081682, 0.1707501281661178, 0.13822629422971439, 0.0528512301466555, 0.12467469675621298, 0.014906757220851552, 0.031168674189053246, 0.15903937650451183, 0.10546821810299206, 0.016740987000474928, 0.2628334959074564, 0.19419544920550919, 0.07533444150213718, 0.12723150120360946, 0.010044592200284957, 0.001674098700047493, 0.046874763601329805, 0.5081947195570079, 0.0910915063356901, 0.057531477685699016, 0.3356002864999109, 0.6296811508185353, 0.09591169846904841, 0.004170073846480366, 0.2710548000212238, 0.9904345812465333, 0.22881488662389882, 0.20313158302325712, 0.018678766255012146, 0.06537568189254252, 0.30819964320770044, 0.09339383127506073, 0.01634392047313563, 0.04903176141940689, 0.01400907469125911, 0.11212954762477081, 0.8783481230607048, 0.2246611006553996, 0.25571182188419467, 0.27032392599186295, 0.018265130134585333, 0.052968877390297466, 0.025571182188419465, 0.014612104107668266, 0.09497867669984374, 0.045662825336463334, 0.06843724646776408, 0.8759967547873804, 0.027374898587105637, 0.013687449293552818, 0.3682007374873681, 0.14962739132952807, 0.24791205034010041, 0.005867740836452081, 0.10855320547436349, 0.011735481672904162, 0.030805639391373422, 0.03960725064605154, 0.03814031543693853, 0.1307091517799768, 0.0811298183461925, 0.4732572736861229, 0.11268030325860069, 0.04056490917309625, 0.02253606065172014, 0.09014424260688056, 0.0495793334337843, 0.039917086674682654, 0.9180929935177011, 0.9963959192023273, 0.08260629135985194, 0.9086692049583713, 0.9651800784893126, 0.2144280990440734, 0.04288561980881468, 0.02382534433823038, 0.18822022027201998, 0.05718082641175291, 0.1643948759337896, 0.026207878772053415, 0.12389179055879797, 0.1000664462205676, 0.059563360845575945, 0.3801215274008075, 0.09949489643376841, 0.07653453571828339, 0.08036126250419756, 0.1862340369144896, 0.07398338452767395, 0.05995205297932199, 0.04081841904975114, 0.8978825724161594, 0.08802770317805485, 0.987166279330172, 0.8611313177628082, 0.10130956679562449, 0.9713179732752112, 0.9798895388927706, 0.01675024852808155, 0.9823721455776591, 0.9748775836134312, 0.9871921952836802], \"Term\": [\"able\", \"able\", \"able\", \"able\", \"able\", \"able\", \"able_sleep\", \"able_sleep\", \"able_sleep\", \"accident\", \"accutane\", \"accutane\", \"accutane_acne\", \"aching\", \"acid\", \"acid\", \"acid\", \"acid_reflux\", \"acne\", \"acne\", \"acne_cleared\", \"actonel\", \"acyclovir\", \"add\", \"add\", \"adderall\", \"addition\", \"addition\", \"addition\", \"addition\", \"addition\", \"addition\", \"adhd\", \"adipex\", \"adult_acne\", \"advair\", \"aging\", \"albuterol\", \"allegra\", \"allergic_reaction\", \"allergic_reaction\", \"allergies\", \"allergy\", \"allergy_symptoms\", \"alprazolam\", \"ambien\", \"ambien_cr\", \"ambien_insomnia\", \"amoxicillin\", \"amoxil\", \"anger\", \"anti_depressants\", \"antibiotic\", \"antibiotic\", \"antibiotics\", \"antibiotics\", \"anxiety\", \"anxiety\", \"anxiety_attacks\", \"appetite\", \"appetite\", \"appetite\", \"appetite\", \"application\", \"applied\", \"applied\", \"apply\", \"applying\", \"applying\", \"area\", \"area\", \"area\", \"area\", \"area\", \"area\", \"areas\", \"areas\", \"arms\", \"arms\", \"arms\", \"arms\", \"around_eyes\", \"arthritis\", \"asleep\", \"asleep\", \"asthma\", \"atenolol\", \"ativan\", \"awake\", \"awake\", \"awake\", \"baby\", \"baby\", \"back\", \"back\", \"back\", \"back\", \"back\", \"back\", \"back\", \"back\", \"back\", \"bacterial\", \"baldness\", \"bay\", \"bed\", \"bed\", \"bed\", \"bed\", \"bed\", \"bed\", \"bedtime\", \"bedtime\", \"bedtime\", \"bedtime\", \"began\", \"began\", \"began\", \"began\", \"began\", \"began\", \"began\", \"benefits\", \"benefits\", \"benefits\", \"benefits\", \"benefits\", \"benefits\", \"benefits\", \"benefits\", \"benzoyl\", \"better\", \"better\", \"better\", \"better\", \"better\", \"better\", \"better\", \"better\", \"better\", \"biaxin\", \"bipolar\", \"bipolar_disorder\", \"birth_control\", \"bladder\", \"bladder\", \"bladder\", \"bleeding\", \"bleeding\", \"blisters\", \"blood\", \"blood\", \"blood\", \"blood\", \"blood\", \"blood\", \"blood_pressure\", \"body\", \"body\", \"body\", \"body\", \"body\", \"body\", \"body\", \"body\", \"bone\", \"bone\", \"bone\", \"bone_density\", \"breakfast\", \"breakfast\", \"breakout\", \"breakouts\", \"breakouts\", \"breakouts\", \"breast_cancer\", \"breathing\", \"breathing\", \"bronchitis\", \"built\", \"calcium\", \"caused\", \"caused\", \"caused\", \"caused\", \"caused\", \"caused\", \"caused\", \"caused\", \"celebrex\", \"cervical\", \"chantix\", \"chantix_smoking\", \"cholesterol\", \"cholesterol_levels\", \"claritin\", \"clarity\", \"cleansing\", \"clear\", \"clear\", \"clear\", \"clear\", \"clear\", \"clear\", \"clear\", \"cleared\", \"cleared\", \"cleared\", \"cleared\", \"cleared\", \"clearing\", \"clearing\", \"clenching\", \"cold_sore\", \"cold_sores\", \"congestion\", \"congestion\", \"control\", \"control\", \"control\", \"control\", \"control\", \"control\", \"control\", \"cope\", \"course\", \"course\", \"course\", \"course\", \"course\", \"course\", \"course\", \"cream\", \"cream\", \"crestor\", \"crown\", \"crying\", \"cyclen\", \"cycles\", \"cymbalta\", \"cymbalta\", \"cyst\", \"cystic_acne\", \"cysts\", \"cysts\", \"cysts\", \"daily\", \"daily\", \"daily\", \"daily\", \"daily\", \"daily\", \"daily\", \"daily\", \"daily\", \"daily\", \"days\", \"days\", \"days\", \"days\", \"days\", \"days\", \"days\", \"days\", \"days\", \"daytime\", \"decrease\", \"decrease\", \"decrease\", \"decrease\", \"decrease\", \"decrease\", \"decrease\", \"decrease\", \"decreased\", \"decreased\", \"decreased\", \"decreased\", \"decreased\", \"decreased\", \"dental\", \"depo\", \"depressed\", \"depressed\", \"depressed\", \"depression\", \"depression\", \"dermatitis\", \"dermatologist\", \"dermatologist\", \"diabetes\", \"diabetes\", \"diet\", \"diet\", \"diet\", \"differin\", \"differin_acne\", \"disorder\", \"disorder\", \"dizziness\", \"dizziness\", \"dizziness\", \"dizziness\", \"doctor\", \"doctor\", \"doctor\", \"doctor\", \"doctor\", \"doctor\", \"doctor\", \"doctor\", \"doctor\", \"doryx\", \"dosage\", \"dosage\", \"dosage\", \"dosage\", \"dosage\", \"dosage\", \"dose\", \"dose\", \"dose\", \"dose\", \"dose\", \"dose\", \"dose\", \"dose\", \"doses\", \"doses\", \"doses\", \"doses\", \"doses\", \"doxycycline\", \"doxycycline\", \"drink\", \"drink\", \"drink\", \"drops\", \"drowsiness\", \"drowsiness\", \"drowsiness\", \"drowsiness\", \"dry\", \"dry\", \"dry\", \"dry\", \"dry_skin\", \"dry_skin\", \"dry_skin\", \"dry_skin\", \"dryness\", \"dryness\", \"dryness\", \"due\", \"due\", \"due\", \"due\", \"due\", \"due\", \"due\", \"due\", \"due\", \"dull\", \"ear_infection\", \"eat\", \"eat\", \"eat\", \"eat\", \"eating\", \"eating\", \"eating\", \"eating\", \"eating\", \"eczema\", \"edema\", \"effective\", \"effective\", \"effective\", \"effective\", \"effective\", \"effective\", \"effective\", \"effective\", \"effective\", \"effexor\", \"effexor\", \"emotions\", \"empty_stomach\", \"empty_stomach\", \"empty_stomach\", \"empty_stomach\", \"enbrel\", \"energy\", \"energy\", \"epilepsy\", \"estrogen\", \"evaluated\", \"event\", \"every\", \"every\", \"every\", \"every\", \"every\", \"every\", \"every\", \"every\", \"every\", \"every\", \"evident\", \"experienced\", \"experienced\", \"experienced\", \"experienced\", \"experienced\", \"experienced\", \"experienced\", \"experienced\", \"experienced\", \"experienced\", \"eye\", \"eye\", \"eyes\", \"eyes\", \"eyes\", \"eyes\", \"face\", \"face\", \"face\", \"face\", \"facial\", \"facial\", \"fall_asleep\", \"fall_asleep\", \"falling_asleep\", \"falling_asleep\", \"fat\", \"fat\", \"feel\", \"feel\", \"feel\", \"feel\", \"feel\", \"feel\", \"feel\", \"feeling\", \"feeling\", \"feeling\", \"feeling\", \"feeling\", \"feeling\", \"feeling\", \"felt\", \"felt\", \"felt\", \"felt\", \"felt\", \"felt\", \"felt\", \"fever\", \"fever\", \"fever\", \"finacea\", \"fine_lines\", \"finger\", \"flagyl\", \"flaking\", \"flonase\", \"flu\", \"focus\", \"focus\", \"follicles\", \"food\", \"food\", \"food\", \"food\", \"food\", \"food\", \"forehead\", \"fosamax\", \"gerd\", \"glass_water\", \"got\", \"got\", \"got\", \"got\", \"got\", \"got\", \"got\", \"got\", \"got\", \"gradually\", \"gradually\", \"gradually\", \"gradually\", \"gradually\", \"groggy\", \"groggy\", \"groggy\", \"hair\", \"hair_loss\", \"hair_loss\", \"hair_loss\", \"hairloss\", \"half_hour\", \"hands_feet\", \"hangover\", \"hdl\", \"headache\", \"headache\", \"headache\", \"headache\", \"headaches\", \"headaches\", \"headaches\", \"headaches\", \"headaches\", \"headaches\", \"headaches\", \"heart\", \"heart\", \"heart\", \"heart\", \"heart\", \"heart\", \"heart_rate\", \"heart_rate\", \"heartburn\", \"heartburn\", \"heartburn\", \"help\", \"help\", \"help\", \"help\", \"help\", \"help\", \"help\", \"help\", \"helped\", \"helped\", \"helped\", \"helped\", \"helped\", \"helped\", \"helped\", \"helped\", \"hence\", \"herpes\", \"high\", \"high\", \"high\", \"high\", \"high\", \"high\", \"high\", \"high_blood\", \"high_cholesterol\", \"high_cholesterol\", \"hives\", \"hives\", \"hospital\", \"hospital\", \"hot_flashes\", \"hour\", \"hour\", \"hour\", \"hour\", \"hour\", \"hour\", \"hours\", \"hours\", \"hours\", \"hours\", \"hours\", \"hrt\", \"hs\", \"hungry\", \"hypertension\", \"hypothyroidism\", \"hysterectomy\", \"ibuprofen\", \"ideation\", \"imitrex\", \"imitrex_migraine\", \"increase\", \"increase\", \"increase\", \"increase\", \"increase\", \"increased\", \"increased\", \"increased\", \"increased\", \"increased\", \"increased\", \"increasing\", \"increasing\", \"increasing\", \"increasing\", \"infection\", \"infection\", \"infections\", \"infections\", \"inhaler\", \"initial\", \"initial\", \"initial\", \"initial\", \"initially\", \"initially\", \"initially\", \"injection\", \"injection\", \"injection\", \"injury\", \"insomnia\", \"insomnia\", \"insomnia\", \"intolerable\", \"irritation\", \"irritation\", \"irritation\", \"iv\", \"joint\", \"joint\", \"joint_pain\", \"joint_pain\", \"joint_pain\", \"joints\", \"joints\", \"keflex\", \"klonopin\", \"knee\", \"knees\", \"lashes\", \"ldl\", \"leg\", \"legs\", \"legs\", \"legs\", \"legs\", \"less\", \"less\", \"less\", \"less\", \"less\", \"less\", \"less\", \"less\", \"less\", \"less\", \"levaquin\", \"levels\", \"levels\", \"levels\", \"levels\", \"levels\", \"lexapro\", \"lexapro\", \"life\", \"life\", \"life\", \"life\", \"life\", \"life\", \"life\", \"lifted\", \"lines\", \"lipitor\", \"lipitor\", \"lipitor_high\", \"lips\", \"lips\", \"lisinopril\", \"liver_function\", \"loss\", \"loss\", \"loss\", \"loss\", \"low\", \"low\", \"low\", \"low\", \"low\", \"lower\", \"lower\", \"lower\", \"lower\", \"lower\", \"lower\", \"lower\", \"lower_back\", \"lowered\", \"lowered\", \"lowered\", \"lowered\", \"lowering\", \"lowering\", \"lunesta\", \"lyrica\", \"manic\", \"maxalt\", \"mcg\", \"meal\", \"meal\", \"meals\", \"meals\", \"medication\", \"medication\", \"medication\", \"medication\", \"medication\", \"medication\", \"medication\", \"medication\", \"medication\", \"medicine\", \"medicine\", \"medicine\", \"medicine\", \"medicine\", \"medicine\", \"medicine\", \"medicine\", \"melasma\", \"menopause\", \"menstrual\", \"menstrual\", \"meridia\", \"metformin\", \"methadone\", \"metrogel\", \"metronidazole\", \"mg\", \"mg\", \"mg\", \"mg\", \"mg\", \"mg\", \"mg\", \"mg_per\", \"mg_per\", \"middle_night\", \"migraine\", \"migraine_headaches\", \"migraines\", \"migraines\", \"mild\", \"mild\", \"mild\", \"mild\", \"mild\", \"mild\", \"mild\", \"mild\", \"mild\", \"mild\", \"minocycline\", \"missing\", \"mobic\", \"moisturizer\", \"month\", \"month\", \"month\", \"month\", \"month\", \"month\", \"month\", \"month\", \"month\", \"months\", \"months\", \"months\", \"months\", \"months\", \"months\", \"months\", \"months\", \"mood\", \"mood\", \"mood\", \"morning\", \"morning\", \"morning\", \"morning\", \"morning\", \"morning\", \"motivation\", \"muscle\", \"muscle\", \"muscle\", \"muscles\", \"muscles\", \"naproxen\", \"narcolepsy\", \"nasal\", \"nasal\", \"nasonex\", \"nausea\", \"nausea\", \"nausea\", \"nausea\", \"nausea\", \"nausea\", \"nausea\", \"nausea\", \"nausea\", \"neck\", \"neck\", \"neck\", \"neck\", \"neck\", \"needed\", \"needed\", \"needed\", \"needed\", \"needed\", \"needed\", \"nerve\", \"nerve_pain\", \"never\", \"never\", \"never\", \"never\", \"never\", \"never\", \"never\", \"never\", \"never\", \"new\", \"new\", \"new\", \"new\", \"new\", \"new\", \"new\", \"nexium\", \"niaspan\", \"nicotine\", \"night\", \"night\", \"night\", \"night\", \"night\", \"night_sweats\", \"night_sweats\", \"nights\", \"nights\", \"nights_sleep\", \"none\", \"none\", \"none\", \"none\", \"none\", \"none\", \"none\", \"none\", \"none\", \"none\", \"normal_range\", \"norvasc\", \"nose\", \"nose\", \"nose\", \"noticed\", \"noticed\", \"noticed\", \"noticed\", \"noticed\", \"noticed\", \"noticed\", \"noticed\", \"noticed\", \"nuvaring\", \"obesity\", \"ointment\", \"ortho_tri\", \"osteopenia\", \"osteoporosis\", \"outbreak\", \"outbreak\", \"outbreaks\", \"overweight\", \"oxycodone\", \"oxycontin\", \"pain\", \"pain\", \"pain_relief\", \"panic_attack\", \"panic_disorder\", \"patch\", \"patient\", \"patient\", \"patient\", \"patient\", \"patient\", \"patient\", \"pea_size\", \"peel\", \"peeling\", \"peeling_skin\", \"period\", \"period\", \"period\", \"period\", \"period\", \"period\", \"period\", \"periods\", \"periods\", \"peroxide\", \"personality\", \"physical_therapy\", \"pill\", \"pill\", \"pill\", \"pill\", \"pill\", \"pill\", \"pill\", \"pill\", \"pills\", \"pills\", \"pills\", \"pills\", \"pills\", \"pills\", \"pneumonia\", \"pore_size\", \"pores\", \"potassium\", \"potassium\", \"prednisone\", \"prednisone\", \"prednisone\", \"pregnancy\", \"pregnant\", \"pregnant\", \"pregnant\", \"premarin\", \"prempro\", \"prescribed\", \"prescribed\", \"prescribed\", \"prescribed\", \"prescribed\", \"prescribed\", \"prescribed\", \"prescribed\", \"prescribed\", \"pressure\", \"pressure\", \"prevacid\", \"prevention\", \"prevention\", \"prilosec\", \"prilosec\", \"product\", \"product\", \"product\", \"product\", \"progression\", \"propecia\", \"propecia_hair\", \"protect\", \"protonix\", \"provera\", \"provigil\", \"prozac\", \"quit_smoking\", \"ra\", \"ranitidine\", \"rash\", \"rash\", \"red\", \"red\", \"red\", \"red\", \"red\", \"redness\", \"reduced\", \"reduced\", \"reduced\", \"reduced\", \"reduced\", \"reduced\", \"reduced\", \"reflux\", \"remeron\", \"renova\", \"requip\", \"resistance\", \"rested\", \"retin\", \"retin_micro\", \"rheumatoid_arthritis\", \"rheumatoid_arthritis\", \"ring\", \"ritalin\", \"rosacea\", \"runny_nose\", \"salt\", \"scalp\", \"scalp\", \"scars\", \"seasonique\", \"seizure\", \"seizure\", \"seizures\", \"seizures\", \"sensitive\", \"sensitive\", \"sensitive\", \"seroquel\", \"severe\", \"severe\", \"severe\", \"severe\", \"severe\", \"severe\", \"severe\", \"severe\", \"sexual\", \"sexual\", \"sexual\", \"sexual_side\", \"shot\", \"shot\", \"shoulder\", \"shoulder\", \"side\", \"side\", \"side\", \"side\", \"side\", \"side\", \"side\", \"side\", \"side\", \"since\", \"since\", \"since\", \"since\", \"since\", \"since\", \"since\", \"since\", \"since\", \"since\", \"singulair\", \"sinus\", \"sinus\", \"sinus_infection\", \"sinuses\", \"situational\", \"skin\", \"skin\", \"skin\", \"sleep\", \"sleep\", \"sleeping\", \"sleeping\", \"sleeping\", \"sleepy\", \"sleepy\", \"smoke\", \"smoked\", \"smoking\", \"smoother\", \"sneezing\", \"social\", \"social\", \"sodium\", \"sometimes\", \"sometimes\", \"sometimes\", \"sometimes\", \"sometimes\", \"sometimes\", \"sometimes\", \"son\", \"son\", \"son\", \"sore_throat\", \"sotret\", \"spasms\", \"spf\", \"spinal\", \"spironolactone\", \"spironolactone\", \"spots\", \"spotting\", \"spray\", \"standing\", \"started\", \"started\", \"started\", \"started\", \"started\", \"started\", \"started\", \"started\", \"started\", \"stay_asleep\", \"stiffness\", \"still\", \"still\", \"still\", \"still\", \"still\", \"still\", \"still\", \"still\", \"still\", \"still\", \"stomach\", \"stomach\", \"stomach\", \"stomache\", \"stop_smoking\", \"stopped\", \"stopped\", \"stopped\", \"stopped\", \"stopped\", \"stopped\", \"stopped\", \"stopped\", \"stopped\", \"strep_throat\", \"stroke\", \"sun\", \"sunscreen\", \"supplements\", \"supplements\", \"supplements\", \"suppression\", \"surgery\", \"surgery\", \"surgery\", \"surgery\", \"sweats\", \"swelling\", \"swelling\", \"swelling\", \"swelling\", \"symptoms\", \"symptoms\", \"symptoms\", \"symptoms\", \"symptoms\", \"symptoms\", \"symptoms\", \"synthroid\", \"tab\", \"tab\", \"tabs\", \"tabs\", \"tachycardia\", \"take\", \"take\", \"take\", \"take\", \"take\", \"take\", \"take\", \"take\", \"take\", \"taken\", \"taken\", \"taken\", \"taken\", \"taken\", \"taken\", \"taken\", \"taken\", \"taken\", \"taking\", \"taking\", \"taking\", \"taking\", \"taking\", \"taking\", \"taking\", \"taking\", \"taking\", \"tapered\", \"tapered\", \"taste\", \"taste\", \"taste\", \"tazorac\", \"tetracycline\", \"things\", \"things\", \"things\", \"things\", \"things\", \"thoughts\", \"thoughts\", \"throat\", \"throat\", \"throat\", \"throat\", \"thyroid\", \"thyroid\", \"times\", \"times\", \"times\", \"times\", \"times\", \"times\", \"times\", \"times\", \"times\", \"tired\", \"tired\", \"tired\", \"tired\", \"tired\", \"toenail\", \"told\", \"told\", \"told\", \"told\", \"told\", \"told\", \"told\", \"took\", \"took\", \"took\", \"took\", \"took\", \"took\", \"took\", \"took\", \"took\", \"topamax\", \"topical\", \"topical\", \"topical\", \"tramadol\", \"trazadone\", \"trazodone\", \"trazodone\", \"treatment\", \"treatment\", \"treatment\", \"treatment\", \"treatment\", \"treatment\", \"treatment\", \"treatment\", \"treatment\", \"treatment\", \"tretinoin\", \"tried\", \"tried\", \"tried\", \"tried\", \"tried\", \"tried\", \"tried\", \"tried\", \"tried\", \"two\", \"two\", \"two\", \"two\", \"two\", \"two\", \"two\", \"two\", \"two\", \"two\", \"ulcer\", \"ulcerative\", \"ultram\", \"upped\", \"urge\", \"use\", \"use\", \"use\", \"use\", \"use\", \"use\", \"use\", \"use\", \"used\", \"used\", \"used\", \"used\", \"used\", \"used\", \"used\", \"used\", \"using\", \"using\", \"using\", \"using\", \"using\", \"using\", \"using\", \"using\", \"using\", \"using\", \"usually\", \"usually\", \"usually\", \"usually\", \"usually\", \"usually\", \"uti\", \"vaginal_dryness\", \"valtrex\", \"vertigo\", \"vertigo\", \"vicodin\", \"vyvanse\", \"wake\", \"wake\", \"waking\", \"waking\", \"walk\", \"walk\", \"walk\", \"washing\", \"washing_face\", \"water\", \"water\", \"water\", \"water\", \"water\", \"water\", \"water\", \"week\", \"week\", \"week\", \"week\", \"week\", \"week\", \"week\", \"week\", \"week\", \"week\", \"weeks\", \"weeks\", \"weeks\", \"weeks\", \"weeks\", \"weeks\", \"weeks\", \"weeks\", \"weeks\", \"weeks\", \"weight\", \"weight\", \"weight\", \"weight\", \"weight_gain\", \"weight_gain\", \"weight_gain\", \"weight_gain\", \"wellbutrin\", \"went\", \"went\", \"went\", \"went\", \"went\", \"went\", \"went\", \"went\", \"went\", \"within_minutes\", \"within_minutes\", \"without\", \"without\", \"without\", \"without\", \"without\", \"without\", \"without\", \"without\", \"without\", \"woke\", \"woke\", \"woke\", \"woke\", \"work\", \"work\", \"work\", \"work\", \"work\", \"work\", \"work\", \"work\", \"work\", \"works\", \"works\", \"works\", \"works\", \"works\", \"works\", \"works\", \"works\", \"wound\", \"wound\", \"wrinkles\", \"xanax\", \"xanax\", \"yasmin\", \"year\", \"year\", \"year\", \"year\", \"year\", \"year\", \"year\", \"year\", \"year\", \"year\", \"years\", \"years\", \"years\", \"years\", \"years\", \"years\", \"years\", \"years\", \"yeast_infection\", \"yeast_infection\", \"younger\", \"yrs\", \"yrs\", \"zithromax\", \"zoloft\", \"zoloft\", \"zomig\", \"zyban\", \"zyrtec\"]}, \"R\": 30, \"lambda.step\": 0.01, \"plot.opts\": {\"xlab\": \"PC1\", \"ylab\": \"PC2\"}, \"topic.order\": [3, 5, 6, 2, 1, 8, 10, 9, 4, 7]};\n",
              "\n",
              "function LDAvis_load_lib(url, callback){\n",
              "  var s = document.createElement('script');\n",
              "  s.src = url;\n",
              "  s.async = true;\n",
              "  s.onreadystatechange = s.onload = callback;\n",
              "  s.onerror = function(){console.warn(\"failed to load library \" + url);};\n",
              "  document.getElementsByTagName(\"head\")[0].appendChild(s);\n",
              "}\n",
              "\n",
              "if(typeof(LDAvis) !== \"undefined\"){\n",
              "   // already loaded: just create the visualization\n",
              "   !function(LDAvis){\n",
              "       new LDAvis(\"#\" + \"ldavis_el2131346601346340966039338321\", ldavis_el2131346601346340966039338321_data);\n",
              "   }(LDAvis);\n",
              "}else if(typeof define === \"function\" && define.amd){\n",
              "   // require.js is available: use it to load d3/LDAvis\n",
              "   require.config({paths: {d3: \"https://d3js.org/d3.v5\"}});\n",
              "   require([\"d3\"], function(d3){\n",
              "      window.d3 = d3;\n",
              "      LDAvis_load_lib(\"https://cdn.jsdelivr.net/gh/bmabey/pyLDAvis@3.4.0/pyLDAvis/js/ldavis.v3.0.0.js\", function(){\n",
              "        new LDAvis(\"#\" + \"ldavis_el2131346601346340966039338321\", ldavis_el2131346601346340966039338321_data);\n",
              "      });\n",
              "    });\n",
              "}else{\n",
              "    // require.js not available: dynamically load d3 & LDAvis\n",
              "    LDAvis_load_lib(\"https://d3js.org/d3.v5.js\", function(){\n",
              "         LDAvis_load_lib(\"https://cdn.jsdelivr.net/gh/bmabey/pyLDAvis@3.4.0/pyLDAvis/js/ldavis.v3.0.0.js\", function(){\n",
              "                 new LDAvis(\"#\" + \"ldavis_el2131346601346340966039338321\", ldavis_el2131346601346340966039338321_data);\n",
              "            })\n",
              "         });\n",
              "}\n",
              "</script>"
            ]
          },
          "metadata": {},
          "execution_count": 35
        }
      ]
    },
    {
      "cell_type": "code",
      "source": [
        "pyLDAvis.enable_notebook()\n",
        "pyLDAvis.display(lda_display)"
      ],
      "metadata": {
        "colab": {
          "base_uri": "https://localhost:8080/",
          "height": 917
        },
        "id": "alLLem8Q0ORW",
        "outputId": "f607d27c-b700-4965-ec6d-9df6bbd92b9d"
      },
      "execution_count": 36,
      "outputs": [
        {
          "output_type": "stream",
          "name": "stderr",
          "text": [
            "/usr/local/lib/python3.11/dist-packages/ipykernel/ipkernel.py:283: DeprecationWarning: `should_run_async` will not call `transform_cell` automatically in the future. Please pass the result to `transformed_cell` argument and any exception that happen during thetransform in `preprocessing_exc_tuple` in IPython 7.17 and above.\n",
            "  and should_run_async(code)\n"
          ]
        },
        {
          "output_type": "execute_result",
          "data": {
            "text/plain": [
              "<IPython.core.display.HTML object>"
            ],
            "text/html": [
              "\n",
              "<link rel=\"stylesheet\" type=\"text/css\" href=\"https://cdn.jsdelivr.net/gh/bmabey/pyLDAvis@3.4.0/pyLDAvis/js/ldavis.v1.0.0.css\">\n",
              "\n",
              "\n",
              "<div id=\"ldavis_el2131346601346340962092272708\" style=\"background-color:white;\"></div>\n",
              "<script type=\"text/javascript\">\n",
              "\n",
              "var ldavis_el2131346601346340962092272708_data = {\"mdsDat\": {\"x\": [0.09490315090230338, 0.08989918899814775, 0.11072728287925462, 0.058476521300973264, 0.05858537910974312, -0.012791414453137428, -0.3134860376761792, 0.0379370143191834, 0.012851405066566334, -0.13710249044685513], \"y\": [-0.015730013817576927, -0.03979189121547138, -0.0749071253009773, 0.11497869475966933, -0.07428431809601797, 0.016367343773478694, -0.0295789997925562, -0.13450694037990174, 0.26399948792501193, -0.0265462378556587], \"topics\": [1, 2, 3, 4, 5, 6, 7, 8, 9, 10], \"cluster\": [1, 1, 1, 1, 1, 1, 1, 1, 1, 1], \"Freq\": [22.123323300302054, 13.421191201594942, 11.40964834723258, 10.655660629107652, 9.976195592356175, 8.542405252175909, 6.83162177565572, 6.281328119094547, 6.042795284722315, 4.715830497758108]}, \"tinfo\": {\"Term\": [\"pain\", \"mg\", \"skin\", \"acne\", \"sleep\", \"depression\", \"night\", \"take\", \"anxiety\", \"treatment\", \"face\", \"days\", \"use\", \"blood_pressure\", \"pressure\", \"increased\", \"hair\", \"symptoms\", \"cream\", \"dose\", \"hours\", \"dosage\", \"eat\", \"allergies\", \"infection\", \"stomach\", \"used\", \"pill\", \"cholesterol\", \"migraine\", \"wellbutrin\", \"prozac\", \"synthroid\", \"seroquel\", \"adderall\", \"adhd\", \"vyvanse\", \"provigil\", \"ritalin\", \"emotions\", \"crying\", \"bipolar\", \"alprazolam\", \"hungry\", \"hypothyroidism\", \"mcg\", \"manic\", \"bipolar_disorder\", \"ativan\", \"thyroid\", \"anti_depressants\", \"zoloft\", \"personality\", \"klonopin\", \"motivation\", \"lifted\", \"adipex\", \"cope\", \"anger\", \"sexual_side\", \"focus\", \"energy\", \"depression\", \"effexor\", \"add\", \"mood\", \"depressed\", \"cymbalta\", \"lexapro\", \"life\", \"anxiety\", \"sexual\", \"social\", \"things\", \"feel\", \"felt\", \"thoughts\", \"appetite\", \"better\", \"disorder\", \"weight_gain\", \"feeling\", \"years\", \"work\", \"medication\", \"taking\", \"able\", \"helped\", \"tried\", \"doctor\", \"started\", \"less\", \"mg\", \"take\", \"still\", \"took\", \"help\", \"treatment\", \"sleep\", \"months\", \"arthritis\", \"leg\", \"tramadol\", \"vicodin\", \"lyrica\", \"nerve\", \"hospital\", \"knee\", \"pain\", \"pain_relief\", \"ibuprofen\", \"injury\", \"mobic\", \"celebrex\", \"lower_back\", \"naproxen\", \"methadone\", \"knees\", \"iv\", \"oxycodone\", \"spasms\", \"accident\", \"physical_therapy\", \"stiffness\", \"nerve_pain\", \"ultram\", \"ulcer\", \"oxycontin\", \"cervical\", \"spinal\", \"shoulder\", \"surgery\", \"muscles\", \"joint\", \"swelling\", \"legs\", \"walk\", \"neck\", \"joint_pain\", \"muscle\", \"son\", \"shot\", \"severe\", \"back\", \"stomach\", \"arms\", \"joints\", \"medication\", \"body\", \"took\", \"take\", \"medicine\", \"without\", \"caused\", \"nausea\", \"due\", \"prescribed\", \"taking\", \"started\", \"still\", \"doctor\", \"never\", \"helped\", \"felt\", \"work\", \"migraine\", \"imitrex\", \"ambien\", \"zomig\", \"lunesta\", \"middle_night\", \"daytime\", \"fall_asleep\", \"maxalt\", \"outbreaks\", \"migraine_headaches\", \"ambien_cr\", \"ointment\", \"requip\", \"dull\", \"waking\", \"half_hour\", \"rested\", \"hangover\", \"trazadone\", \"nights_sleep\", \"remeron\", \"stay_asleep\", \"finacea\", \"imitrex_migraine\", \"ambien_insomnia\", \"aching\", \"narcolepsy\", \"progression\", \"standing\", \"wake\", \"asleep\", \"sleep\", \"falling_asleep\", \"night\", \"woke\", \"headache\", \"sleepy\", \"trazodone\", \"groggy\", \"hours\", \"within_minutes\", \"nights\", \"bed\", \"migraines\", \"able_sleep\", \"take\", \"insomnia\", \"hour\", \"sometimes\", \"morning\", \"drowsiness\", \"usually\", \"sleeping\", \"awake\", \"bedtime\", \"pill\", \"tired\", \"works\", \"feel\", \"needed\", \"headaches\", \"taking\", \"work\", \"without\", \"took\", \"mg\", \"taken\", \"times\", \"feeling\", \"days\", \"still\", \"able\", \"topamax\", \"clarity\", \"anxiety_attacks\", \"panic_attack\", \"atenolol\", \"norvasc\", \"upped\", \"edema\", \"actonel\", \"panic_disorder\", \"hands_feet\", \"epilepsy\", \"tachycardia\", \"sweats\", \"built\", \"intolerable\", \"missing\", \"ideation\", \"smoked\", \"salt\", \"suppression\", \"situational\", \"event\", \"potassium\", \"overweight\", \"evaluated\", \"hs\", \"tapered\", \"seizure\", \"clenching\", \"xanax\", \"seizures\", \"mg_per\", \"tab\", \"mg\", \"tabs\", \"vertigo\", \"yrs\", \"increased\", \"lipitor\", \"dosage\", \"increasing\", \"heart_rate\", \"patient\", \"dose\", \"dizziness\", \"initial\", \"initially\", \"increase\", \"doses\", \"decreased\", \"reduced\", \"gradually\", \"anxiety\", \"daily\", \"addition\", \"experienced\", \"decrease\", \"symptoms\", \"months\", \"began\", \"medication\", \"weeks\", \"started\", \"treatment\", \"severe\", \"prescribed\", \"week\", \"nausea\", \"period\", \"mild\", \"taking\", \"taken\", \"able\", \"sinus_infection\", \"smoking\", \"smoke\", \"flu\", \"valtrex\", \"chantix\", \"niaspan\", \"amoxicillin\", \"cold_sore\", \"cold_sores\", \"herpes\", \"zyban\", \"quit_smoking\", \"ldl\", \"blisters\", \"urge\", \"biaxin\", \"acyclovir\", \"bacterial\", \"nicotine\", \"hdl\", \"stop_smoking\", \"levaquin\", \"pneumonia\", \"amoxil\", \"sore_throat\", \"dental\", \"chantix_smoking\", \"zithromax\", \"strep_throat\", \"rash\", \"allergic_reaction\", \"hives\", \"infection\", \"yeast_infection\", \"taste\", \"outbreak\", \"days\", \"prednisone\", \"fever\", \"antibiotics\", \"took\", \"antibiotic\", \"went\", \"two\", \"told\", \"taking\", \"pills\", \"prescribed\", \"doctor\", \"course\", \"symptoms\", \"treatment\", \"take\", \"got\", \"week\", \"felt\", \"weeks\", \"started\", \"none\", \"still\", \"pill\", \"nausea\", \"medication\", \"never\", \"severe\", \"dose\", \"better\", \"birth_control\", \"hot_flashes\", \"patch\", \"pregnancy\", \"menopause\", \"rosacea\", \"estrogen\", \"premarin\", \"metrogel\", \"eczema\", \"ring\", \"ortho_tri\", \"cyclen\", \"breast_cancer\", \"younger\", \"hysterectomy\", \"hrt\", \"vaginal_dryness\", \"melasma\", \"prempro\", \"dermatitis\", \"depo\", \"spray\", \"provera\", \"washing_face\", \"yasmin\", \"nuvaring\", \"spotting\", \"stroke\", \"tretinoin\", \"periods\", \"bleeding\", \"prevention\", \"pregnant\", \"bladder\", \"period\", \"night_sweats\", \"injection\", \"menstrual\", \"pill\", \"month\", \"use\", \"years\", \"every\", \"new\", \"none\", \"benefits\", \"week\", \"months\", \"symptoms\", \"severe\", \"using\", \"days\", \"control\", \"stopped\", \"year\", \"weight_gain\", \"since\", \"used\", \"side\", \"never\", \"daily\", \"treatment\", \"skin\", \"redness\", \"retin\", \"apply\", \"wrinkles\", \"peeling\", \"sun\", \"spots\", \"application\", \"moisturizer\", \"sunscreen\", \"forehead\", \"renova\", \"smoother\", \"fine_lines\", \"tazorac\", \"pores\", \"applied\", \"lines\", \"cleansing\", \"flaking\", \"drops\", \"around_eyes\", \"peeling_skin\", \"differin_acne\", \"peel\", \"aging\", \"pea_size\", \"lashes\", \"spf\", \"washing\", \"cream\", \"facial\", \"skin\", \"eye\", \"irritation\", \"dryness\", \"applying\", \"face\", \"areas\", \"product\", \"dry\", \"sensitive\", \"use\", \"red\", \"using\", \"area\", \"used\", \"acne\", \"dry_skin\", \"eyes\", \"night\", \"noticed\", \"less\", \"treatment\", \"hair\", \"acid_reflux\", \"nexium\", \"reflux\", \"seasonique\", \"gerd\", \"propecia\", \"metformin\", \"bone_density\", \"osteoporosis\", \"fosamax\", \"bronchitis\", \"calcium\", \"protonix\", \"glass_water\", \"meridia\", \"ear_infection\", \"osteopenia\", \"propecia_hair\", \"flagyl\", \"baldness\", \"hairloss\", \"resistance\", \"ranitidine\", \"breakfast\", \"cycles\", \"crown\", \"follicles\", \"ulcerative\", \"obesity\", \"prilosec\", \"meals\", \"meal\", \"hair_loss\", \"diabetes\", \"acid\", \"scalp\", \"supplements\", \"eat\", \"baby\", \"empty_stomach\", \"eating\", \"food\", \"bone\", \"stomach\", \"water\", \"drink\", \"take\", \"diet\", \"loss\", \"pill\", \"taking\", \"blood\", \"took\", \"months\", \"weight\", \"week\", \"none\", \"doctor\", \"every\", \"taken\", \"since\", \"morning\", \"month\", \"blood_pressure\", \"allergies\", \"cholesterol\", \"asthma\", \"high_blood\", \"zyrtec\", \"allergy\", \"pressure\", \"hypertension\", \"prevacid\", \"singulair\", \"claritin\", \"flonase\", \"sneezing\", \"inhaler\", \"advair\", \"crestor\", \"allegra\", \"albuterol\", \"cholesterol_levels\", \"allergy_symptoms\", \"normal_range\", \"enbrel\", \"lisinopril\", \"lipitor_high\", \"nasonex\", \"sinuses\", \"runny_nose\", \"ra\", \"sodium\", \"lowering\", \"nasal\", \"fat\", \"infections\", \"sinus\", \"congestion\", \"breathing\", \"rheumatoid_arthritis\", \"lowered\", \"high_cholesterol\", \"nose\", \"heart\", \"heartburn\", \"symptoms\", \"low\", \"throat\", \"high\", \"none\", \"daily\", \"medication\", \"take\", \"taking\", \"reduced\", \"effective\", \"use\", \"levels\", \"medicine\", \"taken\", \"less\", \"lower\", \"retin_micro\", \"uti\", \"cystic_acne\", \"differin\", \"keflex\", \"minocycline\", \"accutane_acne\", \"tetracycline\", \"acne_cleared\", \"breakout\", \"peroxide\", \"liver_function\", \"doryx\", \"adult_acne\", \"cyst\", \"scars\", \"metronidazole\", \"stomache\", \"pore_size\", \"benzoyl\", \"finger\", \"bay\", \"toenail\", \"protect\", \"sotret\", \"evident\", \"hence\", \"wound\", \"spironolactone\", \"doxycycline\", \"accutane\", \"dermatologist\", \"acne\", \"lips\", \"cysts\", \"clearing\", \"cleared\", \"breakouts\", \"treatment\", \"clear\", \"topical\", \"antibiotic\", \"face\", \"skin\", \"months\", \"month\", \"infection\", \"effective\", \"medication\", \"severe\", \"mild\", \"days\", \"taken\", \"took\", \"still\", \"prescribed\", \"daily\", \"started\", \"taking\"], \"Freq\": [1637.0, 1966.0, 1172.0, 779.0, 1008.0, 961.0, 761.0, 2076.0, 764.0, 1117.0, 389.0, 1080.0, 690.0, 247.0, 237.0, 529.0, 234.0, 734.0, 256.0, 813.0, 512.0, 533.0, 264.0, 193.0, 277.0, 326.0, 609.0, 612.0, 177.0, 223.0, 141.475820434773, 131.8858351764596, 108.54853445302739, 93.48046127873624, 82.34321824171901, 81.14071274597312, 74.50747903895352, 73.36591747156285, 62.54870738555153, 57.12041814836374, 54.52250509626645, 52.9627583504656, 47.07497349437257, 46.537106184256885, 46.38139721080383, 45.63380855309084, 45.60403380084008, 45.23459260972324, 43.6063213404352, 169.9765256401431, 41.95944338630654, 116.89422713567348, 41.22123793347093, 40.896121673689244, 40.71427866190166, 40.437247207227934, 40.13760833891149, 39.90839548115547, 40.911807674385386, 38.11141667278176, 151.64096750299845, 214.43843503341884, 887.6912393953749, 110.07964226818922, 120.35392962378616, 245.69983579625173, 150.00038473874022, 95.86149832120867, 152.05297665139477, 391.386441042433, 496.25315903466503, 76.16669637652943, 58.801388498057456, 162.21074087914386, 504.0698833666982, 469.69468850285114, 83.15595945250932, 126.25572970726697, 346.00614888721014, 106.46403812260007, 151.3696379742283, 257.8586033247005, 298.26766795818696, 250.50466545186728, 357.5530736524461, 377.71374500070004, 218.9587819403497, 204.40752788193157, 174.07526976256415, 215.77501311504048, 220.4287379312363, 189.7257760333354, 272.41322428289624, 272.0952753617226, 201.69995226734667, 215.78487042402813, 173.83009455465734, 171.3099092234817, 168.86091556832795, 154.50167620988117, 125.66502714342143, 102.98884229414799, 89.28124793867275, 74.81479405064968, 63.55602852340545, 63.24575908883913, 103.09730616889823, 62.871328012198475, 1613.818427258403, 58.92169260847408, 49.70583462618895, 47.13549918841073, 45.35903871954683, 45.17285368032014, 42.702901158728096, 41.83796481798719, 41.479834083726054, 41.26053772436857, 35.801980949303044, 35.00738001684814, 34.87661121992506, 33.737343715993525, 32.158782138740015, 31.2894838645222, 27.346492872864182, 25.83316035017899, 25.05256959122238, 23.90782659956948, 23.812259344073073, 23.425906777171658, 44.42630476679528, 193.44307505187246, 73.73346520471364, 63.24099110795816, 144.49810866243473, 119.90246390738548, 77.08093230822223, 123.70175103140787, 48.34789213847281, 100.15068783222753, 54.349248161494344, 59.239326266413975, 301.1155264982107, 250.8604666162849, 141.14095794356274, 60.402559795534934, 62.32830113160685, 279.3718848824536, 126.76270862572083, 217.6023049788285, 263.12696182136324, 123.89884398044353, 140.0827737996579, 107.15695581018836, 116.4988269129824, 121.32488487719577, 138.56088352032054, 166.87741133700894, 125.08674181324423, 120.86953347471338, 118.97099116247986, 102.16085626717623, 104.05493821019853, 107.24163515063432, 102.19760970947674, 222.99870931036477, 60.2512188491821, 53.318516138813536, 48.99262391582237, 39.98569148353356, 35.9856427262422, 32.607293845398054, 98.7720294921663, 29.591451769438574, 29.531770547835382, 29.247062198068367, 28.530646952010862, 26.20967714149513, 25.926744427056683, 25.864340913292903, 95.09431477110356, 24.79608836476687, 23.503386619457885, 23.400572365292994, 22.99666109184101, 22.75451307340306, 21.729307259992712, 21.702488367338624, 20.418428134464474, 19.621726190262617, 19.12546226666921, 18.054006252344212, 17.371139792192736, 17.115317551172932, 16.365362671968825, 138.15206457898867, 45.14811976728388, 838.4356924422723, 29.168719807533424, 573.6248349693273, 64.0149538184008, 243.1803032570064, 86.58319516212218, 35.935137799731706, 54.4821665912956, 344.7316021447215, 46.77437683187728, 63.64988424087697, 190.28114040433292, 132.21427727847993, 49.810760315061934, 791.8885446309692, 177.06016246923383, 128.03140345919917, 180.23829343010578, 257.8624172465127, 109.15382145344246, 127.70211332580709, 94.31501222256978, 61.90142476258113, 90.30341529795743, 190.03908914363745, 123.30236617947364, 105.21228759469605, 225.0938439348131, 137.98818311393615, 124.3623289430342, 252.46559463909497, 168.7690385858063, 147.50283741708216, 188.89960720618723, 212.88061096321445, 149.8516865328083, 129.51589735566054, 129.8135764730707, 143.87341788489715, 128.08826563089926, 117.6229900433651, 107.49367814285941, 30.720623364068793, 30.663838347082386, 29.280688094616625, 26.78617463606299, 24.40816192501637, 23.669951819670526, 22.96282681587744, 22.512615487276168, 21.35312263817289, 19.255007723210053, 19.15643927914043, 18.90062950604649, 16.789935724368735, 16.62288505291933, 15.670412923349394, 14.724208857350728, 14.443175409772442, 14.039382920160984, 14.017234052626266, 13.979720919388503, 13.710918316292945, 13.11214911864307, 27.256747096943116, 12.256286739597403, 12.138138686858042, 11.306521856654685, 17.13786515062642, 40.24511264494669, 10.644191588101204, 98.76620861891364, 64.20476305521161, 95.5334459788337, 32.9258045712198, 1386.614981082073, 32.87783611744878, 23.776712829198882, 34.23642454823666, 357.7384853804723, 65.20524515699431, 342.90907489741954, 58.991018793346996, 60.51007111691617, 230.5492497714193, 424.6638688856624, 117.51309411408663, 82.81176559339724, 111.80347800675789, 135.56073089808967, 87.49976426983913, 132.0069574355637, 198.2327014677793, 59.70875542239517, 267.6122840245988, 242.3728423014355, 59.359355754847826, 161.08600511224353, 84.28428307056588, 197.53882573142207, 196.5384559736582, 111.01603435629876, 251.87894379714757, 157.26619124412795, 182.3220921476894, 192.73016957877712, 162.44241748823225, 129.53871049706032, 129.14913074695912, 106.36109412852264, 101.64714886825796, 109.10905813577519, 121.25565437344068, 102.49679202895791, 100.53405409892362, 87.79942711497539, 84.88610573989895, 75.11073272332476, 61.00316024802827, 55.93968310975755, 49.78234882786065, 46.68441768075188, 43.765361691141294, 43.48964288771854, 42.754551277929714, 40.92809026798086, 40.14525136126149, 40.05194726210679, 38.08853688895717, 37.6191650916191, 36.965446473074635, 35.94600441318587, 34.10364745417749, 33.90097410366841, 32.41818753667762, 31.81825493794435, 31.135131557474445, 30.469893406225435, 28.515988133800853, 27.889339731153367, 26.738628045903855, 24.60343990102715, 24.36047105134141, 22.793629394681805, 22.690616693728096, 131.23554693370866, 37.11754409037774, 67.32811539207368, 217.9036818535615, 50.81020302765017, 53.697293342943674, 49.55599618384459, 513.5462373454259, 72.91606738815221, 57.75858028203538, 66.87077302338956, 284.65757666461974, 70.51801987850506, 132.08242236939256, 131.85489444951105, 97.82838076195817, 222.72694083643856, 107.47999311414853, 145.3349244893519, 147.69892101030592, 72.54002484178697, 139.03791530178026, 158.6710221066669, 201.09359682359894, 98.27687883677547, 126.15105659465297, 131.86604356453037, 115.94651581876053, 120.93271285255568, 113.21977520364642, 103.54974257446763, 96.15537328096266, 84.58089071339391, 90.04998436309546, 81.50217098228028, 81.28045999197406, 78.9104270346683, 76.04573098362812, 157.10060397508383, 145.73741676360572, 116.31377307018823, 112.29180269493347, 105.5129748776994, 82.70025678485938, 61.1992537121559, 55.41308441263376, 49.90586194612039, 46.928935830786415, 45.499511481093954, 43.51473874363448, 41.95685224273075, 41.554424172256375, 37.60738287288492, 36.022160083570355, 35.620754040208894, 34.161150522090374, 33.700141893726574, 33.53091221656699, 33.38471143385578, 30.285570846462445, 30.021427743340094, 28.65506951497706, 27.82965731529566, 27.087638220633792, 26.47748999213258, 26.477069042268063, 26.312430655491188, 24.56147500975201, 153.94433363840386, 79.46350083408456, 53.38170567250048, 63.279548784451926, 59.86375404572119, 186.31765722243642, 55.70167980811844, 51.94660731021566, 37.139713447130084, 143.38479649756502, 123.37259715823284, 138.0497366519184, 146.19229322929203, 123.33058831966079, 71.72468020862478, 116.07207344751663, 82.50450530832913, 101.7729351847256, 94.87604561479327, 91.78439401917556, 94.39814417047124, 79.80698026027633, 99.25668093786382, 73.47141460828075, 72.36966154893786, 69.35890281193512, 64.71418508083896, 69.76147968329184, 70.46256678787228, 68.39302845304431, 68.12780262771231, 68.59217885499221, 68.80687503333189, 68.63298945488016, 168.84293616500233, 168.0528348147819, 158.70310801163373, 119.5484910035873, 111.36816430428101, 97.04658618180407, 92.41936686244264, 82.52878233358473, 79.15980019734799, 69.03898708717614, 58.801653600313834, 58.31533572841082, 56.31262453027265, 52.933834239343525, 51.013631167540105, 46.51256501025667, 174.14316024446353, 41.28024016771771, 39.778659284552475, 39.77843694132669, 35.906658481720996, 30.53684097258898, 29.411962751014563, 29.162734784477536, 29.155121877690434, 27.958846427881078, 27.10515804668077, 26.75372109136652, 25.529168906948303, 25.40587489085822, 241.2839875551363, 69.71317559008361, 947.1175057304768, 139.05744932104724, 117.38303082736368, 100.93387229850961, 49.23380496107548, 275.71942909618804, 70.70622933152512, 147.56896095255294, 180.2217735098573, 93.44120622263655, 282.26516355779376, 97.97976383202001, 186.1971193074553, 111.13409638782888, 210.88905479770878, 169.77013873247463, 72.03229685648802, 87.45896465344447, 106.51605890421395, 85.53673543985114, 84.7954431250827, 80.36415516155913, 233.17220735838822, 136.12088283914963, 93.36210451295445, 66.52253314458208, 60.48573395364115, 58.76554606766979, 52.659769364951075, 50.8887265443905, 50.00957711747823, 48.72000055398937, 44.60250437140956, 41.71120756031071, 40.520815683255705, 38.25517392774653, 35.72840178650357, 34.45281018605966, 24.777896426159, 24.581870837503487, 20.991681472867747, 20.190164859135997, 19.51492753802565, 19.231083464628675, 17.362124307690106, 16.79011714822014, 60.664857806024514, 16.6922641573614, 15.95076598344648, 15.072480359069415, 15.059625537674695, 15.017784382540329, 64.66686646898941, 46.42193740999223, 64.40628603753636, 111.80670728664748, 54.9194767970434, 77.76984681470614, 46.708693937603734, 34.6990572541119, 174.93521630332586, 32.27969607877969, 50.6681344116338, 95.70457574528639, 125.40756613760479, 54.65154252667398, 143.48735630726355, 96.71991227989885, 63.18983899667783, 254.94535226913294, 64.4249729657146, 81.31273291284325, 121.41668325129332, 169.77055246271135, 75.59909376768907, 124.66630838872884, 96.78110405149266, 69.8325265618612, 91.96226067650508, 88.30946434378868, 87.15687534501596, 76.64943158102797, 76.80022846894023, 72.13452576607709, 64.96270156124591, 63.88776841038798, 246.76049063750617, 192.39750853906497, 176.3436466145487, 154.05261105734257, 123.64523450837333, 90.28093382792093, 79.7594414364818, 234.82387774872157, 55.419459738108834, 52.70620688351681, 50.63015907159354, 50.60885223886065, 49.61015677948528, 49.21540975412148, 45.53373752982783, 41.26276185652765, 40.864350122413775, 36.42766479563212, 35.171871873944866, 34.32305829344935, 30.914826525893485, 30.889453334547508, 30.210939295968, 28.102402165125845, 26.92424954695785, 26.490703144827332, 25.49396884478307, 24.61321163518255, 24.302038251314322, 21.228455609619825, 39.27122117578158, 76.49828276876377, 50.75843218784348, 56.814891082169666, 61.01037043121934, 45.56049018070332, 63.672483563253564, 37.71289449727938, 58.91145350709603, 34.37139200696419, 71.96407131524532, 81.22496483663637, 67.20473649850959, 179.00526114675299, 91.7693041802831, 63.67380208280386, 88.16854916839107, 114.62500958489755, 113.39593884409618, 126.56732867173594, 124.6824772746014, 104.54788598189774, 77.16748130052052, 74.07288267599394, 78.59512219359566, 64.20330402220686, 69.59127904453256, 72.35055266342829, 69.25475185931172, 62.11425937471642, 54.18551791205679, 49.406965659389265, 47.84666900693968, 47.436196831108084, 43.517409141253744, 42.584024959834686, 36.97718714617858, 29.83795835474353, 29.037420662689204, 27.321508098665124, 26.280904647125297, 25.04274354569199, 23.299526265828973, 23.171844131316522, 21.933069100717017, 21.248017105302978, 20.880109243846228, 19.92023315421672, 17.59906317346633, 16.954357565228126, 16.092483161336734, 13.98861816475175, 13.786848398730319, 12.616013061088141, 12.251863354051942, 11.071966076041083, 10.438685170772455, 23.009459866856922, 36.33407905080594, 59.81737117751308, 62.448204651799514, 70.07533203084695, 608.7034011361801, 68.06075805952403, 27.53446585905156, 28.023866843743203, 102.78950313306143, 46.88662214123929, 264.6009803274873, 74.04419818219482, 42.645845897492975, 52.20176577894395, 94.07594594897328, 155.97614099793333, 86.61344670225346, 73.8718397305069, 58.5970486094582, 66.34963803409666, 89.88048373051521, 75.11824564123557, 63.73958303567466, 75.68112357085361, 65.72591626535244, 71.12612800357913, 60.84838306669226, 52.20228026887901, 50.09339034853758, 49.298468811320525, 50.5095392074341], \"Total\": [1637.0, 1966.0, 1172.0, 779.0, 1008.0, 961.0, 761.0, 2076.0, 764.0, 1117.0, 389.0, 1080.0, 690.0, 247.0, 237.0, 529.0, 234.0, 734.0, 256.0, 813.0, 512.0, 533.0, 264.0, 193.0, 277.0, 326.0, 609.0, 612.0, 177.0, 223.0, 142.36174975084305, 132.7717439489179, 109.43452964727969, 94.36692123220885, 83.22914460076427, 82.02664401941028, 75.39339034835048, 74.25192627882251, 63.434640338001266, 58.006342846118855, 55.40848214365954, 53.84869113367186, 47.96095966421947, 47.42310950088063, 47.26736102096945, 46.51979126975485, 46.49431662846945, 46.12053081876236, 44.49229654667425, 173.45778063103046, 42.84538171768171, 119.4012134594319, 42.107199071268866, 41.78209947580325, 41.600296845631114, 41.323185103479716, 41.02360166078073, 40.794336408841595, 41.82923042642345, 38.998750993356104, 155.23042517527935, 221.82339088900346, 961.2124859797618, 114.73516236936942, 127.40771130183172, 273.29915482729643, 171.72560047153777, 107.16200384110776, 180.65249800060954, 531.3702672452707, 764.6539024332673, 85.62757452568889, 63.31720054274485, 220.78680764290075, 914.0637791862982, 849.3255162338295, 97.72053451205576, 166.09131231044609, 656.4931320195786, 136.88890900111005, 239.80390679268714, 607.2149820072719, 783.9598089528432, 681.6933657244809, 1345.3303766130975, 1527.5137200483935, 560.7296427760474, 562.565089905613, 403.3593999160539, 751.032566536883, 825.6470931280796, 589.156366859875, 1966.7443140031237, 2076.655418963752, 796.0770806927061, 1252.0984038738875, 500.9299757202069, 1117.0917884271516, 1008.0848157284079, 732.4269785982967, 126.55807622740123, 103.87537046764187, 90.16765453239667, 75.7012016372668, 64.44243658893323, 64.13222106868938, 104.54915708397925, 63.75775149406721, 1637.0397525600097, 59.808126426335754, 50.592288842499784, 48.02192587487862, 46.245438824025946, 46.05925369241461, 43.589338023295575, 42.72439210130357, 42.366237795860684, 42.14699811616632, 36.68932362505965, 35.89377769488766, 35.76308333365993, 34.6238016438426, 33.04517743108602, 32.17590841017271, 28.232938691646368, 26.719565298093887, 25.939123281113815, 24.794222887606296, 24.698854923733858, 24.31232497587075, 46.265709448686984, 208.27541035539016, 80.40507430212672, 69.57014092679913, 174.86878206172133, 143.45301199400058, 88.96760590459786, 166.20257361632162, 54.24085414591438, 138.16137011409737, 63.43532199496889, 71.80612041491845, 832.7238949152649, 656.383149956647, 326.84422954927345, 79.00238078611001, 84.257258749748, 1345.3303766130975, 367.7946331249334, 1252.0984038738875, 2076.655418963752, 412.1326730301853, 547.4913086474446, 305.4367455984724, 402.2978317023943, 463.540027596957, 687.3575633800419, 1527.5137200483935, 825.6470931280796, 796.0770806927061, 751.032566536883, 498.4784640185476, 562.565089905613, 849.3255162338295, 681.6933657244809, 223.88539354881803, 61.137868551153474, 54.20519130322063, 49.87926441174367, 40.87233655186962, 36.87235997833466, 33.494264815129355, 101.66394073324467, 30.478092046189605, 30.41863470642816, 30.133828669343323, 29.417295631092777, 27.09672163574892, 26.813399077252864, 26.751451162458014, 98.4062480283043, 25.682864157474324, 24.390088359021906, 24.287237346152953, 23.883352475353703, 23.641207794497095, 22.61598157194872, 22.589147809825974, 21.30549471280221, 20.50837558509831, 20.012123314747367, 18.941135951564352, 18.25780921910561, 18.00236380232179, 17.25237853222022, 145.87015339799078, 48.916823676321975, 1008.0848157284079, 31.26844308901641, 761.1823987870121, 73.05963138588785, 316.5354363833865, 104.04164192699055, 39.44045644099125, 62.679355106196276, 512.2369721322544, 53.50953541771469, 76.96386132411165, 283.31102747350104, 191.6098924645617, 61.228300366414985, 2076.655418963752, 309.1565528828814, 205.3279771957061, 334.32445806425386, 550.8521203277971, 177.18092633008254, 224.63999843246765, 151.7899565462726, 83.18290068972105, 151.61713425637362, 612.5847216048265, 288.93437809447454, 221.8666375313628, 914.0637791862982, 372.912268222505, 320.2713455978598, 1527.5137200483935, 681.6933657244809, 547.4913086474446, 1252.0984038738875, 1966.7443140031237, 760.4693809277708, 501.62403103192844, 607.2149820072719, 1080.0197229708278, 796.0770806927061, 560.7296427760474, 108.38057830043965, 31.607833170097187, 31.550770663048688, 30.167686116630772, 27.673149226572754, 25.295266751061607, 24.556938488578442, 23.849742150174816, 23.39960546576583, 22.240032739209646, 20.14206644813081, 20.043354314709223, 19.787545607425752, 17.677140245445955, 17.50985046978852, 16.557433782364573, 15.611356206903318, 15.330156373120007, 14.92652111175867, 14.904273374728882, 14.866791622990993, 14.597856523161221, 13.999097915362196, 29.219429693184804, 13.143331384766821, 13.025056378128095, 12.193520010440706, 18.52917104755346, 43.548944166890664, 11.531295347045074, 108.95053938196955, 71.5431933206362, 113.11759212349165, 37.02777961093027, 1966.7443140031237, 37.53343944951769, 26.416317849135897, 39.482944469295255, 529.3251128191362, 81.49742464343316, 533.1319056781482, 74.38428841349338, 76.99426684081813, 380.50353252240063, 813.3225677029435, 190.37670972044054, 123.96000066310998, 188.088839025038, 246.98517710968207, 145.77110002006168, 259.1384909512607, 458.7042211626302, 89.5132359994274, 764.6539024332673, 729.9443783933542, 96.50993288578076, 484.4037123139463, 176.027752875058, 734.5692052986708, 732.4269785982967, 303.5692556456887, 1345.3303766130975, 597.3363458030466, 825.6470931280796, 1117.0917884271516, 832.7238949152649, 687.3575633800419, 737.9203831543734, 402.2978317023943, 359.5062573877178, 485.9119967442875, 1527.5137200483935, 760.4693809277708, 560.7296427760474, 88.68496179853572, 85.77165735941995, 75.99631637526295, 61.88875844248122, 56.82521427851052, 50.667874356187745, 47.570020075337695, 44.65091281227695, 44.37516789514893, 43.640095483994564, 41.81363267880998, 41.03079265782074, 40.93750147370652, 38.97423895351285, 38.50473420693531, 37.85108182496965, 36.831539087149075, 34.98920973294353, 34.786526319721325, 33.30371544781475, 32.70393752287065, 32.02067163448962, 31.355426179337517, 29.401606366622662, 28.77487606473759, 27.624220130284737, 25.48902581403932, 25.24600977562713, 23.679166485971354, 23.576150073885444, 145.2850702059771, 39.33893650192307, 75.72810924620018, 277.28647000512683, 56.800300581357114, 61.60915370845657, 57.24095363717983, 1080.0197229708278, 94.77260349661073, 72.68723571336247, 93.96887316873145, 1252.0984038738875, 123.50550366757534, 428.2938118492343, 504.4482365990382, 274.81523265942667, 1527.5137200483935, 338.6422677425462, 687.3575633800419, 751.032566536883, 157.09320504031137, 734.5692052986708, 1117.0917884271516, 2076.655418963752, 343.87528595078703, 737.9203831543734, 849.3255162338295, 597.3363458030466, 825.6470931280796, 715.0728385044965, 796.0770806927061, 612.5847216048265, 402.2978317023943, 1345.3303766130975, 498.4784640185476, 832.7238949152649, 813.3225677029435, 656.4931320195786, 157.98703866643203, 146.62384886758835, 117.20019945629976, 113.17823928008647, 106.39941562168723, 83.58673603390685, 62.085660872885946, 56.29947959847718, 50.792296134674885, 47.815459136745694, 46.385936608423194, 44.40113321489594, 42.84325115388035, 42.44083444551718, 38.49402151964143, 36.9085660561712, 36.50714688190688, 35.047545145268174, 34.5866046551685, 34.41731017457793, 34.27118869579465, 31.171970533546762, 30.907994061237204, 29.541466915039635, 28.71646516254928, 27.97405437776964, 27.363878444487643, 27.36369357922906, 27.19900218483563, 25.447998370783935, 163.35604646405244, 89.74441688650104, 58.45136557814844, 73.95384339812536, 74.66353478803703, 359.5062573877178, 74.76124422402066, 76.10700099078795, 43.812997962040406, 612.5847216048265, 509.25880283746534, 690.8727445650369, 783.9598089528432, 594.2309208656045, 205.00102888448225, 715.0728385044965, 356.39004571236717, 737.9203831543734, 732.4269785982967, 734.5692052986708, 832.7238949152649, 434.1317317391023, 1080.0197229708278, 368.7141268999252, 411.70237513963986, 419.7211111846935, 239.80390679268714, 516.1342587271407, 609.1535319674557, 478.2169327362978, 498.4784640185476, 729.9443783933542, 1117.0917884271516, 1172.414288812764, 169.72853543961392, 168.93838740644125, 159.5886783975864, 120.4340540616294, 112.25372044918805, 97.93224906280432, 93.30496413361823, 83.4143678004848, 80.0453604397489, 69.92454972452163, 59.687269932298385, 59.20088958138623, 57.198176794049296, 53.81937151841105, 51.89918129460348, 47.39814840883543, 177.86786361252118, 42.1658296815307, 40.664210345638416, 40.66399571658022, 36.79228320660641, 31.422400390744606, 30.297508408521892, 30.048291886067705, 30.040690011527055, 28.844431013403618, 27.990698762602943, 27.639300367504426, 26.414732954711344, 26.29147328911865, 256.26520491043834, 73.9152139781305, 1172.414288812764, 156.67581188307534, 133.32301230585145, 115.65386438233121, 53.329762341630214, 389.70350872769785, 83.56968441637164, 201.10743796000048, 262.64805528509874, 117.67228873726651, 690.8727445650369, 152.68571377845583, 434.1317317391023, 190.98855201627575, 609.1535319674557, 779.2592817216473, 102.83252183192897, 177.2141508371007, 761.1823987870121, 439.34974373190397, 589.156366859875, 1117.0917884271516, 234.05823758287445, 137.00685935572616, 94.24807148993834, 67.40851806168, 61.37176355282848, 59.65152603187694, 53.54573260554552, 51.7747258518716, 50.89554202490891, 49.60598263237739, 45.48846103075998, 42.59731179135279, 41.40682863849555, 39.141153427086664, 36.61443007810664, 35.33876595084935, 25.664026277447554, 25.46784716205513, 21.877647297081506, 21.076298268974547, 20.400899108133046, 20.117087418930012, 18.249170008529987, 17.67622063384681, 63.87144535749449, 17.578369277802828, 16.836716851970113, 15.958474602873993, 15.945600130067827, 15.903753624192484, 68.70316278130498, 49.48837379420597, 69.86824855833773, 124.49764061750412, 60.06085097348143, 91.08625668058761, 53.8679211575222, 39.50725684021257, 264.3476338856689, 36.64019743250422, 65.87957426001796, 166.22705654893096, 250.65465811482233, 78.30228064844124, 326.84422954927345, 190.8171496997782, 105.24012888613382, 2076.655418963752, 120.08366787153045, 214.89547240963535, 612.5847216048265, 1527.5137200483935, 189.4332887995296, 1252.0984038738875, 732.4269785982967, 208.58146675038248, 737.9203831543734, 715.0728385044965, 751.032566536883, 594.2309208656045, 760.4693809277708, 516.1342587271407, 550.8521203277971, 509.25880283746534, 247.64725659116388, 193.28423882985481, 177.230378377922, 154.93932108673596, 124.53196967807806, 91.16765755440109, 80.64620433627147, 237.61671921855992, 56.30616909313646, 53.59300846736574, 51.51686355074469, 51.49558196980676, 50.496863234386, 50.102111467003915, 46.42046513656475, 42.14946403743406, 41.75105828533342, 37.31437231949875, 36.05857296337902, 35.209791268732396, 31.801528575432588, 31.77741868925729, 31.097709875818072, 28.989112426894483, 27.81097615098208, 27.377405557791747, 26.380796975183532, 25.499960770866956, 25.188803286201725, 22.115211953030567, 41.13158915436221, 83.36644810524481, 54.74796890795896, 64.75376021898327, 72.12295488175815, 52.55744003163756, 79.57819295540185, 43.31901311643731, 87.75229079718171, 37.790163027174664, 127.97221684671813, 156.89085970762048, 119.54713417673881, 734.5692052986708, 240.634390179698, 122.1257303952618, 297.9654093972311, 715.0728385044965, 729.9443783933542, 1345.3303766130975, 2076.655418963752, 1527.5137200483935, 458.7042211626302, 482.5445180084398, 690.8727445650369, 215.69839846768087, 412.1326730301853, 760.4693809277708, 589.156366859875, 185.57258209454636, 55.070273327377386, 50.29184084118119, 48.731361537191404, 48.320918792647696, 44.40212020093168, 43.46870952509733, 37.86186804293932, 30.722684587076973, 29.922135251467665, 28.206277929970653, 27.165605811413368, 25.92761258902819, 24.184201160604406, 24.056592938213278, 22.81782201538107, 22.13271786687307, 21.7648394441409, 20.805067074414602, 18.483961863556864, 17.839059532275964, 16.97738108445591, 14.873425831320647, 14.671590009221136, 13.50090165710601, 13.136539219084257, 11.956808089737681, 11.323716083083713, 25.05192846737105, 39.92804181492935, 65.9441153180635, 70.4980006084809, 80.75535552036288, 779.2592817216473, 88.85404331274738, 33.63115278028305, 35.40972433453026, 190.70541277766728, 80.31656497902509, 1117.0917884271516, 168.2733853102268, 72.8794783156412, 123.50550366757534, 389.70350872769785, 1172.414288812764, 732.4269785982967, 509.25880283746534, 277.28647000512683, 482.5445180084398, 1345.3303766130975, 832.7238949152649, 485.9119967442875, 1080.0197229708278, 760.4693809277708, 1252.0984038738875, 796.0770806927061, 687.3575633800419, 729.9443783933542, 825.6470931280796, 1527.5137200483935], \"Category\": [\"Default\", \"Default\", \"Default\", \"Default\", \"Default\", \"Default\", \"Default\", \"Default\", \"Default\", \"Default\", \"Default\", \"Default\", \"Default\", \"Default\", \"Default\", \"Default\", \"Default\", \"Default\", \"Default\", \"Default\", \"Default\", \"Default\", \"Default\", \"Default\", \"Default\", \"Default\", \"Default\", \"Default\", \"Default\", \"Default\", \"Topic1\", \"Topic1\", \"Topic1\", \"Topic1\", \"Topic1\", \"Topic1\", \"Topic1\", \"Topic1\", \"Topic1\", \"Topic1\", \"Topic1\", \"Topic1\", \"Topic1\", \"Topic1\", \"Topic1\", \"Topic1\", \"Topic1\", \"Topic1\", \"Topic1\", \"Topic1\", \"Topic1\", \"Topic1\", \"Topic1\", \"Topic1\", \"Topic1\", \"Topic1\", \"Topic1\", \"Topic1\", \"Topic1\", \"Topic1\", \"Topic1\", \"Topic1\", \"Topic1\", \"Topic1\", \"Topic1\", \"Topic1\", \"Topic1\", \"Topic1\", \"Topic1\", \"Topic1\", \"Topic1\", \"Topic1\", \"Topic1\", \"Topic1\", \"Topic1\", \"Topic1\", \"Topic1\", \"Topic1\", \"Topic1\", \"Topic1\", \"Topic1\", \"Topic1\", \"Topic1\", \"Topic1\", \"Topic1\", \"Topic1\", \"Topic1\", \"Topic1\", \"Topic1\", \"Topic1\", \"Topic1\", \"Topic1\", \"Topic1\", \"Topic1\", \"Topic1\", \"Topic1\", \"Topic1\", \"Topic1\", \"Topic1\", \"Topic1\", \"Topic2\", \"Topic2\", \"Topic2\", \"Topic2\", \"Topic2\", \"Topic2\", \"Topic2\", \"Topic2\", \"Topic2\", \"Topic2\", \"Topic2\", \"Topic2\", \"Topic2\", \"Topic2\", \"Topic2\", \"Topic2\", \"Topic2\", \"Topic2\", \"Topic2\", \"Topic2\", \"Topic2\", \"Topic2\", \"Topic2\", \"Topic2\", \"Topic2\", \"Topic2\", \"Topic2\", \"Topic2\", \"Topic2\", \"Topic2\", \"Topic2\", \"Topic2\", \"Topic2\", \"Topic2\", \"Topic2\", \"Topic2\", \"Topic2\", \"Topic2\", \"Topic2\", \"Topic2\", \"Topic2\", \"Topic2\", \"Topic2\", \"Topic2\", \"Topic2\", \"Topic2\", \"Topic2\", \"Topic2\", \"Topic2\", \"Topic2\", \"Topic2\", \"Topic2\", \"Topic2\", \"Topic2\", \"Topic2\", \"Topic2\", \"Topic2\", \"Topic2\", \"Topic2\", \"Topic2\", \"Topic2\", \"Topic2\", \"Topic2\", \"Topic2\", \"Topic2\", \"Topic3\", \"Topic3\", \"Topic3\", \"Topic3\", \"Topic3\", \"Topic3\", \"Topic3\", \"Topic3\", \"Topic3\", \"Topic3\", \"Topic3\", \"Topic3\", \"Topic3\", \"Topic3\", \"Topic3\", \"Topic3\", \"Topic3\", \"Topic3\", \"Topic3\", \"Topic3\", \"Topic3\", \"Topic3\", \"Topic3\", \"Topic3\", \"Topic3\", \"Topic3\", \"Topic3\", \"Topic3\", \"Topic3\", \"Topic3\", \"Topic3\", \"Topic3\", \"Topic3\", \"Topic3\", \"Topic3\", \"Topic3\", \"Topic3\", \"Topic3\", \"Topic3\", \"Topic3\", \"Topic3\", \"Topic3\", \"Topic3\", \"Topic3\", \"Topic3\", \"Topic3\", \"Topic3\", \"Topic3\", \"Topic3\", \"Topic3\", \"Topic3\", \"Topic3\", \"Topic3\", \"Topic3\", \"Topic3\", \"Topic3\", \"Topic3\", \"Topic3\", \"Topic3\", \"Topic3\", \"Topic3\", \"Topic3\", \"Topic3\", \"Topic3\", \"Topic3\", \"Topic3\", \"Topic3\", \"Topic3\", \"Topic3\", \"Topic3\", \"Topic3\", \"Topic3\", \"Topic3\", \"Topic4\", \"Topic4\", \"Topic4\", \"Topic4\", \"Topic4\", \"Topic4\", \"Topic4\", \"Topic4\", \"Topic4\", \"Topic4\", \"Topic4\", \"Topic4\", \"Topic4\", \"Topic4\", \"Topic4\", \"Topic4\", \"Topic4\", \"Topic4\", \"Topic4\", \"Topic4\", \"Topic4\", \"Topic4\", \"Topic4\", \"Topic4\", \"Topic4\", \"Topic4\", \"Topic4\", \"Topic4\", \"Topic4\", \"Topic4\", \"Topic4\", \"Topic4\", \"Topic4\", \"Topic4\", \"Topic4\", \"Topic4\", \"Topic4\", \"Topic4\", \"Topic4\", \"Topic4\", \"Topic4\", \"Topic4\", \"Topic4\", \"Topic4\", \"Topic4\", \"Topic4\", \"Topic4\", \"Topic4\", \"Topic4\", \"Topic4\", \"Topic4\", \"Topic4\", \"Topic4\", \"Topic4\", \"Topic4\", \"Topic4\", \"Topic4\", \"Topic4\", \"Topic4\", \"Topic4\", \"Topic4\", \"Topic4\", \"Topic4\", \"Topic4\", \"Topic4\", \"Topic4\", \"Topic4\", \"Topic4\", \"Topic4\", \"Topic4\", \"Topic4\", \"Topic4\", \"Topic4\", \"Topic4\", \"Topic5\", \"Topic5\", \"Topic5\", \"Topic5\", \"Topic5\", \"Topic5\", \"Topic5\", \"Topic5\", \"Topic5\", \"Topic5\", \"Topic5\", \"Topic5\", \"Topic5\", \"Topic5\", \"Topic5\", \"Topic5\", \"Topic5\", \"Topic5\", \"Topic5\", \"Topic5\", \"Topic5\", \"Topic5\", \"Topic5\", \"Topic5\", \"Topic5\", \"Topic5\", \"Topic5\", \"Topic5\", \"Topic5\", \"Topic5\", \"Topic5\", \"Topic5\", \"Topic5\", \"Topic5\", \"Topic5\", \"Topic5\", \"Topic5\", \"Topic5\", \"Topic5\", \"Topic5\", \"Topic5\", \"Topic5\", \"Topic5\", \"Topic5\", \"Topic5\", \"Topic5\", \"Topic5\", \"Topic5\", \"Topic5\", \"Topic5\", \"Topic5\", \"Topic5\", \"Topic5\", \"Topic5\", \"Topic5\", \"Topic5\", \"Topic5\", \"Topic5\", \"Topic5\", \"Topic5\", \"Topic5\", \"Topic5\", \"Topic5\", \"Topic5\", \"Topic5\", \"Topic5\", \"Topic5\", \"Topic5\", \"Topic6\", \"Topic6\", \"Topic6\", \"Topic6\", \"Topic6\", \"Topic6\", \"Topic6\", \"Topic6\", \"Topic6\", \"Topic6\", \"Topic6\", \"Topic6\", \"Topic6\", \"Topic6\", \"Topic6\", \"Topic6\", \"Topic6\", \"Topic6\", \"Topic6\", \"Topic6\", \"Topic6\", \"Topic6\", \"Topic6\", \"Topic6\", \"Topic6\", \"Topic6\", \"Topic6\", \"Topic6\", \"Topic6\", \"Topic6\", \"Topic6\", \"Topic6\", \"Topic6\", \"Topic6\", \"Topic6\", \"Topic6\", \"Topic6\", \"Topic6\", \"Topic6\", \"Topic6\", \"Topic6\", \"Topic6\", \"Topic6\", \"Topic6\", \"Topic6\", \"Topic6\", \"Topic6\", \"Topic6\", \"Topic6\", \"Topic6\", \"Topic6\", \"Topic6\", \"Topic6\", \"Topic6\", \"Topic6\", \"Topic6\", \"Topic6\", \"Topic6\", \"Topic6\", \"Topic6\", \"Topic6\", \"Topic6\", \"Topic6\", \"Topic6\", \"Topic7\", \"Topic7\", \"Topic7\", \"Topic7\", \"Topic7\", \"Topic7\", \"Topic7\", \"Topic7\", \"Topic7\", \"Topic7\", \"Topic7\", \"Topic7\", \"Topic7\", \"Topic7\", \"Topic7\", \"Topic7\", \"Topic7\", \"Topic7\", \"Topic7\", \"Topic7\", \"Topic7\", \"Topic7\", \"Topic7\", \"Topic7\", \"Topic7\", \"Topic7\", \"Topic7\", \"Topic7\", \"Topic7\", \"Topic7\", \"Topic7\", \"Topic7\", \"Topic7\", \"Topic7\", \"Topic7\", \"Topic7\", \"Topic7\", \"Topic7\", \"Topic7\", \"Topic7\", \"Topic7\", \"Topic7\", \"Topic7\", \"Topic7\", \"Topic7\", \"Topic7\", \"Topic7\", \"Topic7\", \"Topic7\", \"Topic7\", \"Topic7\", \"Topic7\", \"Topic7\", \"Topic7\", \"Topic8\", \"Topic8\", \"Topic8\", \"Topic8\", \"Topic8\", \"Topic8\", \"Topic8\", \"Topic8\", \"Topic8\", \"Topic8\", \"Topic8\", \"Topic8\", \"Topic8\", \"Topic8\", \"Topic8\", \"Topic8\", \"Topic8\", \"Topic8\", \"Topic8\", \"Topic8\", \"Topic8\", \"Topic8\", \"Topic8\", \"Topic8\", \"Topic8\", \"Topic8\", \"Topic8\", \"Topic8\", \"Topic8\", \"Topic8\", \"Topic8\", \"Topic8\", \"Topic8\", \"Topic8\", \"Topic8\", \"Topic8\", \"Topic8\", \"Topic8\", \"Topic8\", \"Topic8\", \"Topic8\", \"Topic8\", \"Topic8\", \"Topic8\", \"Topic8\", \"Topic8\", \"Topic8\", \"Topic8\", \"Topic8\", \"Topic8\", \"Topic8\", \"Topic8\", \"Topic8\", \"Topic8\", \"Topic8\", \"Topic8\", \"Topic8\", \"Topic8\", \"Topic8\", \"Topic8\", \"Topic8\", \"Topic8\", \"Topic8\", \"Topic8\", \"Topic9\", \"Topic9\", \"Topic9\", \"Topic9\", \"Topic9\", \"Topic9\", \"Topic9\", \"Topic9\", \"Topic9\", \"Topic9\", \"Topic9\", \"Topic9\", \"Topic9\", \"Topic9\", \"Topic9\", \"Topic9\", \"Topic9\", \"Topic9\", \"Topic9\", \"Topic9\", \"Topic9\", \"Topic9\", \"Topic9\", \"Topic9\", \"Topic9\", \"Topic9\", \"Topic9\", \"Topic9\", \"Topic9\", \"Topic9\", \"Topic9\", \"Topic9\", \"Topic9\", \"Topic9\", \"Topic9\", \"Topic9\", \"Topic9\", \"Topic9\", \"Topic9\", \"Topic9\", \"Topic9\", \"Topic9\", \"Topic9\", \"Topic9\", \"Topic9\", \"Topic9\", \"Topic9\", \"Topic9\", \"Topic9\", \"Topic9\", \"Topic9\", \"Topic9\", \"Topic9\", \"Topic9\", \"Topic9\", \"Topic9\", \"Topic9\", \"Topic9\", \"Topic9\", \"Topic9\", \"Topic10\", \"Topic10\", \"Topic10\", \"Topic10\", \"Topic10\", \"Topic10\", \"Topic10\", \"Topic10\", \"Topic10\", \"Topic10\", \"Topic10\", \"Topic10\", \"Topic10\", \"Topic10\", \"Topic10\", \"Topic10\", \"Topic10\", \"Topic10\", \"Topic10\", \"Topic10\", \"Topic10\", \"Topic10\", \"Topic10\", \"Topic10\", \"Topic10\", \"Topic10\", \"Topic10\", \"Topic10\", \"Topic10\", \"Topic10\", \"Topic10\", \"Topic10\", \"Topic10\", \"Topic10\", \"Topic10\", \"Topic10\", \"Topic10\", \"Topic10\", \"Topic10\", \"Topic10\", \"Topic10\", \"Topic10\", \"Topic10\", \"Topic10\", \"Topic10\", \"Topic10\", \"Topic10\", \"Topic10\", \"Topic10\", \"Topic10\", \"Topic10\", \"Topic10\", \"Topic10\", \"Topic10\", \"Topic10\", \"Topic10\", \"Topic10\", \"Topic10\", \"Topic10\"], \"logprob\": [30.0, 29.0, 28.0, 27.0, 26.0, 25.0, 24.0, 23.0, 22.0, 21.0, 20.0, 19.0, 18.0, 17.0, 16.0, 15.0, 14.0, 13.0, 12.0, 11.0, 10.0, 9.0, 8.0, 7.0, 6.0, 5.0, 4.0, 3.0, 2.0, 1.0, -5.7297, -5.7999, -5.9946, -6.1441, -6.2709, -6.2856, -6.3709, -6.3864, -6.5459, -6.6367, -6.6832, -6.7122, -6.8301, -6.8416, -6.8449, -6.8612, -6.8618, -6.8699, -6.9066, -5.5462, -6.9451, -5.9205, -6.9629, -6.9708, -6.9752, -6.9821, -6.9895, -6.9952, -6.9704, -7.0413, -5.6603, -5.3138, -3.8932, -5.9806, -5.8914, -5.1777, -5.6712, -6.1189, -5.6576, -4.7121, -4.4747, -6.3489, -6.6076, -5.5929, -4.4591, -4.5297, -6.2611, -5.8435, -4.8354, -6.014, -5.6621, -5.1294, -4.9838, -5.1583, -4.8025, -4.7477, -5.2929, -5.3617, -5.5223, -5.3076, -5.2862, -5.4362, -5.0745, -5.0757, -5.375, -5.3075, -5.5237, -5.5383, -5.5527, -5.6416, -5.3484, -5.5474, -5.6902, -5.867, -6.0301, -6.035, -5.5463, -6.0409, -2.7957, -6.1058, -6.2759, -6.329, -6.3674, -6.3715, -6.4277, -6.4482, -6.4568, -6.4621, -6.604, -6.6265, -6.6302, -6.6634, -6.7113, -6.7387, -6.8734, -6.9304, -6.961, -7.0078, -7.0118, -7.0282, -6.3882, -4.917, -5.8816, -6.0351, -5.2087, -5.3953, -5.8372, -5.3641, -6.3036, -5.5753, -6.1866, -6.1004, -4.4745, -4.6571, -5.2323, -6.081, -6.0496, -4.5495, -5.3397, -4.7993, -4.6094, -5.3625, -5.2398, -5.5077, -5.4241, -5.3835, -5.2507, -5.0648, -5.353, -5.3873, -5.4031, -5.5555, -5.5371, -5.5069, -5.5551, -4.6125, -5.9211, -6.0434, -6.128, -6.3311, -6.4365, -6.5351, -5.4268, -6.6322, -6.6342, -6.6439, -6.6687, -6.7535, -6.7644, -6.7668, -5.4648, -6.809, -6.8625, -6.8669, -6.8843, -6.8949, -6.941, -6.9422, -7.0032, -7.043, -7.0686, -7.1263, -7.1648, -7.1797, -7.2245, -5.0913, -6.2097, -3.2881, -6.6465, -3.6677, -5.8605, -4.5258, -5.5585, -6.4379, -6.0218, -4.1769, -6.1743, -5.8662, -4.7711, -5.1352, -6.1114, -3.3452, -4.8431, -5.1674, -4.8254, -4.4672, -5.3269, -5.1699, -5.473, -5.8941, -5.5165, -4.7724, -5.205, -5.3637, -4.6031, -5.0925, -5.1964, -4.4884, -4.8911, -5.0258, -4.7784, -4.6589, -5.01, -5.1558, -5.1535, -5.0507, -5.1669, -5.2522, -5.2738, -6.5263, -6.5282, -6.5743, -6.6634, -6.7564, -6.7871, -6.8174, -6.8372, -6.8901, -6.9935, -6.9986, -7.0121, -7.1305, -7.1405, -7.1995, -7.2618, -7.281, -7.3094, -7.311, -7.3137, -7.3331, -7.3777, -6.646, -7.4452, -7.4549, -7.5259, -7.11, -6.2563, -7.5863, -5.3585, -5.7892, -5.3918, -6.457, -2.7166, -6.4585, -6.7826, -6.418, -4.0715, -5.7737, -4.1138, -5.8739, -5.8485, -4.5108, -3.9, -5.1847, -5.5347, -5.2345, -5.0419, -5.4796, -5.0684, -4.6618, -5.8618, -4.3617, -4.4608, -5.8677, -4.8693, -5.5171, -4.6653, -4.6704, -5.2416, -4.4223, -4.8933, -4.7455, -4.69, -4.8609, -5.0873, -5.0903, -5.2844, -5.3298, -5.2589, -5.1534, -5.3214, -5.3408, -5.4103, -5.4441, -5.5664, -5.7745, -5.8611, -5.9777, -6.042, -6.1065, -6.1129, -6.1299, -6.1736, -6.1929, -6.1952, -6.2455, -6.2579, -6.2754, -6.3034, -6.356, -6.3619, -6.4067, -6.4253, -6.447, -6.4686, -6.5349, -6.5571, -6.5993, -6.6825, -6.6924, -6.7589, -6.7634, -5.0084, -6.2713, -5.6758, -4.5013, -5.9573, -5.902, -5.9823, -3.644, -5.5961, -5.8291, -5.6826, -4.2341, -5.6295, -5.002, -5.0037, -5.3022, -4.4794, -5.2081, -4.9063, -4.8902, -5.6012, -4.9506, -4.8185, -4.5816, -5.2976, -5.0479, -5.0036, -5.1323, -5.0901, -5.1561, -5.2453, -5.3194, -5.4477, -5.385, -5.4848, -5.4875, -5.5171, -5.554, -4.6733, -4.7484, -4.9739, -5.0091, -5.0714, -5.315, -5.6161, -5.7154, -5.8201, -5.8816, -5.9125, -5.9571, -5.9936, -6.0032, -6.103, -6.1461, -6.1573, -6.1991, -6.2127, -6.2178, -6.2221, -6.3196, -6.3283, -6.3749, -6.4041, -6.4311, -6.4539, -6.4539, -6.4602, -6.529, -4.6936, -5.3549, -5.7528, -5.5827, -5.6382, -4.5028, -5.7102, -5.78, -6.1155, -4.7647, -4.915, -4.8026, -4.7453, -4.9154, -5.4574, -4.976, -5.3174, -5.1075, -5.1777, -5.2108, -5.1827, -5.3506, -5.1325, -5.4333, -5.4484, -5.4909, -5.5602, -5.4851, -5.4751, -5.505, -5.5088, -5.502, -5.4989, -5.5014, -4.3778, -4.3825, -4.4397, -4.723, -4.7939, -4.9316, -4.9804, -5.0936, -5.1353, -5.2721, -5.4326, -5.4409, -5.4758, -5.5377, -5.5746, -5.667, -4.3469, -5.7864, -5.8234, -5.8234, -5.9258, -6.0878, -6.1253, -6.1338, -6.1341, -6.176, -6.207, -6.2201, -6.2669, -6.2718, -4.0208, -5.2624, -2.6533, -4.5719, -4.7413, -4.8923, -5.6102, -3.8874, -5.2482, -4.5124, -4.3126, -4.9694, -3.8639, -4.922, -4.2799, -4.796, -4.1554, -4.3723, -5.2296, -5.0356, -4.8384, -5.0578, -5.0665, -5.1202, -3.971, -4.5092, -4.8863, -5.2252, -5.3204, -5.3492, -5.4589, -5.4931, -5.5105, -5.5367, -5.625, -5.692, -5.7209, -5.7785, -5.8468, -5.8832, -6.2128, -6.2208, -6.3786, -6.4176, -6.4516, -6.4662, -6.5685, -6.602, -5.3174, -6.6078, -6.6533, -6.7099, -6.7107, -6.7135, -5.2535, -5.585, -5.2575, -4.706, -5.4169, -5.069, -5.5788, -5.876, -4.2583, -5.9483, -5.4975, -4.8615, -4.5912, -5.4218, -4.4565, -4.8509, -5.2766, -3.8817, -5.2573, -5.0245, -4.6235, -4.2883, -5.0973, -4.5971, -4.8503, -5.1767, -4.9014, -4.9419, -4.9551, -5.0835, -5.0816, -5.1442, -5.2489, -5.2656, -3.8756, -4.1245, -4.2116, -4.3468, -4.5666, -4.8811, -5.005, -3.9252, -5.3691, -5.4193, -5.4595, -5.4599, -5.4799, -5.4878, -5.5656, -5.6641, -5.6738, -5.7887, -5.8238, -5.8482, -5.9528, -5.9536, -5.9758, -6.0482, -6.091, -6.1073, -6.1456, -6.1808, -6.1935, -6.3287, -5.7136, -5.0468, -5.457, -5.3442, -5.273, -5.565, -5.2303, -5.754, -5.308, -5.8468, -5.1079, -4.9868, -5.1763, -4.1966, -4.8648, -5.2303, -4.9048, -4.6424, -4.6532, -4.5433, -4.5583, -4.7344, -5.0381, -5.079, -5.0197, -5.222, -5.1414, -5.1025, -5.1463, -5.2551, -5.1437, -5.236, -5.2681, -5.2767, -5.3629, -5.3846, -5.5258, -5.7403, -5.7675, -5.8284, -5.8673, -5.9155, -5.9877, -5.9932, -6.0481, -6.0798, -6.0973, -6.1444, -6.2683, -6.3056, -6.3578, -6.4979, -6.5124, -6.6011, -6.6304, -6.7317, -6.7906, -6.0002, -5.5433, -5.0448, -5.0018, -4.8865, -2.7248, -4.9157, -5.8207, -5.803, -4.5034, -5.2884, -3.5579, -4.8314, -5.3832, -5.181, -4.592, -4.0864, -4.6746, -4.8338, -5.0654, -4.9412, -4.6376, -4.817, -4.9813, -4.8096, -4.9506, -4.8716, -5.0277, -5.181, -5.2222, -5.2382, -5.2139], \"loglift\": [30.0, 29.0, 28.0, 27.0, 26.0, 25.0, 24.0, 23.0, 22.0, 21.0, 20.0, 19.0, 18.0, 17.0, 16.0, 15.0, 14.0, 13.0, 12.0, 11.0, 10.0, 9.0, 8.0, 7.0, 6.0, 5.0, 4.0, 3.0, 2.0, 1.0, 1.5023, 1.5018, 1.5004, 1.4991, 1.4978, 1.4977, 1.4967, 1.4965, 1.4945, 1.4931, 1.4924, 1.4919, 1.4899, 1.4897, 1.4896, 1.4893, 1.4892, 1.4891, 1.4884, 1.4883, 1.4876, 1.4873, 1.4873, 1.4871, 1.487, 1.4869, 1.4867, 1.4866, 1.4864, 1.4855, 1.4851, 1.4747, 1.429, 1.4671, 1.4516, 1.4021, 1.3733, 1.3971, 1.3362, 1.2028, 1.0762, 1.3915, 1.4345, 1.2002, 0.9134, 0.9162, 1.3471, 1.2343, 0.8681, 1.2572, 1.0484, 0.6521, 0.5422, 0.5074, 0.1834, 0.1113, 0.5682, 0.4961, 0.6682, 0.2613, 0.1879, 0.3754, -0.4683, -0.5238, 0.1356, -0.2498, 0.4501, -0.3665, -0.2782, -0.0476, 2.0013, 1.9998, 1.9985, 1.9966, 1.9945, 1.9944, 1.9944, 1.9943, 1.994, 1.9934, 1.9907, 1.9897, 1.989, 1.9889, 1.9878, 1.9874, 1.9872, 1.9871, 1.9839, 1.9833, 1.9832, 1.9824, 1.9811, 1.9804, 1.9764, 1.9746, 1.9736, 1.9719, 1.9718, 1.9712, 1.9678, 1.9345, 1.9217, 1.913, 1.8176, 1.829, 1.8649, 1.713, 1.8933, 1.6866, 1.8537, 1.816, 0.9911, 1.0465, 1.1686, 1.7399, 1.7069, 0.4365, 0.9431, 0.2584, -0.0575, 0.8065, 0.6452, 0.9609, 0.769, 0.6679, 0.4068, -0.2058, 0.1212, 0.1234, 0.1658, 0.4233, 0.3207, -0.061, 0.1107, 2.1667, 2.1561, 2.1542, 2.1528, 2.1488, 2.1464, 2.1439, 2.1419, 2.1412, 2.1411, 2.1408, 2.1401, 2.1374, 2.1371, 2.137, 2.1365, 2.1356, 2.1337, 2.1335, 2.1329, 2.1325, 2.1307, 2.1307, 2.1282, 2.1265, 2.1254, 2.1227, 2.1209, 2.1202, 2.1179, 2.1163, 2.0905, 1.9864, 2.1012, 1.8878, 2.0386, 1.9071, 1.987, 2.0776, 2.0306, 1.7747, 2.0362, 1.9808, 1.7727, 1.7997, 1.9643, 1.2066, 1.6134, 1.6984, 1.5529, 1.4117, 1.6863, 1.6059, 1.6949, 1.8752, 1.6525, 1.0003, 1.3192, 1.4246, 0.7693, 1.1765, 1.2247, 0.3706, 0.7747, 0.8592, 0.2794, -0.0527, 0.5464, 0.8167, 0.6279, 0.1549, 0.3437, 0.609, 2.2309, 2.2106, 2.2106, 2.2092, 2.2065, 2.2034, 2.2023, 2.2012, 2.2004, 2.1984, 2.194, 2.1938, 2.1932, 2.1876, 2.1871, 2.184, 2.1806, 2.1795, 2.1778, 2.1777, 2.1776, 2.1764, 2.1736, 2.1695, 2.1692, 2.1686, 2.1636, 2.161, 2.1602, 2.159, 2.1409, 2.1309, 2.0701, 2.1217, 1.8896, 2.1066, 2.1338, 2.0965, 1.8473, 2.016, 1.7978, 2.0072, 1.9982, 1.738, 1.5892, 1.7566, 1.8357, 1.7189, 1.6392, 1.7287, 1.5646, 1.4001, 1.8342, 1.1892, 1.1366, 1.753, 1.1381, 1.5026, 0.9257, 0.9236, 1.2331, 0.5636, 0.9045, 0.7287, 0.4819, 0.6047, 0.5702, 0.4962, 0.9087, 0.9759, 0.7454, -0.2944, 0.235, 0.5203, 2.2949, 2.2946, 2.2932, 2.2906, 2.2893, 2.2873, 2.2862, 2.2849, 2.2848, 2.2845, 2.2836, 2.2831, 2.2831, 2.282, 2.2817, 2.2813, 2.2806, 2.2793, 2.2792, 2.278, 2.2775, 2.2769, 2.2763, 2.2744, 2.2737, 2.2724, 2.2696, 2.2693, 2.2669, 2.2667, 2.2033, 2.2468, 2.1874, 2.064, 2.1935, 2.1675, 2.1608, 1.5616, 2.0428, 2.0751, 1.9648, 0.8237, 1.7446, 1.1286, 0.9632, 1.2721, 0.3795, 1.1573, 0.7512, 0.6787, 1.5323, 0.6404, 0.3533, -0.0298, 1.0525, 0.5386, 0.4423, 0.6656, 0.384, 0.4619, 0.2653, 0.4532, 0.7455, -0.3991, 0.494, -0.0218, -0.0278, 0.1494, 2.4545, 2.4541, 2.4525, 2.4523, 2.4518, 2.4495, 2.4457, 2.4443, 2.4425, 2.4414, 2.4408, 2.44, 2.4392, 2.439, 2.4368, 2.4358, 2.4355, 2.4345, 2.4342, 2.434, 2.4339, 2.4313, 2.431, 2.4297, 2.4288, 2.4279, 2.4272, 2.4272, 2.427, 2.4247, 2.4008, 2.3385, 2.3694, 2.3042, 2.2392, 1.8028, 2.1658, 2.0782, 2.2949, 1.008, 1.0424, 0.8498, 0.7807, 0.8877, 1.4099, 0.642, 0.997, 0.479, 0.4163, 0.3803, 0.2829, 0.7664, 0.0731, 0.847, 0.7216, 0.6598, 1.1503, 0.4588, 0.3031, 0.5153, 0.47, 0.0953, -0.3271, -0.3779, 2.6784, 2.6784, 2.678, 2.6762, 2.6757, 2.6745, 2.6741, 2.6729, 2.6725, 2.6709, 2.6687, 2.6685, 2.668, 2.667, 2.6664, 2.6647, 2.6624, 2.6624, 2.6616, 2.6616, 2.6592, 2.655, 2.6539, 2.6537, 2.6537, 2.6524, 2.6515, 2.651, 2.6495, 2.6493, 2.6234, 2.6251, 2.4702, 2.5643, 2.5563, 2.5475, 2.6037, 2.3376, 2.5165, 2.3741, 2.307, 2.453, 1.7885, 2.24, 1.8371, 2.1421, 1.6229, 1.1597, 2.3276, 1.9774, 0.717, 1.0473, 0.7452, 0.0517, 2.7638, 2.7611, 2.7581, 2.7544, 2.753, 2.7526, 2.7509, 2.7503, 2.75, 2.7496, 2.7479, 2.7466, 2.746, 2.7447, 2.7431, 2.7422, 2.7325, 2.7322, 2.7262, 2.7246, 2.7232, 2.7225, 2.7178, 2.7162, 2.7161, 2.7159, 2.7135, 2.7105, 2.7104, 2.7103, 2.707, 2.7036, 2.6862, 2.6601, 2.6781, 2.6095, 2.625, 2.6378, 2.3547, 2.6409, 2.5051, 2.2155, 2.0751, 2.408, 1.9444, 2.0881, 2.2575, 0.6701, 2.1449, 1.7957, 1.1491, 0.5706, 1.849, 0.4607, 0.7437, 1.6734, 0.6851, 0.6761, 0.6138, 0.7196, 0.4749, 0.7998, 0.6299, 0.6918, 2.8027, 2.8017, 2.8013, 2.8006, 2.7992, 2.7965, 2.7952, 2.7945, 2.7904, 2.7896, 2.7889, 2.7889, 2.7886, 2.7884, 2.787, 2.785, 2.7848, 2.7823, 2.7814, 2.7808, 2.778, 2.778, 2.7774, 2.7752, 2.7739, 2.7734, 2.7721, 2.7709, 2.7705, 2.7654, 2.76, 2.7203, 2.7306, 2.6755, 2.639, 2.6634, 2.5833, 2.6677, 2.4078, 2.7115, 2.2307, 2.148, 2.2303, 1.3944, 1.8423, 2.155, 1.5886, 0.9756, 0.9442, 0.4427, -0.0064, 0.1246, 1.0239, 0.9323, 0.6327, 1.5945, 1.0276, 0.4539, 0.6654, 1.7118, 3.038, 3.0365, 3.0359, 3.0358, 3.0341, 3.0337, 3.0306, 3.025, 3.0242, 3.0224, 3.0211, 3.0195, 3.017, 3.0168, 3.0147, 3.0135, 3.0127, 3.0108, 3.0052, 3.0034, 3.0007, 2.9929, 2.992, 2.9865, 2.9845, 2.9774, 2.9729, 2.9692, 2.9599, 2.9567, 2.933, 2.9124, 2.8072, 2.7877, 2.8542, 2.8203, 2.4362, 2.516, 1.614, 2.2333, 2.5184, 2.1931, 1.633, 1.0371, 0.9193, 1.1236, 1.4999, 1.0701, 0.3483, 0.6486, 1.023, 0.396, 0.6058, 0.1861, 0.4829, 0.4765, 0.3752, 0.236, -0.355]}, \"token.table\": {\"Topic\": [1, 2, 3, 4, 5, 7, 1, 2, 3, 2, 7, 10, 10, 3, 7, 8, 9, 8, 7, 10, 10, 4, 5, 1, 7, 1, 3, 4, 6, 7, 8, 10, 1, 1, 10, 9, 7, 9, 9, 5, 9, 9, 9, 9, 1, 3, 3, 3, 5, 5, 1, 1, 5, 10, 5, 10, 1, 4, 4, 1, 2, 3, 4, 7, 7, 10, 7, 6, 7, 2, 5, 6, 7, 8, 10, 6, 7, 2, 4, 5, 10, 7, 2, 1, 3, 9, 4, 1, 1, 2, 3, 2, 8, 1, 2, 3, 4, 5, 6, 7, 8, 10, 5, 8, 10, 1, 2, 3, 5, 7, 10, 3, 4, 7, 9, 1, 2, 4, 5, 6, 7, 10, 1, 2, 4, 6, 7, 8, 9, 10, 10, 1, 2, 3, 4, 5, 6, 7, 9, 10, 5, 1, 1, 6, 2, 6, 10, 6, 8, 5, 1, 2, 6, 8, 9, 10, 9, 1, 2, 3, 4, 5, 6, 8, 10, 2, 5, 8, 8, 1, 8, 10, 6, 7, 10, 6, 2, 9, 8, 4, 8, 1, 2, 4, 5, 6, 7, 9, 10, 2, 2, 5, 5, 9, 9, 9, 4, 7, 1, 3, 5, 6, 7, 9, 10, 3, 5, 6, 9, 10, 5, 10, 4, 5, 5, 5, 9, 1, 2, 4, 5, 6, 8, 9, 1, 1, 2, 5, 6, 8, 9, 10, 6, 7, 9, 8, 1, 6, 8, 1, 2, 10, 10, 7, 8, 10, 1, 2, 3, 4, 5, 6, 7, 8, 9, 10, 1, 2, 3, 4, 5, 6, 7, 8, 10, 3, 1, 2, 4, 5, 6, 7, 9, 10, 1, 2, 4, 6, 9, 10, 5, 6, 1, 3, 4, 1, 4, 6, 6, 10, 1, 8, 1, 8, 9, 10, 7, 1, 4, 2, 3, 4, 5, 1, 2, 3, 4, 5, 6, 7, 8, 9, 10, 1, 3, 4, 5, 6, 9, 1, 2, 3, 4, 5, 6, 9, 10, 1, 2, 4, 5, 9, 5, 10, 1, 5, 8, 7, 2, 3, 4, 9, 5, 7, 9, 10, 6, 7, 9, 10, 6, 7, 10, 1, 2, 3, 4, 5, 6, 7, 9, 10, 3, 8, 1, 2, 5, 8, 1, 3, 5, 8, 9, 6, 4, 1, 2, 3, 4, 5, 6, 8, 9, 10, 1, 4, 1, 1, 3, 5, 8, 9, 1, 2, 4, 6, 4, 4, 1, 2, 3, 4, 5, 6, 7, 8, 9, 10, 10, 1, 2, 3, 4, 5, 6, 7, 8, 9, 10, 4, 7, 2, 4, 7, 9, 2, 5, 7, 10, 7, 8, 2, 3, 1, 3, 6, 9, 1, 2, 3, 5, 6, 7, 8, 1, 2, 3, 4, 5, 7, 8, 1, 2, 3, 4, 5, 6, 7, 2, 5, 9, 3, 7, 10, 8, 7, 9, 5, 1, 7, 8, 1, 2, 4, 5, 8, 10, 7, 8, 8, 8, 1, 2, 3, 4, 5, 6, 7, 8, 10, 1, 4, 5, 6, 10, 1, 2, 3, 8, 6, 8, 10, 8, 3, 4, 3, 5, 2, 3, 4, 5, 1, 2, 3, 4, 6, 9, 10, 1, 2, 3, 4, 5, 9, 1, 4, 5, 9, 10, 1, 2, 3, 5, 6, 7, 8, 10, 1, 2, 3, 4, 6, 7, 9, 10, 10, 5, 1, 2, 3, 4, 5, 7, 9, 9, 5, 9, 5, 9, 2, 5, 6, 1, 2, 3, 5, 7, 8, 1, 2, 3, 5, 9, 6, 4, 1, 9, 1, 6, 2, 4, 3, 3, 1, 4, 6, 7, 8, 1, 4, 6, 7, 8, 9, 1, 2, 4, 6, 5, 10, 9, 10, 9, 3, 4, 7, 10, 1, 4, 7, 2, 5, 6, 2, 1, 3, 4, 4, 6, 7, 9, 2, 2, 5, 2, 6, 10, 2, 9, 10, 1, 2, 2, 7, 5, 2, 2, 3, 5, 10, 1, 2, 3, 4, 5, 6, 7, 8, 9, 10, 5, 1, 2, 4, 6, 9, 1, 4, 1, 2, 3, 4, 6, 7, 9, 1, 7, 4, 5, 9, 7, 10, 9, 10, 1, 2, 4, 8, 1, 2, 4, 6, 9, 1, 2, 4, 6, 7, 8, 9, 2, 1, 4, 8, 9, 4, 9, 3, 2, 1, 3, 1, 8, 10, 8, 10, 1, 2, 3, 4, 5, 6, 8, 9, 10, 1, 2, 3, 5, 6, 8, 9, 10, 6, 6, 6, 10, 8, 8, 2, 6, 10, 1, 2, 3, 4, 5, 9, 10, 1, 4, 3, 3, 3, 3, 4, 1, 2, 3, 4, 5, 6, 7, 8, 9, 10, 10, 4, 2, 7, 1, 2, 3, 4, 5, 6, 7, 8, 10, 1, 2, 4, 5, 6, 7, 8, 10, 1, 4, 6, 1, 3, 4, 7, 8, 9, 1, 2, 3, 9, 2, 9, 2, 3, 5, 9, 9, 1, 2, 3, 4, 5, 6, 8, 9, 10, 2, 3, 5, 7, 10, 1, 2, 3, 4, 7, 9, 2, 2, 1, 2, 3, 4, 5, 6, 8, 9, 10, 1, 2, 5, 6, 7, 8, 10, 8, 5, 5, 1, 3, 4, 7, 9, 1, 6, 3, 7, 3, 1, 2, 3, 4, 5, 6, 7, 8, 9, 10, 9, 4, 7, 9, 10, 1, 2, 3, 4, 5, 6, 7, 8, 9, 6, 8, 3, 6, 8, 8, 5, 10, 3, 4, 2, 2, 2, 3, 2, 4, 4, 6, 1, 2, 4, 6, 9, 10, 7, 7, 7, 7, 2, 3, 4, 5, 6, 8, 10, 6, 8, 10, 1, 2, 1, 2, 3, 4, 5, 6, 8, 9, 2, 3, 5, 6, 8, 10, 5, 10, 7, 4, 6, 4, 5, 9, 6, 1, 6, 8, 6, 6, 1, 2, 3, 4, 5, 6, 7, 9, 10, 9, 10, 9, 6, 9, 5, 8, 3, 5, 6, 7, 3, 8, 8, 10, 8, 6, 1, 1, 5, 9, 8, 5, 7, 5, 6, 7, 9, 10, 7, 1, 2, 4, 6, 7, 9, 10, 8, 3, 7, 3, 8, 3, 7, 10, 2, 9, 6, 1, 6, 9, 4, 5, 8, 10, 8, 4, 8, 4, 8, 1, 4, 7, 1, 1, 2, 3, 4, 5, 6, 9, 10, 1, 4, 6, 1, 2, 6, 2, 7, 1, 2, 3, 4, 5, 6, 8, 9, 10, 1, 2, 3, 4, 5, 6, 7, 8, 9, 10, 9, 5, 9, 5, 9, 4, 6, 7, 10, 1, 3, 1, 3, 5, 1, 3, 5, 4, 5, 7, 9, 1, 4, 9, 1, 2, 3, 4, 6, 7, 8, 2, 9, 10, 5, 10, 2, 7, 2, 8, 10, 7, 6, 6, 3, 1, 2, 4, 5, 6, 7, 8, 9, 10, 3, 2, 1, 2, 3, 4, 5, 6, 7, 8, 9, 10, 2, 5, 8, 10, 5, 1, 2, 4, 5, 6, 7, 8, 9, 10, 5, 6, 7, 7, 5, 6, 8, 4, 2, 4, 8, 10, 4, 2, 5, 7, 9, 1, 2, 3, 4, 5, 6, 9, 1, 4, 9, 4, 5, 4, 1, 2, 3, 4, 5, 6, 8, 9, 10, 1, 2, 3, 4, 5, 6, 8, 9, 10, 1, 2, 3, 4, 5, 6, 8, 9, 10, 4, 6, 4, 5, 6, 7, 10, 1, 2, 3, 5, 6, 1, 4, 2, 3, 5, 9, 1, 9, 1, 2, 3, 4, 5, 6, 7, 8, 9, 1, 2, 3, 4, 8, 10, 1, 2, 3, 5, 6, 7, 8, 1, 2, 3, 4, 5, 6, 8, 9, 10, 4, 6, 7, 10, 2, 3, 3, 4, 1, 2, 3, 4, 5, 6, 7, 8, 9, 10, 6, 1, 2, 3, 5, 6, 7, 8, 9, 10, 1, 2, 3, 4, 5, 6, 7, 8, 9, 10, 2, 8, 2, 4, 5, 1, 2, 3, 6, 7, 8, 9, 10, 1, 2, 3, 5, 6, 7, 9, 10, 1, 2, 3, 4, 5, 6, 7, 8, 9, 10, 1, 3, 5, 6, 7, 8, 10, 6, 5, 1, 4, 2, 1, 1, 3, 3, 4, 2, 5, 8, 7, 6, 1, 3, 5, 7, 8, 9, 10, 1, 2, 3, 4, 5, 6, 7, 8, 9, 10, 1, 2, 3, 4, 5, 6, 7, 8, 9, 10, 1, 4, 6, 8, 1, 2, 4, 6, 1, 1, 2, 3, 4, 5, 6, 7, 8, 9, 2, 3, 1, 2, 3, 4, 5, 7, 8, 9, 10, 2, 3, 5, 10, 1, 2, 3, 4, 5, 6, 8, 9, 10, 1, 2, 3, 5, 6, 8, 9, 10, 1, 10, 7, 3, 4, 6, 1, 2, 3, 4, 5, 6, 7, 8, 9, 10, 1, 2, 3, 4, 6, 8, 9, 10, 5, 10, 6, 4, 5, 5, 1, 4, 3, 5, 9], \"Freq\": [0.3905625515280053, 0.14445464234597455, 0.21044009625709872, 0.18012245527090653, 0.06776884455737078, 0.007133562584986397, 0.13065853456856968, 0.04899695046321363, 0.8166158410535606, 0.9819834445027347, 0.09929359612445379, 0.8794575656737337, 0.9772365155897255, 0.9503125919178769, 0.06587162782460382, 0.8563311617198496, 0.07685023246203779, 0.9926510295874169, 0.21815588724771107, 0.7815113843168002, 0.9691821708672199, 0.9829225554101558, 0.9717281487494657, 0.9418582185792296, 0.04709291092896148, 0.9852318006311339, 0.03108488328916871, 0.611336038020318, 0.16578604420889978, 0.041446511052224945, 0.051808138815281186, 0.08289302210444989, 0.9874840177641871, 0.9750484691898881, 0.9560788620014887, 0.9727288575623835, 0.9707246430684932, 0.9706429601511378, 0.9647757087203656, 0.9405439823771359, 0.025420107631814483, 0.9933556981281577, 0.991987169866334, 0.9747959104062757, 0.9799637106732795, 0.9777661276670188, 0.9858146161249536, 0.949424491403093, 0.9854221835281723, 0.9730710894116702, 0.9801758144252248, 0.9802690118796903, 0.5748731667141087, 0.4210338685793472, 0.7130020584549751, 0.2766873659676023, 0.6486594764267051, 0.35048536226281646, 0.9825433530948982, 0.7586188479532858, 0.00602078450756576, 0.042145491552960324, 0.18664431973453857, 0.9950324169395385, 0.9782542864463297, 0.016866453214591893, 0.9963112771939886, 0.05625376653250419, 0.9188115200309017, 0.08901057063646038, 0.11519015023541931, 0.18325705719271254, 0.5811866670968884, 0.020943663679167147, 0.010471831839583574, 0.14359274040347042, 0.8495903807205333, 0.7594707830697305, 0.050631385537982035, 0.1518941566139461, 0.03797353915348652, 0.9865573480863346, 0.9955903546890325, 0.06132859361128429, 0.9199289041692643, 0.9939374906244095, 0.9756750046385624, 0.9889352408195471, 0.1923472236160806, 0.06010850738002518, 0.7453454915123123, 0.10916971742219717, 0.8733577393775773, 0.214813558223292, 0.38239860364571837, 0.13863853757673456, 0.07312801982069515, 0.041134511149141025, 0.03047000825862298, 0.01371150371638034, 0.07008101899483285, 0.03808751032327873, 0.9773899149201505, 0.9803489490336618, 0.941276082509426, 0.12000944793149686, 0.10589068935132076, 0.6706410325583648, 0.0035296896450440255, 0.07412348254592453, 0.021178137870264152, 0.5936004557889645, 0.2308446216957084, 0.09893340929816075, 0.06595560619877383, 0.17458948498348273, 0.13505979027024137, 0.3656496760974827, 0.1712953437573793, 0.06258868329596551, 0.05929454206986206, 0.02964727103493103, 0.19921993011359862, 0.1402957254321117, 0.2328909042173054, 0.2328909042173054, 0.05611829017284468, 0.05611829017284468, 0.02805914508642234, 0.053312375664202445, 0.952965035474103, 0.5270428327796751, 0.041127619898991996, 0.15232451814441478, 0.010662716270109035, 0.11576663378975524, 0.04874384580621273, 0.07463901389076324, 0.015232451814441479, 0.013709206632997331, 0.9774231784020341, 0.9842393358909113, 0.9757042948363787, 0.9937524073192103, 0.12054077034458896, 0.8036051356305931, 0.06696709463588275, 0.8802776010000777, 0.10028478998735062, 0.9868916324880279, 0.11085696781743329, 0.1055780645880317, 0.03167341937640951, 0.4011966454345205, 0.2639451614700793, 0.08974135489982694, 0.9973863768972316, 0.220231598573886, 0.34530139529485826, 0.04894035523864133, 0.016313451746213778, 0.15497779158903088, 0.07069162423359303, 0.13050761396971022, 0.013594543121844814, 0.25542040199052796, 0.03831306029857919, 0.7024061054739519, 0.9824043130443404, 0.031312897160942765, 0.9550433634087543, 0.9572337075822075, 0.07470439007901941, 0.33616975535558735, 0.5851843889523187, 0.9896129647007036, 0.18849385042465688, 0.804240428478536, 0.9859777115917902, 0.970882077453019, 0.9901748418830288, 0.11786401118654419, 0.3503180332488952, 0.19644001864424032, 0.06548000621474677, 0.12441201180801886, 0.03601400341811072, 0.06548000621474677, 0.0425620040395854, 0.9770023696109289, 0.9717049666516197, 0.9868185834777143, 0.9506452787311346, 0.9930577455784788, 0.9656404873434528, 0.9903762235351116, 0.98076954004325, 0.9836659721166906, 0.09508336669225852, 0.0415989729278631, 0.13073962920185545, 0.13073962920185545, 0.10696878752879083, 0.04754168334612926, 0.43976057095169563, 0.041949517234346936, 0.30937768960330864, 0.0471932068886403, 0.052436896542933674, 0.5401000343922168, 0.19768580895654864, 0.7907432358261945, 0.9539257879487737, 0.9690104182051048, 0.9853323995537698, 0.1141608114167705, 0.8752328875285738, 0.2929098510763405, 0.07593959101979197, 0.15730343854099768, 0.02440915425636171, 0.19798536230160052, 0.1247578995325154, 0.12747002778322225, 0.9805282674320097, 0.09548471556201861, 0.05092518163307659, 0.4646922824018239, 0.03819388622480745, 0.03182823852067287, 0.08275342015374947, 0.24189461275711382, 0.054630904749214136, 0.9404320031829005, 0.9820110359790027, 0.9503040373413296, 0.9926278048440227, 0.9803177599465633, 0.9670976716518769, 0.8958399111530427, 0.10264832315295282, 0.9641586293893524, 0.9849919740774483, 0.0892030082822142, 0.05946867218814279, 0.8325614106339991, 0.16576605503329903, 0.009589771778785894, 0.00821980438181648, 0.33153211006659805, 0.01643960876363296, 0.09452775039088952, 0.0712383046424095, 0.07808814162725657, 0.1548063158575437, 0.06849836984847067, 0.07129499430639548, 0.045369541831342584, 0.13333089844312923, 0.08703544759482046, 0.47591723472061404, 0.09166499267965134, 0.0111109082035941, 0.012962726237526452, 0.07036908528942931, 0.9852433000736862, 0.1022566027572717, 0.0340855342524239, 0.47719747953393465, 0.011361844750807967, 0.19883228313913942, 0.06249014612944382, 0.07953291325565577, 0.028404611877019918, 0.22381854500691972, 0.0038589404311537884, 0.5093801369123001, 0.1312039746592288, 0.07717880862307577, 0.05402516603615304, 0.9808142603170826, 0.9624030655269128, 0.8734865365916212, 0.0465859486182198, 0.07570216650460716, 0.9238331929228567, 0.07594574671550511, 0.962907948508053, 0.12383079655291032, 0.8668155758703723, 0.06659912297556546, 0.915737940914025, 0.0832752711276136, 0.532961735216727, 0.3747387200742612, 0.9726636242511042, 0.965113095611476, 0.7743505355802086, 0.2191558119566628, 0.26788991192720557, 0.005252743371121678, 0.619823717792358, 0.11030761079355524, 0.28760403959046205, 0.15844852181141195, 0.03728200513209693, 0.0612490084313021, 0.19706202712679805, 0.06524350898116962, 0.010652001466313408, 0.11584051594615831, 0.0665750091644588, 0.9510341006204726, 0.17444088228353774, 0.03563845982136793, 0.6433679851962736, 0.054395543937877364, 0.04876841870292453, 0.039389876644669815, 0.12910006947987457, 0.056558125676897435, 0.12787054500863768, 0.5225479002756828, 0.09713243322771516, 0.01598381812607971, 0.047951454378239125, 0.003688573413710702, 0.10976112547547495, 0.12348126615990933, 0.5968261197728951, 0.11662119581769215, 0.048020492395520295, 0.07582177690736862, 0.9098613228884235, 0.22804989174773027, 0.1710374188107977, 0.598630965837792, 0.9784660494659339, 0.06772738041590534, 0.6151903721111402, 0.15803055430377913, 0.152386605935787, 0.06472539833408197, 0.6853277470667504, 0.12183604392297784, 0.12564342029557088, 0.038898199992971685, 0.7001675998734903, 0.029173649994728764, 0.22366464995958718, 0.01729298031398548, 0.8732955058562667, 0.10375788188391288, 0.11649479394463948, 0.2610346308759514, 0.06903395196719377, 0.18552874591183324, 0.05824739697231974, 0.14022521493336235, 0.03883159798154649, 0.1272813489395135, 0.002157310998974805, 0.971909891620662, 0.9741261846341284, 0.2610199266237529, 0.0113486924619023, 0.06430925728411303, 0.6620070602776342, 0.2105553736355629, 0.07820628163606622, 0.10226975290870198, 0.5775233105432582, 0.030079339090794698, 0.9829457010040709, 0.9643710131193772, 0.13884729283947259, 0.10154503506170384, 0.13470259753083164, 0.153353726419716, 0.05388103901233265, 0.10983442567898578, 0.01865112888888438, 0.153353726419716, 0.1367749451851521, 0.958729632036207, 0.03486289571040752, 0.9826511585329812, 0.015179211633231453, 0.16697132796554598, 0.04553763489969436, 0.7741397932948041, 0.964701263205505, 0.9647314430743773, 0.03155663598841421, 0.9479451244374033, 0.982513500579325, 0.921301194530767, 0.9286312645712824, 0.07909383094965174, 0.14809057709722026, 0.04375403414236054, 0.1060193904218736, 0.07909383094965174, 0.20699023844270562, 0.10433654295485974, 0.12957925496006772, 0.0706795936145824, 0.031974101873263466, 0.9199779671500379, 0.15689392559969428, 0.09083332534719142, 0.04954545018937714, 0.33236739502040497, 0.041287875157814284, 0.10528408165242642, 0.03922348139992357, 0.07431817528406572, 0.101155294136645, 0.012386362547344284, 0.1085043044977921, 0.8871822544231236, 0.0790004631902625, 0.0790004631902625, 0.49093144982520265, 0.34421630390042945, 0.01539632019118527, 0.033358693747568086, 0.7082307287945224, 0.24120901632856925, 0.9470310134082964, 0.04058704343178413, 0.01967265861991113, 0.9737966016856009, 0.03198112541622731, 0.927452637070592, 0.054796553367003106, 0.9315414072390528, 0.5513838437495707, 0.09080329172859994, 0.2461535016739155, 0.05907684040173972, 0.044854638082802385, 0.0032820466889855403, 0.0032820466889855403, 0.4248907020494271, 0.12186787578161862, 0.21409221421095162, 0.11198669666419007, 0.09716492798804728, 0.0032937263724761787, 0.02634981097980943, 0.5533802894373462, 0.125982321212332, 0.09536979456260647, 0.041209170490015136, 0.15541744299091423, 0.012951453582576187, 0.015306263324862766, 0.041272721001941945, 0.797939272704211, 0.16509088400776778, 0.9387249753924861, 0.9847755279317828, 0.9424303972683526, 0.9489332398299318, 0.9836711640142761, 0.9901605128999843, 0.9856394203915526, 0.979189484460719, 0.019326108245935242, 0.9399394599593259, 0.09574926785923063, 0.139634348961378, 0.027926869792275603, 0.1476134546163139, 0.49869410343349285, 0.08777016220429475, 0.9884854855469527, 0.9892618695007142, 0.9890777977494025, 0.9832189091351161, 0.18029792350030352, 0.09596502379854865, 0.17448186145190664, 0.04943652741137355, 0.2849870403714475, 0.08142486867755643, 0.055252589459770435, 0.026172279217785997, 0.04943652741137355, 0.12288685440966926, 0.6702919331436505, 0.04468612887624337, 0.05585766109530421, 0.10054378997154759, 0.07977108238475983, 0.031908432953903935, 0.8615276897554062, 0.9954787424112781, 0.08032280732711347, 0.899615442063671, 0.016064561465422695, 0.9444707180683203, 0.9734116820738004, 0.9432994399521111, 0.9469994331670313, 0.9784754504750881, 0.018955223682231973, 0.7676865591303949, 0.0916169144641212, 0.12004974998746916, 0.08118116202829524, 0.12177174304244287, 0.38717169582725425, 0.16548467644229414, 0.09054821918540623, 0.14675056212807217, 0.006244704771407326, 0.18484187067394478, 0.050990860875570976, 0.05736471848501735, 0.17209415545505205, 0.012747715218892744, 0.5162824663651562, 0.20780768044819772, 0.7922667817087539, 0.42660997564861286, 0.560448399381511, 0.008364901483306136, 0.347353938541676, 0.18166211728329032, 0.21160642232998653, 0.05789232309027933, 0.0698700451089578, 0.05190346208094009, 0.04791088807471393, 0.031940592049809285, 0.36262470540827024, 0.18486749687480444, 0.19375535730147775, 0.049772018389370426, 0.014220576682677266, 0.06577016715738235, 0.07999074384005962, 0.04799444630403577, 0.8831023249460318, 0.980541449601859, 0.3154728603905978, 0.10068282778423333, 0.03691703685421889, 0.14766814741687556, 0.060409696670540004, 0.04362922537316778, 0.2953362948337511, 0.9957282481000402, 0.07938573850138511, 0.8997050363490313, 0.884744128262543, 0.10564108994179618, 0.9851825004888859, 0.009564878645523163, 0.9957452428618776, 0.014610770733598486, 0.034091798378396466, 0.6233928846335354, 0.048702569111994956, 0.03896205528959596, 0.24351284555997477, 0.05856664323764256, 0.11908550791653988, 0.6735163972328895, 0.11127662215152087, 0.03904442882509504, 0.986108284946304, 0.9021185015140211, 0.9910779890788737, 0.9768023803754804, 0.9731873962583355, 0.9753833282282369, 0.988292902810868, 0.9132326937347938, 0.9813884818342754, 0.9752113187615062, 0.22268542850883477, 0.5506403323127551, 0.05668356362043067, 0.07692769348487019, 0.09312299737642181, 0.21159018774586086, 0.6763329215448053, 0.03589476399260139, 0.03589476399260139, 0.003778396209747515, 0.03589476399260139, 0.06721849609161544, 0.09410589452826161, 0.7931782538810621, 0.026887398436646174, 0.7861905414857397, 0.21277633920944333, 0.8802577612055003, 0.10810183032348249, 0.9909422463706948, 0.05646982867501043, 0.6695708257179809, 0.1532752492607426, 0.11293965735002086, 0.28709837478879663, 0.5954632958582449, 0.11696600454358382, 0.2890667049495604, 0.013139395679525472, 0.6832485753353246, 0.9787195982614014, 0.24906475144057555, 0.5725254675971672, 0.1779033938861254, 0.9663333225612354, 0.07500580602738982, 0.8775679305204609, 0.03750290301369491, 0.981211874274269, 0.9055609081816846, 0.07186991334775275, 0.8849418165664253, 0.03687257569026772, 0.07374515138053545, 0.7358416464051583, 0.24923668668561813, 0.9909436711780435, 0.9812814701602973, 0.9881151471576328, 0.9727857696293115, 0.9768698787956278, 0.9750030025044263, 0.9915728775387178, 0.8365108430418915, 0.08365108430418916, 0.04879646584411034, 0.03485461846007881, 0.3224950296517624, 0.011881395829275457, 0.10693256246347911, 0.14936611899660576, 0.03564418748782637, 0.03564418748782637, 0.14427409221263054, 0.03564418748782637, 0.1171166160314295, 0.039038872010476504, 0.9567721972080637, 0.5192435400338936, 0.009272206072033815, 0.06954154554025362, 0.10199426679237197, 0.29671059430508206, 0.8413943990937072, 0.15499370509620922, 0.7358334180552139, 0.07339514911548169, 0.08468671051786349, 0.06774936841429079, 0.016937342103572697, 0.0037638538007939326, 0.01505541520317573, 0.967979595470043, 0.9723513164489834, 0.7975712150952922, 0.1963252221773027, 0.9708397092364037, 0.22508823745481388, 0.7653000073463672, 0.9658798650911147, 0.9642229848258097, 0.3536603128386448, 0.06980137753394305, 0.19544385709504056, 0.3769274386832925, 0.4779034281597145, 0.041556819839975175, 0.04571250182397269, 0.04986818380797021, 0.3823227425277716, 0.09160836050305515, 0.1832167210061103, 0.23171526480184537, 0.09160836050305515, 0.04849854379573508, 0.016166181265245026, 0.33410107948173057, 0.9864797666121791, 0.13674856680078143, 0.11395713900065119, 0.07976999730045582, 0.672347120103842, 0.02431221405638165, 0.9481763481988844, 0.9786570422573573, 0.993134390746963, 0.9893682354249989, 0.9843135834925278, 0.9888264487959387, 0.91600979444278, 0.07156326519084219, 0.9295112462431654, 0.04041353244535502, 0.26610563934583403, 0.20738400384773098, 0.07358787233306584, 0.1873145841205312, 0.06689806575733258, 0.02601591446118489, 0.011892989467970235, 0.09440060390201374, 0.06689806575733258, 0.08735051199729389, 0.30087398576845675, 0.21837627999323472, 0.09462972133040172, 0.03882244977657506, 0.041248852887611, 0.1698482177725159, 0.05095446533175477, 0.9830395420129556, 0.9962460731635276, 0.8444982475761373, 0.13694566176910336, 0.9621162223742797, 0.9850366015633167, 0.9677517318756548, 0.9844012538323897, 0.9648589438895772, 0.13829962444196395, 0.004576090514623807, 0.10830080884609676, 0.7052263937536911, 0.02135508906824443, 0.006101454019498409, 0.01576208955037089, 0.15028608442655783, 0.8486743591146796, 0.9763410864168381, 0.9960453268755786, 0.9623735608977951, 0.6888997133820396, 0.3079172961328814, 0.1728708090411796, 0.07202950376715817, 0.0864354045205898, 0.2243204545891497, 0.05556561719180773, 0.07820346123291458, 0.0884933903425086, 0.06997151794523936, 0.020579858219188046, 0.1317110926028035, 0.9892173121719494, 0.9608390072713235, 0.9730689370520385, 0.9869403993684835, 0.1492364973890419, 0.0314182099766404, 0.04516367684142057, 0.1806547073656823, 0.05105459121204065, 0.24152748919542308, 0.029454571853100374, 0.1256728399065616, 0.14530922114196185, 0.21162519203844146, 0.035498419309674054, 0.2689687924617611, 0.06553554334093671, 0.12970576286227056, 0.038229066948879745, 0.13243641050147628, 0.11878317230544778, 0.9001125530572996, 0.07317988236238208, 0.021953964708714625, 0.20332135589012862, 0.46836526624690344, 0.07261476996076023, 0.06353792371566519, 0.11799900118623537, 0.07261476996076023, 0.9855698903337475, 0.7237913167582032, 0.19542365552471488, 0.07237913167582033, 0.9203399243428433, 0.0746221560277981, 0.9830449992223185, 0.9311084257694294, 0.07197140020197794, 0.9116377358917206, 0.949688236349345, 0.022371485230022022, 0.28834358740917276, 0.08700022033897453, 0.26348638159803717, 0.21128624939465243, 0.02734292639224914, 0.06214301452783895, 0.004971441162227116, 0.03231436755447625, 0.7460774962862717, 0.04813403201846914, 0.060167540023086434, 0.14440209605540744, 0.006016754002308643, 0.18771171121201408, 0.2118460740821302, 0.3700602306751135, 0.1153086226016658, 0.04826872574023219, 0.06435830098697626, 0.9823455191505577, 0.9563297783092211, 0.29088518454952705, 0.20462268154518456, 0.11836017854084205, 0.006018314163093663, 0.16450058712456014, 0.13641512103012304, 0.03209767553649954, 0.006018314163093663, 0.04012209442062442, 0.21463306910910154, 0.053658267277275386, 0.19024294761943092, 0.35121774945125706, 0.029268145787604755, 0.03902419438347301, 0.11707258315041902, 0.9867575912142501, 0.9880172412280899, 0.9608537536943105, 0.0013137455642610201, 0.7540899538858256, 0.07094226047009508, 0.14057077537592916, 0.032843639106525505, 0.24076645843484545, 0.7490512040195192, 0.831559109677229, 0.16891044415318715, 0.9728775365425134, 0.13285359880076417, 0.10208750223637666, 0.05453989845505055, 0.05873527525928521, 0.1580258596261721, 0.16222123643040676, 0.01678150721693863, 0.12306438625754995, 0.16082277749566187, 0.03216455549913237, 0.9755354990643056, 0.9487941058772489, 0.39852400197994936, 0.5626221204422814, 0.031256784469015635, 0.2981679217273827, 0.1251850053053897, 0.029589183072183018, 0.10014800424431175, 0.07966318519433889, 0.07511100318323381, 0.19574382647751842, 0.06373054815547112, 0.03186527407773556, 0.9501577070935135, 0.9431735648358063, 0.9595256706515372, 0.9909656987141633, 0.9816298896770442, 0.9877840816728047, 0.8735004716539768, 0.12229006603155676, 0.9862375576527866, 0.913010533532469, 0.9750993695206688, 0.9679674216366225, 0.9859259663523869, 0.013438891734666985, 0.9864880163512377, 0.9612934809744307, 0.9442432143086084, 0.989759407732516, 0.16557007915896582, 0.06044621937549546, 0.6070902902495413, 0.018396675462107315, 0.1287767282347512, 0.018396675462107315, 0.9646061439549852, 0.9653573199840707, 0.988831368402123, 0.9571744187334911, 0.019471149266953338, 0.02503433477179715, 0.28372246074703433, 0.022252742019375243, 0.5173762519504744, 0.027815927524219054, 0.10570052459203241, 0.9427260473880819, 0.05509437939280998, 0.9570925890810191, 0.9737052310367434, 0.9683712567963758, 0.02938369072092473, 0.001632427262273596, 0.31016117983198327, 0.03591339977001912, 0.15671301717826522, 0.23343709850512423, 0.1975236987351051, 0.03264854524547192, 0.09744796542966795, 0.2598612411457812, 0.31596764548407485, 0.14469546381981, 0.09744796542966795, 0.08563609083213244, 0.986340665825709, 0.9738172007100356, 0.9915999164059917, 0.9240426758328392, 0.03422380280862367, 0.2110314506735614, 0.7702647949584991, 0.01055157253367807, 0.9895895245624855, 0.06760973832127762, 0.851882702848098, 0.06760973832127762, 0.9769184438693759, 0.9878749916114545, 0.14984922766180578, 0.20222371499991265, 0.05964872169062172, 0.18913009316538593, 0.21095279622293048, 0.05237448733810687, 0.007274234352514844, 0.05237448733810687, 0.07565203726615437, 0.988987646882907, 0.008416916143684314, 0.9889349658784906, 0.9067367284882325, 0.06843296064062132, 0.04366611198889869, 0.946099093092805, 0.0149173995274938, 0.0546971316008106, 0.1939261938574194, 0.7359250433563608, 0.944320434064747, 0.9898081027377894, 0.9598838355347933, 0.962898651525073, 0.9708451763126388, 0.981670953693773, 0.9831394774309098, 0.9941874383361657, 0.9770992014666879, 0.9528042967069839, 0.9617440488069057, 0.9016755803901632, 0.08947925606925283, 0.20958083901963095, 0.032747006096817334, 0.6418413194976198, 0.08514221585172507, 0.02619760487745387, 0.995707643162495, 0.026160648728247672, 0.12426308145917644, 0.4316507040160866, 0.041421027153058815, 0.15914394643017335, 0.16786416267292256, 0.04796118933512073, 0.9939396670713604, 0.9727634385450358, 0.979715007833872, 0.9696644548902824, 0.9315492152275362, 0.9840062752836395, 0.9944453867421877, 0.9805653165907692, 0.11542275874476836, 0.8772129664602395, 0.9701216206945895, 0.9931482178241201, 0.9929805126776473, 0.9803936650977852, 0.9393279127406416, 0.11138354462305347, 0.8725044328805855, 0.9488215648124962, 0.9776482950233673, 0.9185067689978842, 0.06888800767484132, 0.8945644865636656, 0.09784299071790092, 0.0934799528252596, 0.10197813035482865, 0.7903305102499221, 0.9855148264417224, 0.08406147635180201, 0.36146434831274865, 0.03962898170870666, 0.1945422738427418, 0.0972711369213709, 0.11288255395813412, 0.018013173503957574, 0.09006586751978787, 0.8875645540701315, 0.04671392389842797, 0.05839240487303496, 0.9743901799950913, 0.8216569793644241, 0.1671166737690354, 0.9510283215001843, 0.021614280034095098, 0.19656351242550885, 0.17983470285738043, 0.08991735142869021, 0.17565250046534833, 0.09619065501673837, 0.1421948813290915, 0.02718431554820867, 0.056459732292433396, 0.033457619136256826, 0.28093465517594257, 0.15499843044189934, 0.09881149940671083, 0.03681212722995109, 0.03681212722995109, 0.13562362663666191, 0.03487464684942735, 0.1394985873977094, 0.0464995291325698, 0.03293716646890361, 0.9899670997976114, 0.13865211174992043, 0.8457778816745146, 0.992276460578607, 0.9476590121032943, 0.959044910311822, 0.05885291629281685, 0.8077349525985154, 0.13305876727071636, 0.1676446241062428, 0.8312792603611331, 0.36234281405327007, 0.6192768094728616, 0.013176102329209821, 0.1633961141436951, 0.8362036429706748, 0.986889938581454, 0.9379278597590444, 0.9910033525855007, 0.9790521855554327, 0.9780026942032225, 0.9318163073266269, 0.06317398693739844, 0.9495726310288541, 0.2243329741241538, 0.08973318964966151, 0.5383991378979691, 0.002991106321655384, 0.03888438218151999, 0.03290216953820922, 0.06879544539807383, 0.8512607535007514, 0.06305635211116677, 0.07882044013895846, 0.9774031582668863, 0.9134825999352145, 0.978662820357502, 0.9842991804830126, 0.9460222345179576, 0.07513516475226392, 0.9016219770271672, 0.9860139902979927, 0.9501641262251161, 0.9706226790571326, 0.9274083553243803, 0.2664576691798177, 0.15139640294307824, 0.22043316268512195, 0.14655171804889974, 0.0557138762830528, 0.07993730075394531, 0.016956397129624764, 0.001211171223544626, 0.05934738995368668, 0.9739189891187616, 0.9634537618897208, 0.25374427288401497, 0.15199533177705846, 0.1607884501443263, 0.07034494693814276, 0.13064061574226513, 0.03517247346907138, 0.03140399416881373, 0.07034494693814276, 0.018842396501288237, 0.0766257457719055, 0.4313981623430911, 0.12850158027241013, 0.4375172852132059, 0.9613042788309658, 0.9681246025648554, 0.18217043313039363, 0.08987074701099419, 0.18945725045560938, 0.12387589452866768, 0.1748836158051779, 0.03643408662607873, 0.08258392968577845, 0.09715756433620994, 0.021860451975647236, 0.9755621646418162, 0.955917420180064, 0.9904806734071178, 0.986777895200412, 0.050623610950489846, 0.050623610950489846, 0.8859131916335723, 0.9416961207924291, 0.9266576388958975, 0.03360934441591338, 0.03360934441591338, 0.004801334916559054, 0.9616940163372635, 0.8234745979369493, 0.05718573596784371, 0.028592867983921855, 0.08006003035498119, 0.12796615937878889, 0.010890736968407564, 0.03403355302627364, 0.26954573996808723, 0.18922655482608144, 0.125243475136687, 0.24368023966811925, 0.9960293186375431, 0.8912227615792198, 0.08102025105265634, 0.8792159867039325, 0.10657163475199183, 0.9601999346937597, 0.13097984264319, 0.1266459507910256, 0.38138248299046495, 0.029374155886891875, 0.09679025136500437, 0.03178187358253875, 0.12279360247799062, 0.06019294239117187, 0.019743285104304373, 0.1722620309054131, 0.10125325480699852, 0.19724660027337376, 0.13412768818589416, 0.08941845879059611, 0.021039637362493202, 0.10125325480699852, 0.0946783681312194, 0.08678850412028445, 0.24746095242144503, 0.1093279869163527, 0.16497396828096336, 0.079213691119034, 0.14598886875656678, 0.0405888334659513, 0.11129196272922132, 0.0687391534504014, 0.03338758881876639, 0.9174722364195904, 0.05396895508350532, 0.0973881256086209, 0.876493130477588, 0.03246270853620697, 0.9826744609033558, 0.9764771667323318, 0.7337394916367368, 0.022646280606072124, 0.1675824764849337, 0.0543510734545731, 0.018117024484857698, 0.8493608883172892, 0.14326569200532588, 0.04094141327808172, 0.09007110921177978, 0.3439078715358865, 0.524050089959446, 0.9800655778112044, 0.017295274902550666, 0.1216050193498751, 0.19735896583012513, 0.2591582379587502, 0.09369567064662507, 0.1415402684236251, 0.05781222231387504, 0.019935249073750015, 0.05183164759175004, 0.05581869740650004, 0.3634043158604946, 0.058836889234556274, 0.42570219857943653, 0.044992915297013616, 0.10729079801595555, 0.9542251379162695, 0.22924493446138305, 0.23288374294489705, 0.047304510285682215, 0.3566032313843736, 0.018194042417570083, 0.07277616967028033, 0.0436657018021682, 0.17251040280197955, 0.1741077213464423, 0.1509466024517321, 0.05750346760065985, 0.22761789258594523, 0.039134304339337955, 0.09983240902892335, 0.02236245962247883, 0.05670480832842846, 0.987261755546159, 0.06860641864565753, 0.32931080949915614, 0.5900152003526548, 0.9870501840327106, 0.9630138827342068, 0.9127683411539955, 0.07606402842949962, 0.1530760513787013, 0.028645810784318375, 0.027750629197308425, 0.1727700462929202, 0.14233387233458192, 0.0617675295036865, 0.07161452696079594, 0.0546060768076069, 0.050130168872557154, 0.23722312055763653, 0.9823955360159773, 0.43137707968678163, 0.07685453718557603, 0.126438109563367, 0.09420878751780289, 0.07685453718557603, 0.027270964807785045, 0.06197946547223874, 0.06445864409112828, 0.03966685790223279, 0.05550619066244425, 0.1645362080351026, 0.19228930336632472, 0.13678311270388047, 0.26167204169438, 0.013876547665611062, 0.02180600347453167, 0.06740037437582516, 0.04757673485352364, 0.03964727904460304, 0.9637951032139321, 0.9406983667999578, 0.9730697228766211, 0.9773205243464091, 0.977514993391597, 0.044870781549671834, 0.06513500547533008, 0.11434812072335726, 0.19974735012434558, 0.40817936764540186, 0.04197589241743494, 0.11434812072335726, 0.011579556528947571, 0.11983842523940264, 0.059098401487924584, 0.19042818257220143, 0.02626595621685537, 0.11491355844874225, 0.3463822976097802, 0.0705897573327988, 0.0705897573327988, 0.05528275923037836, 0.04837241432658106, 0.0460689660253153, 0.020731034711391885, 0.04376551772404954, 0.1842758641012612, 0.4284413840354323, 0.057586207531644125, 0.08983448374936484, 0.025337931313923416, 0.09348290663522739, 0.5698005737766241, 0.19586894723571452, 0.08457977266996763, 0.04006410284366888, 0.017806267930519502, 0.9743131128315475, 0.9701107412537393, 0.9854780261018287, 0.0757107788989381, 0.9085293467872572, 0.9907372456169624, 0.9947821639730904, 0.047987883997772075, 0.9460468559560781, 0.9653858561163253, 0.030485869140515535, 0.8654835568191975, 0.022480092384914222, 0.101160415732114, 0.9508786261265489, 0.9750503706325365, 0.005240619103541522, 0.120534239381455, 0.1467373348991626, 0.04716557193187369, 0.5083400530435276, 0.06812804834603978, 0.10481238207083043, 0.11789889801946227, 0.1219643772615127, 0.05420638989400564, 0.1748156074081682, 0.1707501281661178, 0.13822629422971439, 0.0528512301466555, 0.12467469675621298, 0.014906757220851552, 0.031168674189053246, 0.15903937650451183, 0.10546821810299206, 0.016740987000474928, 0.2628334959074564, 0.19419544920550919, 0.07533444150213718, 0.12723150120360946, 0.010044592200284957, 0.001674098700047493, 0.046874763601329805, 0.5081947195570079, 0.0910915063356901, 0.057531477685699016, 0.3356002864999109, 0.6296811508185353, 0.09591169846904841, 0.004170073846480366, 0.2710548000212238, 0.9904345812465333, 0.22881488662389882, 0.20313158302325712, 0.018678766255012146, 0.06537568189254252, 0.30819964320770044, 0.09339383127506073, 0.01634392047313563, 0.04903176141940689, 0.01400907469125911, 0.11212954762477081, 0.8783481230607048, 0.2246611006553996, 0.25571182188419467, 0.27032392599186295, 0.018265130134585333, 0.052968877390297466, 0.025571182188419465, 0.014612104107668266, 0.09497867669984374, 0.045662825336463334, 0.06843724646776408, 0.8759967547873804, 0.027374898587105637, 0.013687449293552818, 0.3682007374873681, 0.14962739132952807, 0.24791205034010041, 0.005867740836452081, 0.10855320547436349, 0.011735481672904162, 0.030805639391373422, 0.03960725064605154, 0.03814031543693853, 0.1307091517799768, 0.0811298183461925, 0.4732572736861229, 0.11268030325860069, 0.04056490917309625, 0.02253606065172014, 0.09014424260688056, 0.0495793334337843, 0.039917086674682654, 0.9180929935177011, 0.9963959192023273, 0.08260629135985194, 0.9086692049583713, 0.9651800784893126, 0.2144280990440734, 0.04288561980881468, 0.02382534433823038, 0.18822022027201998, 0.05718082641175291, 0.1643948759337896, 0.026207878772053415, 0.12389179055879797, 0.1000664462205676, 0.059563360845575945, 0.3801215274008075, 0.09949489643376841, 0.07653453571828339, 0.08036126250419756, 0.1862340369144896, 0.07398338452767395, 0.05995205297932199, 0.04081841904975114, 0.8978825724161594, 0.08802770317805485, 0.987166279330172, 0.8611313177628082, 0.10130956679562449, 0.9713179732752112, 0.9798895388927706, 0.01675024852808155, 0.9823721455776591, 0.9748775836134312, 0.9871921952836802], \"Term\": [\"able\", \"able\", \"able\", \"able\", \"able\", \"able\", \"able_sleep\", \"able_sleep\", \"able_sleep\", \"accident\", \"accutane\", \"accutane\", \"accutane_acne\", \"aching\", \"acid\", \"acid\", \"acid\", \"acid_reflux\", \"acne\", \"acne\", \"acne_cleared\", \"actonel\", \"acyclovir\", \"add\", \"add\", \"adderall\", \"addition\", \"addition\", \"addition\", \"addition\", \"addition\", \"addition\", \"adhd\", \"adipex\", \"adult_acne\", \"advair\", \"aging\", \"albuterol\", \"allegra\", \"allergic_reaction\", \"allergic_reaction\", \"allergies\", \"allergy\", \"allergy_symptoms\", \"alprazolam\", \"ambien\", \"ambien_cr\", \"ambien_insomnia\", \"amoxicillin\", \"amoxil\", \"anger\", \"anti_depressants\", \"antibiotic\", \"antibiotic\", \"antibiotics\", \"antibiotics\", \"anxiety\", \"anxiety\", \"anxiety_attacks\", \"appetite\", \"appetite\", \"appetite\", \"appetite\", \"application\", \"applied\", \"applied\", \"apply\", \"applying\", \"applying\", \"area\", \"area\", \"area\", \"area\", \"area\", \"area\", \"areas\", \"areas\", \"arms\", \"arms\", \"arms\", \"arms\", \"around_eyes\", \"arthritis\", \"asleep\", \"asleep\", \"asthma\", \"atenolol\", \"ativan\", \"awake\", \"awake\", \"awake\", \"baby\", \"baby\", \"back\", \"back\", \"back\", \"back\", \"back\", \"back\", \"back\", \"back\", \"back\", \"bacterial\", \"baldness\", \"bay\", \"bed\", \"bed\", \"bed\", \"bed\", \"bed\", \"bed\", \"bedtime\", \"bedtime\", \"bedtime\", \"bedtime\", \"began\", \"began\", \"began\", \"began\", \"began\", \"began\", \"began\", \"benefits\", \"benefits\", \"benefits\", \"benefits\", \"benefits\", \"benefits\", \"benefits\", \"benefits\", \"benzoyl\", \"better\", \"better\", \"better\", \"better\", \"better\", \"better\", \"better\", \"better\", \"better\", \"biaxin\", \"bipolar\", \"bipolar_disorder\", \"birth_control\", \"bladder\", \"bladder\", \"bladder\", \"bleeding\", \"bleeding\", \"blisters\", \"blood\", \"blood\", \"blood\", \"blood\", \"blood\", \"blood\", \"blood_pressure\", \"body\", \"body\", \"body\", \"body\", \"body\", \"body\", \"body\", \"body\", \"bone\", \"bone\", \"bone\", \"bone_density\", \"breakfast\", \"breakfast\", \"breakout\", \"breakouts\", \"breakouts\", \"breakouts\", \"breast_cancer\", \"breathing\", \"breathing\", \"bronchitis\", \"built\", \"calcium\", \"caused\", \"caused\", \"caused\", \"caused\", \"caused\", \"caused\", \"caused\", \"caused\", \"celebrex\", \"cervical\", \"chantix\", \"chantix_smoking\", \"cholesterol\", \"cholesterol_levels\", \"claritin\", \"clarity\", \"cleansing\", \"clear\", \"clear\", \"clear\", \"clear\", \"clear\", \"clear\", \"clear\", \"cleared\", \"cleared\", \"cleared\", \"cleared\", \"cleared\", \"clearing\", \"clearing\", \"clenching\", \"cold_sore\", \"cold_sores\", \"congestion\", \"congestion\", \"control\", \"control\", \"control\", \"control\", \"control\", \"control\", \"control\", \"cope\", \"course\", \"course\", \"course\", \"course\", \"course\", \"course\", \"course\", \"cream\", \"cream\", \"crestor\", \"crown\", \"crying\", \"cyclen\", \"cycles\", \"cymbalta\", \"cymbalta\", \"cyst\", \"cystic_acne\", \"cysts\", \"cysts\", \"cysts\", \"daily\", \"daily\", \"daily\", \"daily\", \"daily\", \"daily\", \"daily\", \"daily\", \"daily\", \"daily\", \"days\", \"days\", \"days\", \"days\", \"days\", \"days\", \"days\", \"days\", \"days\", \"daytime\", \"decrease\", \"decrease\", \"decrease\", \"decrease\", \"decrease\", \"decrease\", \"decrease\", \"decrease\", \"decreased\", \"decreased\", \"decreased\", \"decreased\", \"decreased\", \"decreased\", \"dental\", \"depo\", \"depressed\", \"depressed\", \"depressed\", \"depression\", \"depression\", \"dermatitis\", \"dermatologist\", \"dermatologist\", \"diabetes\", \"diabetes\", \"diet\", \"diet\", \"diet\", \"differin\", \"differin_acne\", \"disorder\", \"disorder\", \"dizziness\", \"dizziness\", \"dizziness\", \"dizziness\", \"doctor\", \"doctor\", \"doctor\", \"doctor\", \"doctor\", \"doctor\", \"doctor\", \"doctor\", \"doctor\", \"doryx\", \"dosage\", \"dosage\", \"dosage\", \"dosage\", \"dosage\", \"dosage\", \"dose\", \"dose\", \"dose\", \"dose\", \"dose\", \"dose\", \"dose\", \"dose\", \"doses\", \"doses\", \"doses\", \"doses\", \"doses\", \"doxycycline\", \"doxycycline\", \"drink\", \"drink\", \"drink\", \"drops\", \"drowsiness\", \"drowsiness\", \"drowsiness\", \"drowsiness\", \"dry\", \"dry\", \"dry\", \"dry\", \"dry_skin\", \"dry_skin\", \"dry_skin\", \"dry_skin\", \"dryness\", \"dryness\", \"dryness\", \"due\", \"due\", \"due\", \"due\", \"due\", \"due\", \"due\", \"due\", \"due\", \"dull\", \"ear_infection\", \"eat\", \"eat\", \"eat\", \"eat\", \"eating\", \"eating\", \"eating\", \"eating\", \"eating\", \"eczema\", \"edema\", \"effective\", \"effective\", \"effective\", \"effective\", \"effective\", \"effective\", \"effective\", \"effective\", \"effective\", \"effexor\", \"effexor\", \"emotions\", \"empty_stomach\", \"empty_stomach\", \"empty_stomach\", \"empty_stomach\", \"enbrel\", \"energy\", \"energy\", \"epilepsy\", \"estrogen\", \"evaluated\", \"event\", \"every\", \"every\", \"every\", \"every\", \"every\", \"every\", \"every\", \"every\", \"every\", \"every\", \"evident\", \"experienced\", \"experienced\", \"experienced\", \"experienced\", \"experienced\", \"experienced\", \"experienced\", \"experienced\", \"experienced\", \"experienced\", \"eye\", \"eye\", \"eyes\", \"eyes\", \"eyes\", \"eyes\", \"face\", \"face\", \"face\", \"face\", \"facial\", \"facial\", \"fall_asleep\", \"fall_asleep\", \"falling_asleep\", \"falling_asleep\", \"fat\", \"fat\", \"feel\", \"feel\", \"feel\", \"feel\", \"feel\", \"feel\", \"feel\", \"feeling\", \"feeling\", \"feeling\", \"feeling\", \"feeling\", \"feeling\", \"feeling\", \"felt\", \"felt\", \"felt\", \"felt\", \"felt\", \"felt\", \"felt\", \"fever\", \"fever\", \"fever\", \"finacea\", \"fine_lines\", \"finger\", \"flagyl\", \"flaking\", \"flonase\", \"flu\", \"focus\", \"focus\", \"follicles\", \"food\", \"food\", \"food\", \"food\", \"food\", \"food\", \"forehead\", \"fosamax\", \"gerd\", \"glass_water\", \"got\", \"got\", \"got\", \"got\", \"got\", \"got\", \"got\", \"got\", \"got\", \"gradually\", \"gradually\", \"gradually\", \"gradually\", \"gradually\", \"groggy\", \"groggy\", \"groggy\", \"hair\", \"hair_loss\", \"hair_loss\", \"hair_loss\", \"hairloss\", \"half_hour\", \"hands_feet\", \"hangover\", \"hdl\", \"headache\", \"headache\", \"headache\", \"headache\", \"headaches\", \"headaches\", \"headaches\", \"headaches\", \"headaches\", \"headaches\", \"headaches\", \"heart\", \"heart\", \"heart\", \"heart\", \"heart\", \"heart\", \"heart_rate\", \"heart_rate\", \"heartburn\", \"heartburn\", \"heartburn\", \"help\", \"help\", \"help\", \"help\", \"help\", \"help\", \"help\", \"help\", \"helped\", \"helped\", \"helped\", \"helped\", \"helped\", \"helped\", \"helped\", \"helped\", \"hence\", \"herpes\", \"high\", \"high\", \"high\", \"high\", \"high\", \"high\", \"high\", \"high_blood\", \"high_cholesterol\", \"high_cholesterol\", \"hives\", \"hives\", \"hospital\", \"hospital\", \"hot_flashes\", \"hour\", \"hour\", \"hour\", \"hour\", \"hour\", \"hour\", \"hours\", \"hours\", \"hours\", \"hours\", \"hours\", \"hrt\", \"hs\", \"hungry\", \"hypertension\", \"hypothyroidism\", \"hysterectomy\", \"ibuprofen\", \"ideation\", \"imitrex\", \"imitrex_migraine\", \"increase\", \"increase\", \"increase\", \"increase\", \"increase\", \"increased\", \"increased\", \"increased\", \"increased\", \"increased\", \"increased\", \"increasing\", \"increasing\", \"increasing\", \"increasing\", \"infection\", \"infection\", \"infections\", \"infections\", \"inhaler\", \"initial\", \"initial\", \"initial\", \"initial\", \"initially\", \"initially\", \"initially\", \"injection\", \"injection\", \"injection\", \"injury\", \"insomnia\", \"insomnia\", \"insomnia\", \"intolerable\", \"irritation\", \"irritation\", \"irritation\", \"iv\", \"joint\", \"joint\", \"joint_pain\", \"joint_pain\", \"joint_pain\", \"joints\", \"joints\", \"keflex\", \"klonopin\", \"knee\", \"knees\", \"lashes\", \"ldl\", \"leg\", \"legs\", \"legs\", \"legs\", \"legs\", \"less\", \"less\", \"less\", \"less\", \"less\", \"less\", \"less\", \"less\", \"less\", \"less\", \"levaquin\", \"levels\", \"levels\", \"levels\", \"levels\", \"levels\", \"lexapro\", \"lexapro\", \"life\", \"life\", \"life\", \"life\", \"life\", \"life\", \"life\", \"lifted\", \"lines\", \"lipitor\", \"lipitor\", \"lipitor_high\", \"lips\", \"lips\", \"lisinopril\", \"liver_function\", \"loss\", \"loss\", \"loss\", \"loss\", \"low\", \"low\", \"low\", \"low\", \"low\", \"lower\", \"lower\", \"lower\", \"lower\", \"lower\", \"lower\", \"lower\", \"lower_back\", \"lowered\", \"lowered\", \"lowered\", \"lowered\", \"lowering\", \"lowering\", \"lunesta\", \"lyrica\", \"manic\", \"maxalt\", \"mcg\", \"meal\", \"meal\", \"meals\", \"meals\", \"medication\", \"medication\", \"medication\", \"medication\", \"medication\", \"medication\", \"medication\", \"medication\", \"medication\", \"medicine\", \"medicine\", \"medicine\", \"medicine\", \"medicine\", \"medicine\", \"medicine\", \"medicine\", \"melasma\", \"menopause\", \"menstrual\", \"menstrual\", \"meridia\", \"metformin\", \"methadone\", \"metrogel\", \"metronidazole\", \"mg\", \"mg\", \"mg\", \"mg\", \"mg\", \"mg\", \"mg\", \"mg_per\", \"mg_per\", \"middle_night\", \"migraine\", \"migraine_headaches\", \"migraines\", \"migraines\", \"mild\", \"mild\", \"mild\", \"mild\", \"mild\", \"mild\", \"mild\", \"mild\", \"mild\", \"mild\", \"minocycline\", \"missing\", \"mobic\", \"moisturizer\", \"month\", \"month\", \"month\", \"month\", \"month\", \"month\", \"month\", \"month\", \"month\", \"months\", \"months\", \"months\", \"months\", \"months\", \"months\", \"months\", \"months\", \"mood\", \"mood\", \"mood\", \"morning\", \"morning\", \"morning\", \"morning\", \"morning\", \"morning\", \"motivation\", \"muscle\", \"muscle\", \"muscle\", \"muscles\", \"muscles\", \"naproxen\", \"narcolepsy\", \"nasal\", \"nasal\", \"nasonex\", \"nausea\", \"nausea\", \"nausea\", \"nausea\", \"nausea\", \"nausea\", \"nausea\", \"nausea\", \"nausea\", \"neck\", \"neck\", \"neck\", \"neck\", \"neck\", \"needed\", \"needed\", \"needed\", \"needed\", \"needed\", \"needed\", \"nerve\", \"nerve_pain\", \"never\", \"never\", \"never\", \"never\", \"never\", \"never\", \"never\", \"never\", \"never\", \"new\", \"new\", \"new\", \"new\", \"new\", \"new\", \"new\", \"nexium\", \"niaspan\", \"nicotine\", \"night\", \"night\", \"night\", \"night\", \"night\", \"night_sweats\", \"night_sweats\", \"nights\", \"nights\", \"nights_sleep\", \"none\", \"none\", \"none\", \"none\", \"none\", \"none\", \"none\", \"none\", \"none\", \"none\", \"normal_range\", \"norvasc\", \"nose\", \"nose\", \"nose\", \"noticed\", \"noticed\", \"noticed\", \"noticed\", \"noticed\", \"noticed\", \"noticed\", \"noticed\", \"noticed\", \"nuvaring\", \"obesity\", \"ointment\", \"ortho_tri\", \"osteopenia\", \"osteoporosis\", \"outbreak\", \"outbreak\", \"outbreaks\", \"overweight\", \"oxycodone\", \"oxycontin\", \"pain\", \"pain\", \"pain_relief\", \"panic_attack\", \"panic_disorder\", \"patch\", \"patient\", \"patient\", \"patient\", \"patient\", \"patient\", \"patient\", \"pea_size\", \"peel\", \"peeling\", \"peeling_skin\", \"period\", \"period\", \"period\", \"period\", \"period\", \"period\", \"period\", \"periods\", \"periods\", \"peroxide\", \"personality\", \"physical_therapy\", \"pill\", \"pill\", \"pill\", \"pill\", \"pill\", \"pill\", \"pill\", \"pill\", \"pills\", \"pills\", \"pills\", \"pills\", \"pills\", \"pills\", \"pneumonia\", \"pore_size\", \"pores\", \"potassium\", \"potassium\", \"prednisone\", \"prednisone\", \"prednisone\", \"pregnancy\", \"pregnant\", \"pregnant\", \"pregnant\", \"premarin\", \"prempro\", \"prescribed\", \"prescribed\", \"prescribed\", \"prescribed\", \"prescribed\", \"prescribed\", \"prescribed\", \"prescribed\", \"prescribed\", \"pressure\", \"pressure\", \"prevacid\", \"prevention\", \"prevention\", \"prilosec\", \"prilosec\", \"product\", \"product\", \"product\", \"product\", \"progression\", \"propecia\", \"propecia_hair\", \"protect\", \"protonix\", \"provera\", \"provigil\", \"prozac\", \"quit_smoking\", \"ra\", \"ranitidine\", \"rash\", \"rash\", \"red\", \"red\", \"red\", \"red\", \"red\", \"redness\", \"reduced\", \"reduced\", \"reduced\", \"reduced\", \"reduced\", \"reduced\", \"reduced\", \"reflux\", \"remeron\", \"renova\", \"requip\", \"resistance\", \"rested\", \"retin\", \"retin_micro\", \"rheumatoid_arthritis\", \"rheumatoid_arthritis\", \"ring\", \"ritalin\", \"rosacea\", \"runny_nose\", \"salt\", \"scalp\", \"scalp\", \"scars\", \"seasonique\", \"seizure\", \"seizure\", \"seizures\", \"seizures\", \"sensitive\", \"sensitive\", \"sensitive\", \"seroquel\", \"severe\", \"severe\", \"severe\", \"severe\", \"severe\", \"severe\", \"severe\", \"severe\", \"sexual\", \"sexual\", \"sexual\", \"sexual_side\", \"shot\", \"shot\", \"shoulder\", \"shoulder\", \"side\", \"side\", \"side\", \"side\", \"side\", \"side\", \"side\", \"side\", \"side\", \"since\", \"since\", \"since\", \"since\", \"since\", \"since\", \"since\", \"since\", \"since\", \"since\", \"singulair\", \"sinus\", \"sinus\", \"sinus_infection\", \"sinuses\", \"situational\", \"skin\", \"skin\", \"skin\", \"sleep\", \"sleep\", \"sleeping\", \"sleeping\", \"sleeping\", \"sleepy\", \"sleepy\", \"smoke\", \"smoked\", \"smoking\", \"smoother\", \"sneezing\", \"social\", \"social\", \"sodium\", \"sometimes\", \"sometimes\", \"sometimes\", \"sometimes\", \"sometimes\", \"sometimes\", \"sometimes\", \"son\", \"son\", \"son\", \"sore_throat\", \"sotret\", \"spasms\", \"spf\", \"spinal\", \"spironolactone\", \"spironolactone\", \"spots\", \"spotting\", \"spray\", \"standing\", \"started\", \"started\", \"started\", \"started\", \"started\", \"started\", \"started\", \"started\", \"started\", \"stay_asleep\", \"stiffness\", \"still\", \"still\", \"still\", \"still\", \"still\", \"still\", \"still\", \"still\", \"still\", \"still\", \"stomach\", \"stomach\", \"stomach\", \"stomache\", \"stop_smoking\", \"stopped\", \"stopped\", \"stopped\", \"stopped\", \"stopped\", \"stopped\", \"stopped\", \"stopped\", \"stopped\", \"strep_throat\", \"stroke\", \"sun\", \"sunscreen\", \"supplements\", \"supplements\", \"supplements\", \"suppression\", \"surgery\", \"surgery\", \"surgery\", \"surgery\", \"sweats\", \"swelling\", \"swelling\", \"swelling\", \"swelling\", \"symptoms\", \"symptoms\", \"symptoms\", \"symptoms\", \"symptoms\", \"symptoms\", \"symptoms\", \"synthroid\", \"tab\", \"tab\", \"tabs\", \"tabs\", \"tachycardia\", \"take\", \"take\", \"take\", \"take\", \"take\", \"take\", \"take\", \"take\", \"take\", \"taken\", \"taken\", \"taken\", \"taken\", \"taken\", \"taken\", \"taken\", \"taken\", \"taken\", \"taking\", \"taking\", \"taking\", \"taking\", \"taking\", \"taking\", \"taking\", \"taking\", \"taking\", \"tapered\", \"tapered\", \"taste\", \"taste\", \"taste\", \"tazorac\", \"tetracycline\", \"things\", \"things\", \"things\", \"things\", \"things\", \"thoughts\", \"thoughts\", \"throat\", \"throat\", \"throat\", \"throat\", \"thyroid\", \"thyroid\", \"times\", \"times\", \"times\", \"times\", \"times\", \"times\", \"times\", \"times\", \"times\", \"tired\", \"tired\", \"tired\", \"tired\", \"tired\", \"toenail\", \"told\", \"told\", \"told\", \"told\", \"told\", \"told\", \"told\", \"took\", \"took\", \"took\", \"took\", \"took\", \"took\", \"took\", \"took\", \"took\", \"topamax\", \"topical\", \"topical\", \"topical\", \"tramadol\", \"trazadone\", \"trazodone\", \"trazodone\", \"treatment\", \"treatment\", \"treatment\", \"treatment\", \"treatment\", \"treatment\", \"treatment\", \"treatment\", \"treatment\", \"treatment\", \"tretinoin\", \"tried\", \"tried\", \"tried\", \"tried\", \"tried\", \"tried\", \"tried\", \"tried\", \"tried\", \"two\", \"two\", \"two\", \"two\", \"two\", \"two\", \"two\", \"two\", \"two\", \"two\", \"ulcer\", \"ulcerative\", \"ultram\", \"upped\", \"urge\", \"use\", \"use\", \"use\", \"use\", \"use\", \"use\", \"use\", \"use\", \"used\", \"used\", \"used\", \"used\", \"used\", \"used\", \"used\", \"used\", \"using\", \"using\", \"using\", \"using\", \"using\", \"using\", \"using\", \"using\", \"using\", \"using\", \"usually\", \"usually\", \"usually\", \"usually\", \"usually\", \"usually\", \"uti\", \"vaginal_dryness\", \"valtrex\", \"vertigo\", \"vertigo\", \"vicodin\", \"vyvanse\", \"wake\", \"wake\", \"waking\", \"waking\", \"walk\", \"walk\", \"walk\", \"washing\", \"washing_face\", \"water\", \"water\", \"water\", \"water\", \"water\", \"water\", \"water\", \"week\", \"week\", \"week\", \"week\", \"week\", \"week\", \"week\", \"week\", \"week\", \"week\", \"weeks\", \"weeks\", \"weeks\", \"weeks\", \"weeks\", \"weeks\", \"weeks\", \"weeks\", \"weeks\", \"weeks\", \"weight\", \"weight\", \"weight\", \"weight\", \"weight_gain\", \"weight_gain\", \"weight_gain\", \"weight_gain\", \"wellbutrin\", \"went\", \"went\", \"went\", \"went\", \"went\", \"went\", \"went\", \"went\", \"went\", \"within_minutes\", \"within_minutes\", \"without\", \"without\", \"without\", \"without\", \"without\", \"without\", \"without\", \"without\", \"without\", \"woke\", \"woke\", \"woke\", \"woke\", \"work\", \"work\", \"work\", \"work\", \"work\", \"work\", \"work\", \"work\", \"work\", \"works\", \"works\", \"works\", \"works\", \"works\", \"works\", \"works\", \"works\", \"wound\", \"wound\", \"wrinkles\", \"xanax\", \"xanax\", \"yasmin\", \"year\", \"year\", \"year\", \"year\", \"year\", \"year\", \"year\", \"year\", \"year\", \"year\", \"years\", \"years\", \"years\", \"years\", \"years\", \"years\", \"years\", \"years\", \"yeast_infection\", \"yeast_infection\", \"younger\", \"yrs\", \"yrs\", \"zithromax\", \"zoloft\", \"zoloft\", \"zomig\", \"zyban\", \"zyrtec\"]}, \"R\": 30, \"lambda.step\": 0.01, \"plot.opts\": {\"xlab\": \"PC1\", \"ylab\": \"PC2\"}, \"topic.order\": [3, 5, 6, 2, 1, 8, 10, 9, 4, 7]};\n",
              "\n",
              "function LDAvis_load_lib(url, callback){\n",
              "  var s = document.createElement('script');\n",
              "  s.src = url;\n",
              "  s.async = true;\n",
              "  s.onreadystatechange = s.onload = callback;\n",
              "  s.onerror = function(){console.warn(\"failed to load library \" + url);};\n",
              "  document.getElementsByTagName(\"head\")[0].appendChild(s);\n",
              "}\n",
              "\n",
              "if(typeof(LDAvis) !== \"undefined\"){\n",
              "   // already loaded: just create the visualization\n",
              "   !function(LDAvis){\n",
              "       new LDAvis(\"#\" + \"ldavis_el2131346601346340962092272708\", ldavis_el2131346601346340962092272708_data);\n",
              "   }(LDAvis);\n",
              "}else if(typeof define === \"function\" && define.amd){\n",
              "   // require.js is available: use it to load d3/LDAvis\n",
              "   require.config({paths: {d3: \"https://d3js.org/d3.v5\"}});\n",
              "   require([\"d3\"], function(d3){\n",
              "      window.d3 = d3;\n",
              "      LDAvis_load_lib(\"https://cdn.jsdelivr.net/gh/bmabey/pyLDAvis@3.4.0/pyLDAvis/js/ldavis.v3.0.0.js\", function(){\n",
              "        new LDAvis(\"#\" + \"ldavis_el2131346601346340962092272708\", ldavis_el2131346601346340962092272708_data);\n",
              "      });\n",
              "    });\n",
              "}else{\n",
              "    // require.js not available: dynamically load d3 & LDAvis\n",
              "    LDAvis_load_lib(\"https://d3js.org/d3.v5.js\", function(){\n",
              "         LDAvis_load_lib(\"https://cdn.jsdelivr.net/gh/bmabey/pyLDAvis@3.4.0/pyLDAvis/js/ldavis.v3.0.0.js\", function(){\n",
              "                 new LDAvis(\"#\" + \"ldavis_el2131346601346340962092272708\", ldavis_el2131346601346340962092272708_data);\n",
              "            })\n",
              "         });\n",
              "}\n",
              "</script>"
            ]
          },
          "metadata": {},
          "execution_count": 36
        }
      ]
    },
    {
      "cell_type": "markdown",
      "source": [
        "### **Extracting training vectors**"
      ],
      "metadata": {
        "id": "gNrlDPPQrixg"
      }
    },
    {
      "cell_type": "code",
      "source": [
        "train_vecs = []\n",
        "for i in range(len(df)):\n",
        "    top_topics = (\n",
        "        lda_train.get_document_topics(train_corpus[i],\n",
        "                                      minimum_probability=0.0)\n",
        "    )\n",
        "    topic_vec = [top_topics[i][1] for i in range(10)]\n",
        "    topic_vec.extend([len(df.iloc[i].Review)])\n",
        "    train_vecs.append(topic_vec)"
      ],
      "metadata": {
        "id": "seVaiB-areuw"
      },
      "execution_count": 19,
      "outputs": []
    },
    {
      "cell_type": "markdown",
      "source": [
        "**Topic 2 is the most dominant topic**"
      ],
      "metadata": {
        "id": "WW_EIaa0xTDp"
      }
    },
    {
      "cell_type": "code",
      "source": [
        "train_vecs[2]"
      ],
      "metadata": {
        "colab": {
          "base_uri": "https://localhost:8080/"
        },
        "id": "rFG3T97gruXZ",
        "outputId": "0cfb7ccf-3037-4102-90d5-0823ea1acaf1"
      },
      "execution_count": 20,
      "outputs": [
        {
          "output_type": "execute_result",
          "data": {
            "text/plain": [
              "[0.001786405,\n",
              " 0.0017864176,\n",
              " 0.0017863943,\n",
              " 0.0017863134,\n",
              " 0.35718778,\n",
              " 0.4132375,\n",
              " 0.0017863876,\n",
              " 0.21707006,\n",
              " 0.0017864469,\n",
              " 0.0017862511,\n",
              " 712]"
            ]
          },
          "metadata": {},
          "execution_count": 20
        }
      ]
    },
    {
      "cell_type": "code",
      "source": [
        "X = np.array(train_vecs)\n",
        "y = np.array(df.score)"
      ],
      "metadata": {
        "id": "vYaPDtJdrzph"
      },
      "execution_count": 21,
      "outputs": []
    },
    {
      "cell_type": "code",
      "source": [
        "#Importing libraries for Model\n",
        "from sklearn import model_selection, linear_model, naive_bayes, metrics, svm\n",
        "from sklearn.feature_extraction.text import TfidfVectorizer, CountVectorizer\n",
        "from sklearn import decomposition, ensemble\n",
        "from sklearn.ensemble import RandomForestClassifier"
      ],
      "metadata": {
        "id": "OCZ97Eb_r2pr"
      },
      "execution_count": 22,
      "outputs": []
    },
    {
      "cell_type": "code",
      "source": [
        "print(X.shape, y.shape)"
      ],
      "metadata": {
        "colab": {
          "base_uri": "https://localhost:8080/"
        },
        "id": "STdyKw1fs8k7",
        "outputId": "618831ac-9ea9-4d84-9a52-93b9fefb4157"
      },
      "execution_count": 23,
      "outputs": [
        {
          "output_type": "stream",
          "name": "stdout",
          "text": [
            "(4143, 11) (4143,)\n"
          ]
        }
      ]
    },
    {
      "cell_type": "code",
      "source": [
        "# Splitting the dataset into the Training set and Test set\n",
        "from sklearn.model_selection import train_test_split\n",
        "X_train, X_test, y_train, y_test = model_selection.train_test_split(X, y, test_size = 0.30, random_state = 0)"
      ],
      "metadata": {
        "id": "4kGWE5yqs__n"
      },
      "execution_count": 24,
      "outputs": []
    },
    {
      "cell_type": "code",
      "source": [
        "print (X_train.shape, y_train.shape)\n",
        "print (X_test.shape, y_test.shape)"
      ],
      "metadata": {
        "colab": {
          "base_uri": "https://localhost:8080/"
        },
        "id": "gMBQdOsas_4W",
        "outputId": "cf36f2b8-494a-46c7-88d8-cd4012bab5c1"
      },
      "execution_count": 25,
      "outputs": [
        {
          "output_type": "stream",
          "name": "stdout",
          "text": [
            "(2900, 11) (2900,)\n",
            "(1243, 11) (1243,)\n"
          ]
        }
      ]
    },
    {
      "cell_type": "code",
      "source": [
        "# Scale Data\n",
        "from sklearn.preprocessing import StandardScaler\n",
        "scaler = StandardScaler()\n",
        "X_train_scale = scaler.fit_transform(X_train)\n",
        "X_test_scale = scaler.transform(X_test)"
      ],
      "metadata": {
        "id": "8XpS96FztFb1"
      },
      "execution_count": 26,
      "outputs": []
    },
    {
      "cell_type": "code",
      "source": [
        "# Fitting Naive Bayes to the Training set\n",
        "from sklearn.naive_bayes import GaussianNB\n",
        "classifier = GaussianNB()\n",
        "classifier.fit(X_train_scale, y_train)"
      ],
      "metadata": {
        "colab": {
          "base_uri": "https://localhost:8080/",
          "height": 80
        },
        "id": "qWAMoZ5QtJX-",
        "outputId": "b0ca768a-8127-4395-945f-4ba5f898fef4"
      },
      "execution_count": 27,
      "outputs": [
        {
          "output_type": "execute_result",
          "data": {
            "text/plain": [
              "GaussianNB()"
            ],
            "text/html": [
              "<style>#sk-container-id-1 {\n",
              "  /* Definition of color scheme common for light and dark mode */\n",
              "  --sklearn-color-text: #000;\n",
              "  --sklearn-color-text-muted: #666;\n",
              "  --sklearn-color-line: gray;\n",
              "  /* Definition of color scheme for unfitted estimators */\n",
              "  --sklearn-color-unfitted-level-0: #fff5e6;\n",
              "  --sklearn-color-unfitted-level-1: #f6e4d2;\n",
              "  --sklearn-color-unfitted-level-2: #ffe0b3;\n",
              "  --sklearn-color-unfitted-level-3: chocolate;\n",
              "  /* Definition of color scheme for fitted estimators */\n",
              "  --sklearn-color-fitted-level-0: #f0f8ff;\n",
              "  --sklearn-color-fitted-level-1: #d4ebff;\n",
              "  --sklearn-color-fitted-level-2: #b3dbfd;\n",
              "  --sklearn-color-fitted-level-3: cornflowerblue;\n",
              "\n",
              "  /* Specific color for light theme */\n",
              "  --sklearn-color-text-on-default-background: var(--sg-text-color, var(--theme-code-foreground, var(--jp-content-font-color1, black)));\n",
              "  --sklearn-color-background: var(--sg-background-color, var(--theme-background, var(--jp-layout-color0, white)));\n",
              "  --sklearn-color-border-box: var(--sg-text-color, var(--theme-code-foreground, var(--jp-content-font-color1, black)));\n",
              "  --sklearn-color-icon: #696969;\n",
              "\n",
              "  @media (prefers-color-scheme: dark) {\n",
              "    /* Redefinition of color scheme for dark theme */\n",
              "    --sklearn-color-text-on-default-background: var(--sg-text-color, var(--theme-code-foreground, var(--jp-content-font-color1, white)));\n",
              "    --sklearn-color-background: var(--sg-background-color, var(--theme-background, var(--jp-layout-color0, #111)));\n",
              "    --sklearn-color-border-box: var(--sg-text-color, var(--theme-code-foreground, var(--jp-content-font-color1, white)));\n",
              "    --sklearn-color-icon: #878787;\n",
              "  }\n",
              "}\n",
              "\n",
              "#sk-container-id-1 {\n",
              "  color: var(--sklearn-color-text);\n",
              "}\n",
              "\n",
              "#sk-container-id-1 pre {\n",
              "  padding: 0;\n",
              "}\n",
              "\n",
              "#sk-container-id-1 input.sk-hidden--visually {\n",
              "  border: 0;\n",
              "  clip: rect(1px 1px 1px 1px);\n",
              "  clip: rect(1px, 1px, 1px, 1px);\n",
              "  height: 1px;\n",
              "  margin: -1px;\n",
              "  overflow: hidden;\n",
              "  padding: 0;\n",
              "  position: absolute;\n",
              "  width: 1px;\n",
              "}\n",
              "\n",
              "#sk-container-id-1 div.sk-dashed-wrapped {\n",
              "  border: 1px dashed var(--sklearn-color-line);\n",
              "  margin: 0 0.4em 0.5em 0.4em;\n",
              "  box-sizing: border-box;\n",
              "  padding-bottom: 0.4em;\n",
              "  background-color: var(--sklearn-color-background);\n",
              "}\n",
              "\n",
              "#sk-container-id-1 div.sk-container {\n",
              "  /* jupyter's `normalize.less` sets `[hidden] { display: none; }`\n",
              "     but bootstrap.min.css set `[hidden] { display: none !important; }`\n",
              "     so we also need the `!important` here to be able to override the\n",
              "     default hidden behavior on the sphinx rendered scikit-learn.org.\n",
              "     See: https://github.com/scikit-learn/scikit-learn/issues/21755 */\n",
              "  display: inline-block !important;\n",
              "  position: relative;\n",
              "}\n",
              "\n",
              "#sk-container-id-1 div.sk-text-repr-fallback {\n",
              "  display: none;\n",
              "}\n",
              "\n",
              "div.sk-parallel-item,\n",
              "div.sk-serial,\n",
              "div.sk-item {\n",
              "  /* draw centered vertical line to link estimators */\n",
              "  background-image: linear-gradient(var(--sklearn-color-text-on-default-background), var(--sklearn-color-text-on-default-background));\n",
              "  background-size: 2px 100%;\n",
              "  background-repeat: no-repeat;\n",
              "  background-position: center center;\n",
              "}\n",
              "\n",
              "/* Parallel-specific style estimator block */\n",
              "\n",
              "#sk-container-id-1 div.sk-parallel-item::after {\n",
              "  content: \"\";\n",
              "  width: 100%;\n",
              "  border-bottom: 2px solid var(--sklearn-color-text-on-default-background);\n",
              "  flex-grow: 1;\n",
              "}\n",
              "\n",
              "#sk-container-id-1 div.sk-parallel {\n",
              "  display: flex;\n",
              "  align-items: stretch;\n",
              "  justify-content: center;\n",
              "  background-color: var(--sklearn-color-background);\n",
              "  position: relative;\n",
              "}\n",
              "\n",
              "#sk-container-id-1 div.sk-parallel-item {\n",
              "  display: flex;\n",
              "  flex-direction: column;\n",
              "}\n",
              "\n",
              "#sk-container-id-1 div.sk-parallel-item:first-child::after {\n",
              "  align-self: flex-end;\n",
              "  width: 50%;\n",
              "}\n",
              "\n",
              "#sk-container-id-1 div.sk-parallel-item:last-child::after {\n",
              "  align-self: flex-start;\n",
              "  width: 50%;\n",
              "}\n",
              "\n",
              "#sk-container-id-1 div.sk-parallel-item:only-child::after {\n",
              "  width: 0;\n",
              "}\n",
              "\n",
              "/* Serial-specific style estimator block */\n",
              "\n",
              "#sk-container-id-1 div.sk-serial {\n",
              "  display: flex;\n",
              "  flex-direction: column;\n",
              "  align-items: center;\n",
              "  background-color: var(--sklearn-color-background);\n",
              "  padding-right: 1em;\n",
              "  padding-left: 1em;\n",
              "}\n",
              "\n",
              "\n",
              "/* Toggleable style: style used for estimator/Pipeline/ColumnTransformer box that is\n",
              "clickable and can be expanded/collapsed.\n",
              "- Pipeline and ColumnTransformer use this feature and define the default style\n",
              "- Estimators will overwrite some part of the style using the `sk-estimator` class\n",
              "*/\n",
              "\n",
              "/* Pipeline and ColumnTransformer style (default) */\n",
              "\n",
              "#sk-container-id-1 div.sk-toggleable {\n",
              "  /* Default theme specific background. It is overwritten whether we have a\n",
              "  specific estimator or a Pipeline/ColumnTransformer */\n",
              "  background-color: var(--sklearn-color-background);\n",
              "}\n",
              "\n",
              "/* Toggleable label */\n",
              "#sk-container-id-1 label.sk-toggleable__label {\n",
              "  cursor: pointer;\n",
              "  display: flex;\n",
              "  width: 100%;\n",
              "  margin-bottom: 0;\n",
              "  padding: 0.5em;\n",
              "  box-sizing: border-box;\n",
              "  text-align: center;\n",
              "  align-items: start;\n",
              "  justify-content: space-between;\n",
              "  gap: 0.5em;\n",
              "}\n",
              "\n",
              "#sk-container-id-1 label.sk-toggleable__label .caption {\n",
              "  font-size: 0.6rem;\n",
              "  font-weight: lighter;\n",
              "  color: var(--sklearn-color-text-muted);\n",
              "}\n",
              "\n",
              "#sk-container-id-1 label.sk-toggleable__label-arrow:before {\n",
              "  /* Arrow on the left of the label */\n",
              "  content: \"▸\";\n",
              "  float: left;\n",
              "  margin-right: 0.25em;\n",
              "  color: var(--sklearn-color-icon);\n",
              "}\n",
              "\n",
              "#sk-container-id-1 label.sk-toggleable__label-arrow:hover:before {\n",
              "  color: var(--sklearn-color-text);\n",
              "}\n",
              "\n",
              "/* Toggleable content - dropdown */\n",
              "\n",
              "#sk-container-id-1 div.sk-toggleable__content {\n",
              "  max-height: 0;\n",
              "  max-width: 0;\n",
              "  overflow: hidden;\n",
              "  text-align: left;\n",
              "  /* unfitted */\n",
              "  background-color: var(--sklearn-color-unfitted-level-0);\n",
              "}\n",
              "\n",
              "#sk-container-id-1 div.sk-toggleable__content.fitted {\n",
              "  /* fitted */\n",
              "  background-color: var(--sklearn-color-fitted-level-0);\n",
              "}\n",
              "\n",
              "#sk-container-id-1 div.sk-toggleable__content pre {\n",
              "  margin: 0.2em;\n",
              "  border-radius: 0.25em;\n",
              "  color: var(--sklearn-color-text);\n",
              "  /* unfitted */\n",
              "  background-color: var(--sklearn-color-unfitted-level-0);\n",
              "}\n",
              "\n",
              "#sk-container-id-1 div.sk-toggleable__content.fitted pre {\n",
              "  /* unfitted */\n",
              "  background-color: var(--sklearn-color-fitted-level-0);\n",
              "}\n",
              "\n",
              "#sk-container-id-1 input.sk-toggleable__control:checked~div.sk-toggleable__content {\n",
              "  /* Expand drop-down */\n",
              "  max-height: 200px;\n",
              "  max-width: 100%;\n",
              "  overflow: auto;\n",
              "}\n",
              "\n",
              "#sk-container-id-1 input.sk-toggleable__control:checked~label.sk-toggleable__label-arrow:before {\n",
              "  content: \"▾\";\n",
              "}\n",
              "\n",
              "/* Pipeline/ColumnTransformer-specific style */\n",
              "\n",
              "#sk-container-id-1 div.sk-label input.sk-toggleable__control:checked~label.sk-toggleable__label {\n",
              "  color: var(--sklearn-color-text);\n",
              "  background-color: var(--sklearn-color-unfitted-level-2);\n",
              "}\n",
              "\n",
              "#sk-container-id-1 div.sk-label.fitted input.sk-toggleable__control:checked~label.sk-toggleable__label {\n",
              "  background-color: var(--sklearn-color-fitted-level-2);\n",
              "}\n",
              "\n",
              "/* Estimator-specific style */\n",
              "\n",
              "/* Colorize estimator box */\n",
              "#sk-container-id-1 div.sk-estimator input.sk-toggleable__control:checked~label.sk-toggleable__label {\n",
              "  /* unfitted */\n",
              "  background-color: var(--sklearn-color-unfitted-level-2);\n",
              "}\n",
              "\n",
              "#sk-container-id-1 div.sk-estimator.fitted input.sk-toggleable__control:checked~label.sk-toggleable__label {\n",
              "  /* fitted */\n",
              "  background-color: var(--sklearn-color-fitted-level-2);\n",
              "}\n",
              "\n",
              "#sk-container-id-1 div.sk-label label.sk-toggleable__label,\n",
              "#sk-container-id-1 div.sk-label label {\n",
              "  /* The background is the default theme color */\n",
              "  color: var(--sklearn-color-text-on-default-background);\n",
              "}\n",
              "\n",
              "/* On hover, darken the color of the background */\n",
              "#sk-container-id-1 div.sk-label:hover label.sk-toggleable__label {\n",
              "  color: var(--sklearn-color-text);\n",
              "  background-color: var(--sklearn-color-unfitted-level-2);\n",
              "}\n",
              "\n",
              "/* Label box, darken color on hover, fitted */\n",
              "#sk-container-id-1 div.sk-label.fitted:hover label.sk-toggleable__label.fitted {\n",
              "  color: var(--sklearn-color-text);\n",
              "  background-color: var(--sklearn-color-fitted-level-2);\n",
              "}\n",
              "\n",
              "/* Estimator label */\n",
              "\n",
              "#sk-container-id-1 div.sk-label label {\n",
              "  font-family: monospace;\n",
              "  font-weight: bold;\n",
              "  display: inline-block;\n",
              "  line-height: 1.2em;\n",
              "}\n",
              "\n",
              "#sk-container-id-1 div.sk-label-container {\n",
              "  text-align: center;\n",
              "}\n",
              "\n",
              "/* Estimator-specific */\n",
              "#sk-container-id-1 div.sk-estimator {\n",
              "  font-family: monospace;\n",
              "  border: 1px dotted var(--sklearn-color-border-box);\n",
              "  border-radius: 0.25em;\n",
              "  box-sizing: border-box;\n",
              "  margin-bottom: 0.5em;\n",
              "  /* unfitted */\n",
              "  background-color: var(--sklearn-color-unfitted-level-0);\n",
              "}\n",
              "\n",
              "#sk-container-id-1 div.sk-estimator.fitted {\n",
              "  /* fitted */\n",
              "  background-color: var(--sklearn-color-fitted-level-0);\n",
              "}\n",
              "\n",
              "/* on hover */\n",
              "#sk-container-id-1 div.sk-estimator:hover {\n",
              "  /* unfitted */\n",
              "  background-color: var(--sklearn-color-unfitted-level-2);\n",
              "}\n",
              "\n",
              "#sk-container-id-1 div.sk-estimator.fitted:hover {\n",
              "  /* fitted */\n",
              "  background-color: var(--sklearn-color-fitted-level-2);\n",
              "}\n",
              "\n",
              "/* Specification for estimator info (e.g. \"i\" and \"?\") */\n",
              "\n",
              "/* Common style for \"i\" and \"?\" */\n",
              "\n",
              ".sk-estimator-doc-link,\n",
              "a:link.sk-estimator-doc-link,\n",
              "a:visited.sk-estimator-doc-link {\n",
              "  float: right;\n",
              "  font-size: smaller;\n",
              "  line-height: 1em;\n",
              "  font-family: monospace;\n",
              "  background-color: var(--sklearn-color-background);\n",
              "  border-radius: 1em;\n",
              "  height: 1em;\n",
              "  width: 1em;\n",
              "  text-decoration: none !important;\n",
              "  margin-left: 0.5em;\n",
              "  text-align: center;\n",
              "  /* unfitted */\n",
              "  border: var(--sklearn-color-unfitted-level-1) 1pt solid;\n",
              "  color: var(--sklearn-color-unfitted-level-1);\n",
              "}\n",
              "\n",
              ".sk-estimator-doc-link.fitted,\n",
              "a:link.sk-estimator-doc-link.fitted,\n",
              "a:visited.sk-estimator-doc-link.fitted {\n",
              "  /* fitted */\n",
              "  border: var(--sklearn-color-fitted-level-1) 1pt solid;\n",
              "  color: var(--sklearn-color-fitted-level-1);\n",
              "}\n",
              "\n",
              "/* On hover */\n",
              "div.sk-estimator:hover .sk-estimator-doc-link:hover,\n",
              ".sk-estimator-doc-link:hover,\n",
              "div.sk-label-container:hover .sk-estimator-doc-link:hover,\n",
              ".sk-estimator-doc-link:hover {\n",
              "  /* unfitted */\n",
              "  background-color: var(--sklearn-color-unfitted-level-3);\n",
              "  color: var(--sklearn-color-background);\n",
              "  text-decoration: none;\n",
              "}\n",
              "\n",
              "div.sk-estimator.fitted:hover .sk-estimator-doc-link.fitted:hover,\n",
              ".sk-estimator-doc-link.fitted:hover,\n",
              "div.sk-label-container:hover .sk-estimator-doc-link.fitted:hover,\n",
              ".sk-estimator-doc-link.fitted:hover {\n",
              "  /* fitted */\n",
              "  background-color: var(--sklearn-color-fitted-level-3);\n",
              "  color: var(--sklearn-color-background);\n",
              "  text-decoration: none;\n",
              "}\n",
              "\n",
              "/* Span, style for the box shown on hovering the info icon */\n",
              ".sk-estimator-doc-link span {\n",
              "  display: none;\n",
              "  z-index: 9999;\n",
              "  position: relative;\n",
              "  font-weight: normal;\n",
              "  right: .2ex;\n",
              "  padding: .5ex;\n",
              "  margin: .5ex;\n",
              "  width: min-content;\n",
              "  min-width: 20ex;\n",
              "  max-width: 50ex;\n",
              "  color: var(--sklearn-color-text);\n",
              "  box-shadow: 2pt 2pt 4pt #999;\n",
              "  /* unfitted */\n",
              "  background: var(--sklearn-color-unfitted-level-0);\n",
              "  border: .5pt solid var(--sklearn-color-unfitted-level-3);\n",
              "}\n",
              "\n",
              ".sk-estimator-doc-link.fitted span {\n",
              "  /* fitted */\n",
              "  background: var(--sklearn-color-fitted-level-0);\n",
              "  border: var(--sklearn-color-fitted-level-3);\n",
              "}\n",
              "\n",
              ".sk-estimator-doc-link:hover span {\n",
              "  display: block;\n",
              "}\n",
              "\n",
              "/* \"?\"-specific style due to the `<a>` HTML tag */\n",
              "\n",
              "#sk-container-id-1 a.estimator_doc_link {\n",
              "  float: right;\n",
              "  font-size: 1rem;\n",
              "  line-height: 1em;\n",
              "  font-family: monospace;\n",
              "  background-color: var(--sklearn-color-background);\n",
              "  border-radius: 1rem;\n",
              "  height: 1rem;\n",
              "  width: 1rem;\n",
              "  text-decoration: none;\n",
              "  /* unfitted */\n",
              "  color: var(--sklearn-color-unfitted-level-1);\n",
              "  border: var(--sklearn-color-unfitted-level-1) 1pt solid;\n",
              "}\n",
              "\n",
              "#sk-container-id-1 a.estimator_doc_link.fitted {\n",
              "  /* fitted */\n",
              "  border: var(--sklearn-color-fitted-level-1) 1pt solid;\n",
              "  color: var(--sklearn-color-fitted-level-1);\n",
              "}\n",
              "\n",
              "/* On hover */\n",
              "#sk-container-id-1 a.estimator_doc_link:hover {\n",
              "  /* unfitted */\n",
              "  background-color: var(--sklearn-color-unfitted-level-3);\n",
              "  color: var(--sklearn-color-background);\n",
              "  text-decoration: none;\n",
              "}\n",
              "\n",
              "#sk-container-id-1 a.estimator_doc_link.fitted:hover {\n",
              "  /* fitted */\n",
              "  background-color: var(--sklearn-color-fitted-level-3);\n",
              "}\n",
              "</style><div id=\"sk-container-id-1\" class=\"sk-top-container\"><div class=\"sk-text-repr-fallback\"><pre>GaussianNB()</pre><b>In a Jupyter environment, please rerun this cell to show the HTML representation or trust the notebook. <br />On GitHub, the HTML representation is unable to render, please try loading this page with nbviewer.org.</b></div><div class=\"sk-container\" hidden><div class=\"sk-item\"><div class=\"sk-estimator fitted sk-toggleable\"><input class=\"sk-toggleable__control sk-hidden--visually\" id=\"sk-estimator-id-1\" type=\"checkbox\" checked><label for=\"sk-estimator-id-1\" class=\"sk-toggleable__label fitted sk-toggleable__label-arrow\"><div><div>GaussianNB</div></div><div><a class=\"sk-estimator-doc-link fitted\" rel=\"noreferrer\" target=\"_blank\" href=\"https://scikit-learn.org/1.6/modules/generated/sklearn.naive_bayes.GaussianNB.html\">?<span>Documentation for GaussianNB</span></a><span class=\"sk-estimator-doc-link fitted\">i<span>Fitted</span></span></div></label><div class=\"sk-toggleable__content fitted\"><pre>GaussianNB()</pre></div> </div></div></div></div>"
            ]
          },
          "metadata": {},
          "execution_count": 27
        }
      ]
    },
    {
      "cell_type": "code",
      "source": [
        "# Predicting the Test set results\n",
        "y_pred = classifier.predict(X_test_scale)"
      ],
      "metadata": {
        "id": "rQRPSXzWtjtX"
      },
      "execution_count": 28,
      "outputs": []
    },
    {
      "cell_type": "code",
      "source": [
        "# Making the Confusion Matrix\n",
        "from sklearn.metrics import confusion_matrix\n",
        "#cm = confusion_matrix(y_test, y_pred)\n",
        "cm = confusion_matrix(y_test, y_pred)\n",
        "cm"
      ],
      "metadata": {
        "colab": {
          "base_uri": "https://localhost:8080/"
        },
        "id": "UlLQW_O-tr9q",
        "outputId": "9d6ef8f1-7cca-46a0-cdcc-b1ba53e8efc4"
      },
      "execution_count": 29,
      "outputs": [
        {
          "output_type": "execute_result",
          "data": {
            "text/plain": [
              "array([[103, 172],\n",
              "       [155, 813]])"
            ]
          },
          "metadata": {},
          "execution_count": 29
        }
      ]
    },
    {
      "cell_type": "code",
      "source": [
        "from sklearn.metrics import accuracy_score, recall_score\n",
        "print(accuracy_score(y_test, y_pred))\n",
        "#print(recall_score(y_test, y_pred))"
      ],
      "metadata": {
        "colab": {
          "base_uri": "https://localhost:8080/"
        },
        "id": "D0knyEFDuRnZ",
        "outputId": "a8b6739a-4449-4bc8-e551-8a34128ac92c"
      },
      "execution_count": 30,
      "outputs": [
        {
          "output_type": "stream",
          "name": "stdout",
          "text": [
            "0.7369267900241352\n"
          ]
        }
      ]
    },
    {
      "cell_type": "markdown",
      "source": [
        "Made during the classes of MBA."
      ],
      "metadata": {
        "id": "6dBilF7dumFS"
      }
    }
  ]
}